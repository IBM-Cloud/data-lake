{
 "cells": [
  {
   "cell_type": "markdown",
   "metadata": {},
   "source": [
    "# Using IBM Cloud SQL Query to analyze LogDNA data"
   ]
  },
  {
   "cell_type": "markdown",
   "metadata": {},
   "source": [
    "\n",
    "**IBM Cloud SQL Query** is IBM's serverless SQL service on data in **Cloud Object Storage**. It allows to run ANSI SQL on Parquet, CSV and JSON data sets. It is based on Apache Spark SQL as the query engine in the background. It can also be used to pre-process and analyze the log archives that LogDNA writes. The below Notebook uses the the Python SDK from IBM Cloud SQL Query. Further details on the Python SDK could be found in  <a href=\"https://github.com/IBM-Cloud/sql-query-clients/tree/master/Python\" target=\"_blank\">Git</a> <br><br>\n",
    "\n",
    "**LogDNA** is a cloud-based log management software that aggregates all system and application logs in one centralized logging system. LogDNA keeps your logs only for a limited period of time.\n",
    "However, LogDNA can be configured to **export logs from LogDNA to IBM Cloud Object Storage**. Archived logs are in JSON format and preserve metadata associated with each line. Logs will be exported daily in a compressed format (.json.gz).\n",
    "<br><br>\n",
    "\n",
    "This notebook gives an overview on the SQL Query features that help with preparing the log archives for further analysis. Furthermore it shows how to query the logs with SQL to filter out the \"noise\" in your data.\n",
    "The start of the notebook shows how to work with your own LogDNA data and the chapter 5 focus on existing ingress sample log data."
   ]
  },
  {
   "cell_type": "markdown",
   "metadata": {},
   "source": [
    "## Table of contents\n",
    "1. [Setup libraries](#setup)<br>\n",
    "2. [Configure SQL Query](#configure)<br>\n",
    "3. [Prepare LogDNA dumps for analysis](#prepare)<br>\n",
    "4. [How to work with SQL Query vs. LogDNA UI](#comparison)<br>\n",
    "    4.1 [Filtering by sources, apps, levels or tags](#filter)<br>\n",
    "    4.2 [Field search on parsed fields](#fieldsearch)<br>\n",
    "    4.3 [Jump to timeframe](#jumptime)<br>\n",
    "    4.4 [Retrieving schema information](#schema)<br>\n",
    "5. [Using SQL Query for log analysis](#loganalysis)<br>"
   ]
  },
  {
   "cell_type": "markdown",
   "metadata": {},
   "source": [
    "### <a id=\"setup\"></a> 1. Setup libraries"
   ]
  },
  {
   "cell_type": "markdown",
   "metadata": {},
   "source": [
    "Run the following cell at least once in your notebook environment in order to install required packages, such as the SQL Query client library:"
   ]
  },
  {
   "cell_type": "code",
   "execution_count": 1,
   "metadata": {},
   "outputs": [],
   "source": [
    "!pip -q install ibmcloudsql\n",
    "!pip -q install sqlparse"
   ]
  },
  {
   "cell_type": "code",
   "execution_count": 2,
   "metadata": {},
   "outputs": [
    {
     "name": "stdout",
     "output_type": "stream",
     "text": [
      "Pixiedust database opened successfully\n",
      "Table VERSION_TRACKER created successfully\n",
      "Table METRICS_TRACKER created successfully\n",
      "\n",
      "Share anonymous install statistics? (opt-out instructions)\n",
      "\n",
      "PixieDust will record metadata on its environment the next time the package is installed or updated. The data is anonymized and aggregated to help plan for future releases, and records only the following values:\n",
      "\n",
      "{\n",
      "   \"data_sent\": currentDate,\n",
      "   \"runtime\": \"python\",\n",
      "   \"application_version\": currentPixiedustVersion,\n",
      "   \"space_id\": nonIdentifyingUniqueId,\n",
      "   \"config\": {\n",
      "       \"repository_id\": \"https://github.com/ibm-watson-data-lab/pixiedust\",\n",
      "       \"target_runtimes\": [\"Data Science Experience\"],\n",
      "       \"event_id\": \"web\",\n",
      "       \"event_organizer\": \"dev-journeys\"\n",
      "   }\n",
      "}\n",
      "You can opt out by calling pixiedust.optOut() in a new cell.\n"
     ]
    },
    {
     "data": {
      "text/html": [
       "\n",
       "        <div style=\"margin:10px\">\n",
       "            <a href=\"https://github.com/ibm-watson-data-lab/pixiedust\" target=\"_new\">\n",
       "                <img src=\"https://github.com/ibm-watson-data-lab/pixiedust/raw/master/docs/_static/pd_icon32.png\" style=\"float:left;margin-right:10px\"/>\n",
       "            </a>\n",
       "            <span>Pixiedust version 1.1.17</span>\n",
       "        </div>\n",
       "        "
      ],
      "text/plain": [
       "<IPython.core.display.HTML object>"
      ]
     },
     "metadata": {},
     "output_type": "display_data"
    },
    {
     "name": "stdout",
     "output_type": "stream",
     "text": [
      "\u001b[31mPixiedust runtime updated. Please restart kernel\u001b[0m\n",
      "Table USER_PREFERENCES created successfully\n",
      "Table service_connections created successfully\n"
     ]
    }
   ],
   "source": [
    "import ibmcloudsql\n",
    "from pixiedust.display import *\n",
    "import pandas as pd\n",
    "logDNADump=''\n",
    "targetUrl=''\n",
    "logData=''"
   ]
  },
  {
   "cell_type": "markdown",
   "metadata": {},
   "source": [
    "### <a id=\"configure\"></a> 2. Configure SQL Query\n",
    "1. You need an **API key** for an IBM cloud identity that has access to your Cloud Object Storage bucket for writing SQL results and to your SQL Query instance. To create API keys log on to the IBM Cloud console and go to <a href=\"https://console.bluemix.net/iam/#/apikeys\" target=\"_blank\">Manage->Security->Platform API Keys</a>, click the `Create` button, give the key a custom name and click `Create`. In the next dialog click `Show` and copy the key to your clipboard and paste it below in this notebook.\n",
    "2. You need the **instance CRN** for the SQL Query instance. You can find it in the <a href=\"https://console.bluemix.net/dashboard/apps\" target=\"_blank\">IBM Cloud console dashboard</a>. Make sure you have `All Resources` selected as resource group. In the section `Services` you can see your instances of SQL Query and Cloud Object Storage. Select the instance of SQL Query that you want to use. In the SQL Query dashboard page that opens up you find a section titled **REST API** with a button labelled **Instance CRN**. Click the button to copy the CRN into your clipboard and paste it here into the notebook. If you don't have an SQL Query instance created yet, <a href=\"https://console.bluemix.net/catalog/services/sql-query\" target=\"_blank\">create one</a> first.\n",
    "3. You need to specify the location on Cloud Object Storage where your **query results** should be written. This comprises three parts of information that you can find in the Cloud Object Storage UI for your instance in the IBM Cloud console. You need to provide it as a **URL** using the format `cos://<endpoint>/<bucket>/[<prefix>]`. You have the option to use the cloud object storage **bucket that is associated with your project**. In this case, execute the following section before you proceed.  \n",
    "4. You need to specify the location on Cloud Object Storage where your **logDNA objects are stored**. \n",
    "5. You need to specify the location on Cloud Object Storage where your pre-processed log data is stored. See below for an example pre-processing query.\n",
    "<br/>\n",
    "\n",
    "For more background information, check out the SQL Query <a href=\"https://console.bluemix.net/docs/services/sql-query/getting-started.html#getting-started-tutorial\" target=\"_blank\">documentation</a>."
   ]
  },
  {
   "cell_type": "code",
   "execution_count": null,
   "metadata": {},
   "outputs": [],
   "source": [
    "import getpass\n",
    "import sqlparse\n",
    "from pygments import highlight\n",
    "from pygments.lexers import get_lexer_by_name\n",
    "from pygments.formatters import HtmlFormatter, Terminal256Formatter\n",
    "from IPython.core.display import display, HTML\n",
    "\n",
    "apikey=getpass.getpass('Enter IBM Cloud API Key (leave empty to use previous one): ') or apikey\n",
    "instancecrn=input('Enter SQL Query Instance CRN (leave empty to use previous one): ') or instancecrn\n",
    "\n",
    "sqlClient = ibmcloudsql.SQLQuery(apikey, instancecrn, client_info='SQL Query Starter Notebook')\n",
    "sqlClient.logon()\n",
    "print('\\nYour SQL Query web console link:')\n",
    "sqlClient.sql_ui_link()\n",
    "print('\\n')\n",
    "\n",
    "# Specify where to write write query results:\n",
    "if targetUrl == '':\n",
    "    targetUrl=input('Enter target URL for SQL results (like cos://us-south/resultBucket/notebookResults): ')\n",
    "else:\n",
    "    targetUrl=input('Enter target URL for SQL results (leave empty to use ' + targetUrl + '): ') or targetUrl\n",
    "\n",
    "# Specify where the location of logdna dumps:\n",
    "if logDNADump == '':\n",
    "    logDNADump=input('Enter URL for LogDNA archive data (like cos://us-south/archiveBucket): ')\n",
    "else:\n",
    "    logDNADump=input('Enter URL for LogDNA archive data (leave empty to use ' + logDNADump + '): ') or logDNADump\n",
    "\n",
    "# Specify where to find the preprocessed log data: \n",
    "if logData == '':\n",
    "    logData=input('Enter URL where to store preprocessed log data (like cos://us-south/preprocessedBucket): ')\n",
    "else:\n",
    "    logData = input('\\nEnter URL where to store preprocessed log data (leave empty to use ' + logData + '): ') or logData\n",
    "\n",
    "# For pretty-printing SQL statements\n",
    "def format_sql(sql):\n",
    "    formatted_sql = sqlparse.format(sql, reindent=True, indent_tabs=True, keyword_case='upper')\n",
    "    lexer = get_lexer_by_name(\"sql\", stripall=True)\n",
    "    formatter = Terminal256Formatter(style='tango')\n",
    "    return (highlight(formatted_sql, lexer, formatter))"
   ]
  },
  {
   "cell_type": "markdown",
   "metadata": {},
   "source": [
    "### <a id=\"prepare\"></a> 3. Prepare LogDNA dumps for analysis\n",
    "You first have to <a href=\"https://docs.logdna.com/docs/archiving#section-ibm-cloud-object-storage-archiving\" target=\"_blank\">configure LogDNA to archive the log files to IBM Cloud Object Store</a>. Once archiving is configured for your account, your logs will be exported on a daily or hourly basis in a compressed format (.json.gz). \n",
    "\n",
    "**Note: The following just demonstrates how the preparation of log files would look like sql-wise. You probably want to run this regularly as an automated task on your LogDNA dumps to have the data prepared for log analysis.**\n",
    "\n",
    "It is possible to query json.gz with SQL Query directly. However, we would not recommend this format as it limits Spark's possibility to process the file in parallel. See <a href=\"https://www.ibm.com/cloud/blog/big-data-layout\" target=\"_blank\">How to Layout Big Data in IBM Cloud Object Storage for Spark SQL</a> for details. \n",
    "\n",
    "To improve query performance the data can be partitioned in more manageable junks, for example by hour or application. This allows Spark to skip whole partitions if the respective data is not queried."
   ]
  },
  {
   "cell_type": "code",
   "execution_count": null,
   "metadata": {},
   "outputs": [],
   "source": [
    "sqlClient.logon()\n",
    "\n",
    "sql = \"SELECT *, \" + \\\n",
    "    \"date_format(from_unixtime(_source._ts / 1000, 'yyyy-MM-dd HH:mm:ss'), 'yyyy') AS _year, \" + \\\n",
    "    \"date_format(from_unixtime(_source._ts / 1000, 'yyyy-MM-dd HH:mm:ss'), 'D') AS _dayofyear, \" + \\\n",
    "    \"date_format(from_unixtime(_source._ts / 1000, 'yyyy-MM-dd HH:mm:ss'), 'HH') AS _hour \" + \\\n",
    "    \"FROM {} STORED AS JSON \" + \\\n",
    "    \"INTO {} STORED AS JSON PARTITIONED BY (_year, _dayofyear, _hour)\"\n",
    "sql = sql.format(logDNADump, logData)\n",
    "print(format_sql(sql))\n",
    "\n",
    "jobId = sqlClient.submit_sql(sql)\n",
    "print(\"SQL query submitted and running in the background. Could take some time depending on the size of your archive data. jobId = \" + jobId)\n",
    "job_status = sqlClient.wait_for_job(jobId)\n",
    "\n",
    "print(\"\\nJob \" + jobId + \" finished with status: \" + job_status)\n",
    "if job_status == 'failed':\n",
    "    details = sqlClient.get_job(jobId)\n",
    "    print(\"\\nError: {}\\nError Message: {}\".format(details['error'], details['error_message']))\n",
    "print(\"\\nResult stored in: \" + sqlClient.get_job(jobId)['resultset_location'])"
   ]
  },
  {
   "cell_type": "markdown",
   "metadata": {},
   "source": [
    "### <a id=\"comparison\"></a> 4. How to work with SQL query compared to LogDNA UI\n",
    "Now your preprocessed log data is ready for analysis. But before we get started, we give a quick overview on how to work with SQL Query compared to the LogDNA UI to perform tasks that you need for log analysis like filtering or searching log records. \n",
    "\n",
    "#### 4.1<a id=\"filter\"></a> Filtering by sources, apps, levels or tags:\n",
    " - **LogDNA**: \n",
    " Use the respective drop-down to select one or more sources, apps, log levels or tags.\n",
    " <br><br>\n",
    " - **SQL Query**: \n",
    " Filter on the respective column. The log record's source, app, log level or tags (if defined) are stored along with the log record also for archived logs.\n",
    "     - for source:\n",
    "```sql \n",
    "WHERE _source._host IN(\"source1\", \"source2\")\n",
    "```\n",
    "     - for app:\n",
    "```sql \n",
    "WHERE _source._app IN(\"app1\", \"app2\")\n",
    "```\n",
    "    - for level: \n",
    "```sql \n",
    "WHERE _source.level IN(\"level1\", \"level2\")\n",
    "```\n",
    "    - for tags: You have to explode the tags array before you can query it.\n",
    "```sql \n",
    "WHERE array_contains(_source._tag, \"someTag\")\n",
    "```\n",
    "\n",
    "#### 4.2<a id=\"fieldsearch\"></a> Field search on parsed fields:\n",
    "  - **LogDNA**:\n",
    "  In the search input field you enter your search term: \n",
    "      - for prefix match on the parsed field (case insensitive): `<name of parsed field>:<some value>` \n",
    "      - for term match(case insensitive): `<name of parsed field>:==<some value>`\n",
    "      - for prefix match on the parsed field (case sensitive): `<name of parsed field>:=<some value>`\n",
    "      - for term match(case sensitive): `<name of parsed field>:===<some value>`\n",
    "      - for list of prefix matches (case insensitive): `<name of parsed field>:[value1, value2]`\n",
    "      - find log records that contain the parsed field, the value doesn't matter: `<name of parsed field>:*`\n",
    "<br><br>\n",
    "  - **SQL Query**:\n",
    "  When archiving the log records all parsed fields are preserved in the log records, so it is possible to query them with SQL Query. You don't have the full-text search capability of LogDNA, however you can work with the LIKE operator and wildcards on specific fields.\n",
    "      - for prefix match on the parsed field (case sensitive):\n",
    "```sql \n",
    "WHERE _source.nameOfParsedField LIKE \"SomeValue%\"\n",
    "```\n",
    "      - for term match on the parsed field\n",
    "```sql \n",
    "WHERE _source.nameOfParsedField LIKE \"%SomeValue%\"\n",
    "```\n",
    "If in addition case insensitive search is required, the field can be converted to lower case with LOWER(). Make sure to use a lower case search pattern in this case, for example:\n",
    "```sql \n",
    "WHERE LOWER(_source.nameOfParsedField) LIKE \"%somevalue%\"\n",
    "```\n",
    "      - for list of prefix matches:\n",
    "```sql \n",
    "WHERE _source.nameOfParsedField LIKE \"value1%\" OR _source.nameOfParsedField LIKE \"value2%\"\n",
    "```\n",
    "      - find log records that contain the parsed field, the value doesn't matter:\n",
    "```sql \n",
    "WHERE _source.nameOfParsedField IS NOT NULL\n",
    "```  \n",
    "\n",
    "#### 4.3<a id=\"jumptime\"></a> Jump to timeframe: \n",
    "  - **LogDNA**: In the Jump to timeframe box you can enter the desired day and time, e.g. today at 11am or a timeframe, e.g. last fri 4:30p to 11/12 1 AM. \n",
    "  - **SQL Query**: The LogDNA archived logs contain the field _source._ts which contains a timestamp in milli-second granularity in UTC. Find an example below on how to convert a local datetime string into timestamp that you can use in your query.\n",
    "  \n",
    "\n"
   ]
  },
  {
   "cell_type": "code",
   "execution_count": 5,
   "metadata": {},
   "outputs": [
    {
     "name": "stdout",
     "output_type": "stream",
     "text": [
      "WHERE _source._ts = 1566071695000.0 AND _year = '2019' AND _dayofyear = '229' AND _hour = 19\n"
     ]
    }
   ],
   "source": [
    "from datetime import datetime, timezone, timedelta\n",
    "from dateutil import tz\n",
    "\n",
    "# For example, we want to convert this date and time string\n",
    "jumpToTime = \"2019-8-17 21:54:55\"\n",
    "\n",
    "# Adjust for your timezone\n",
    "#input_timezone = tz.gettz('America/New_York')\n",
    "input_timezone = tz.gettz('Europe/Berlin')\n",
    "\n",
    "\n",
    "jumpToUTC = datetime.strptime(jumpToTime, '%Y-%m-%d %H:%M:%S')\\\n",
    "    .replace(tzinfo=input_timezone) \\\n",
    "    .astimezone(tz=timezone.utc) \n",
    "year = datetime.strftime(jumpToUTC, '%Y')\n",
    "dayofyear = datetime.strftime(jumpToUTC, '%j')\n",
    "hour = datetime.strftime(jumpToUTC, '%H')\n",
    "\n",
    "jumpToTimestamp = jumpToUTC.timestamp() * 1000\n",
    "\n",
    "print(\"WHERE _source._ts = {} AND _year = '{}' AND _dayofyear = '{}' AND _hour = {}\".format(jumpToTimestamp, year, dayofyear, hour))"
   ]
  },
  {
   "cell_type": "markdown",
   "metadata": {},
   "source": [
    "#### 4.4<a id=\"schema\"></a> Retrieving schema information: \n",
    "\n",
    "##### 1. Get a list of sources and application names:\n",
    "LogDNA UI lists the application and sources, that you log data for, in the respective drop-down lists.  \n",
    "With SQL Query this information can be retrieved as follows:"
   ]
  },
  {
   "cell_type": "code",
   "execution_count": 22,
   "metadata": {},
   "outputs": [
    {
     "name": "stdout",
     "output_type": "stream",
     "text": [
      "\u001b[38;5;24;01mSELECT\u001b[39;00m \u001b[38;5;0m_source\u001b[39m\u001b[38;5;0;01m.\u001b[39;00m\u001b[38;5;0m_app\u001b[39m \u001b[38;5;24;01mAS\u001b[39;00m \u001b[38;5;0mapplication\u001b[39m\u001b[38;5;0;01m,\u001b[39;00m\n",
      "\t\u001b[38;5;0m_source\u001b[39m\u001b[38;5;0;01m.\u001b[39;00m\u001b[38;5;0m_host\u001b[39m \u001b[38;5;24;01mAS\u001b[39;00m \u001b[38;5;24;01mSOURCE\u001b[39;00m\n",
      "\u001b[38;5;24;01mFROM\u001b[39;00m \u001b[38;5;0mcos\u001b[39m\u001b[38;5;0;01m:\u001b[39;00m\u001b[38;5;166;01m/\u001b[39;00m\u001b[38;5;166;01m/\u001b[39;00m\u001b[38;5;0mus\u001b[39m\u001b[38;5;166;01m-\u001b[39;00m\u001b[38;5;0mgeo\u001b[39m\u001b[38;5;166;01m/\u001b[39;00m\u001b[38;5;24;01msql\u001b[39;00m\u001b[38;5;166;01m/\u001b[39;00m\u001b[38;5;0mLogDNA\u001b[39m \u001b[38;5;0mSTORED\u001b[39m \u001b[38;5;24;01mAS\u001b[39;00m \u001b[38;5;0mJSON\u001b[39m \u001b[38;5;24;01mGROUP\u001b[39;00m \u001b[38;5;24;01mBY\u001b[39;00m \u001b[38;5;0mapplication\u001b[39m\u001b[38;5;0;01m,\u001b[39;00m \u001b[38;5;24;01msource\u001b[39;00m \u001b[38;5;24;01mORDER\u001b[39;00m \u001b[38;5;24;01mBY\u001b[39;00m \u001b[38;5;0mapplication\u001b[39m\u001b[38;5;0;01m,\u001b[39;00m \u001b[38;5;24;01msource\u001b[39;00m \u001b[38;5;24;01mINTO\u001b[39;00m \u001b[38;5;0mcos\u001b[39m\u001b[38;5;0;01m:\u001b[39;00m\u001b[38;5;166;01m/\u001b[39;00m\u001b[38;5;166;01m/\u001b[39;00m\u001b[38;5;0mus\u001b[39m\u001b[38;5;166;01m-\u001b[39;00m\u001b[38;5;0msouth\u001b[39m\u001b[38;5;166;01m/\u001b[39;00m\u001b[38;5;0mexpire\u001b[39m\u001b[38;5;166;01m/\u001b[39;00m\u001b[38;5;24;01mresult\u001b[39;00m \u001b[38;5;0mSTORED\u001b[39m \u001b[38;5;24;01mAS\u001b[39;00m \u001b[38;5;0mCSV\u001b[39m\n",
      "\n"
     ]
    },
    {
     "data": {
      "text/html": [
       "<div>\n",
       "<style scoped>\n",
       "    .dataframe tbody tr th:only-of-type {\n",
       "        vertical-align: middle;\n",
       "    }\n",
       "\n",
       "    .dataframe tbody tr th {\n",
       "        vertical-align: top;\n",
       "    }\n",
       "\n",
       "    .dataframe thead th {\n",
       "        text-align: right;\n",
       "    }\n",
       "</style>\n",
       "<table border=\"1\" class=\"dataframe\">\n",
       "  <thead>\n",
       "    <tr style=\"text-align: right;\">\n",
       "      <th></th>\n",
       "      <th>application</th>\n",
       "      <th>source</th>\n",
       "    </tr>\n",
       "  </thead>\n",
       "  <tbody>\n",
       "    <tr>\n",
       "      <th>0</th>\n",
       "      <td>nginx-ingress</td>\n",
       "      <td>public-cr5ff87ab416044e60b8f8b19c1da44ccc-alb1...</td>\n",
       "    </tr>\n",
       "    <tr>\n",
       "      <th>1</th>\n",
       "      <td>nginx-ingress</td>\n",
       "      <td>public-cr5ff87ab416044e60b8f8b19c1da44ccc-alb1...</td>\n",
       "    </tr>\n",
       "    <tr>\n",
       "      <th>2</th>\n",
       "      <td>nginx-ingress</td>\n",
       "      <td>public-cr5ff87ab416044e60b8f8b19c1da44ccc-alb1...</td>\n",
       "    </tr>\n",
       "    <tr>\n",
       "      <th>3</th>\n",
       "      <td>nginx-ingress</td>\n",
       "      <td>public-cr5ff87ab416044e60b8f8b19c1da44ccc-alb1...</td>\n",
       "    </tr>\n",
       "  </tbody>\n",
       "</table>\n",
       "</div>"
      ],
      "text/plain": [
       "     application                                             source\n",
       "0  nginx-ingress  public-cr5ff87ab416044e60b8f8b19c1da44ccc-alb1...\n",
       "1  nginx-ingress  public-cr5ff87ab416044e60b8f8b19c1da44ccc-alb1...\n",
       "2  nginx-ingress  public-cr5ff87ab416044e60b8f8b19c1da44ccc-alb1...\n",
       "3  nginx-ingress  public-cr5ff87ab416044e60b8f8b19c1da44ccc-alb1..."
      ]
     },
     "execution_count": 22,
     "metadata": {},
     "output_type": "execute_result"
    }
   ],
   "source": [
    "sqlClient.logon()\n",
    "\n",
    "sql = \"SELECT _source._app AS application , _source._host AS source \" + \\\n",
    "    \"FROM {} STORED AS JSON \" + \\\n",
    "    \"GROUP BY application, source \" + \\\n",
    "    \"ORDER BY application, source \" + \\\n",
    "    \"INTO {} STORED AS CSV\"\n",
    "\n",
    "sql = sql.format(logData, targetUrl)\n",
    "print(format_sql(sql))\n",
    "\n",
    "result_df = sqlClient.run_sql(sql)\n",
    "\n",
    "if isinstance(result_df, str):\n",
    "    print(result_df)\n",
    "    \n",
    "result_df.head(4)"
   ]
  },
  {
   "cell_type": "markdown",
   "metadata": {},
   "source": [
    "##### 2. Retrieve schema information for a specific application:\n",
    "Schema information is needed to know which fields are available for querying. You can look at the LogDNA UI and expand the respective log line, there you find the field names. <br>\n",
    "As a general rule:\n",
    "* fields generated by LogDNA start with a underscore in the archived log records, e.g. \\_source, \\_app\n",
    "* fields parsed from log records are passed along as is to the archived logs, e.g. level \n",
    "<br>\n",
    "\n",
    "With SQL Query schema information can be retrieved by using <a href=\"https://cloud.ibm.com/docs/services/sql-query?topic=sql-query-sql-reference#tableTransformer\" target=\"_blank\">DESCRIBE</a>. Running DESCRIBE on the whole log file results in a schema that gives you the fields for all applications. To get a more manageable schema file, first retrieve the logs for the application you are interested in and then run DESCRIBE on it. This returns a JSON object. Then you can switch to the SQL Query UI to view its content. Alternatively you can run <a href=\"https://cloud.ibm.com/docs/services/sql-query?topic=sql-query-sql-reference#tableTransformer\" target=\"_blank\">FLATTEN</a> before DESCRIBE to flatten the nested JSON and then retrieve the result to view in the notebook.  "
   ]
  },
  {
   "cell_type": "code",
   "execution_count": null,
   "metadata": {},
   "outputs": [],
   "source": [
    "sqlClient.logon()\n",
    "\n",
    "sql = \"SELECT * \" + \\\n",
    "    \"FROM {} STORED AS JSON \" + \\\n",
    "    \"WHERE _source._app = 'nginx-ingress' AND _source._status IS NOT NULL \" + \\\n",
    "    \"INTO {} STORED AS JSON\"\n",
    "\n",
    "sql = sql.format(logData, targetUrl)\n",
    "print(format_sql(sql))\n",
    "\n",
    "jobid_ingress = sqlClient.submit_sql(sql)\n",
    "job_status = sqlClient.wait_for_job(jobid_ingress)\n",
    "if job_status == 'failed':\n",
    "    details = sqlClient.get_job(jobid_ingress)\n",
    "    print(\"Error: {}\\nError Message: {}\".format(details['error'], details['error_message']))\n",
    "print(\"jobId: \" + jobid_ingress + \"\\n\")\n",
    "\n",
    "details = sqlClient.get_job(jobid_ingress)\n",
    "ingress_records = details['resultset_location']\n",
    "sql = \"SELECT * FROM DESCRIBE(FLATTEN({} STORED AS JSON)) \" + \\\n",
    "    \"INTO {} STORED AS JSON\"\n",
    "\n",
    "sql = sql.format(ingress_records, targetUrl)\n",
    "print(format_sql(sql))\n",
    "jobid_schema = sqlClient.submit_sql(sql)\n",
    "job_status = sqlClient.wait_for_job(jobid_schema)\n",
    "if job_status == 'failed':\n",
    "    details = sqlClient.get_job(jobid_schema)\n",
    "    print(\"Error: {}\\nError Message: {}\".format(details['error'], details['error_message']))\n",
    "\n",
    "print(\"jobId: \" + jobid_schema)\n",
    "\n",
    "print('\\nUse SQL Query UI to view the results')\n",
    "sqlClient.sql_ui_link()"
   ]
  },
  {
   "cell_type": "code",
   "execution_count": 6,
   "metadata": {},
   "outputs": [
    {
     "name": "stdout",
     "output_type": "stream",
     "text": [
      "\n",
      "Schema information:\n"
     ]
    },
    {
     "data": {
      "text/html": [
       "<div>\n",
       "<style scoped>\n",
       "    .dataframe tbody tr th:only-of-type {\n",
       "        vertical-align: middle;\n",
       "    }\n",
       "\n",
       "    .dataframe tbody tr th {\n",
       "        vertical-align: top;\n",
       "    }\n",
       "\n",
       "    .dataframe thead th {\n",
       "        text-align: right;\n",
       "    }\n",
       "</style>\n",
       "<table border=\"1\" class=\"dataframe\">\n",
       "  <thead>\n",
       "    <tr style=\"text-align: right;\">\n",
       "      <th></th>\n",
       "      <th>name</th>\n",
       "      <th>nullable</th>\n",
       "      <th>type</th>\n",
       "    </tr>\n",
       "  </thead>\n",
       "  <tbody>\n",
       "    <tr>\n",
       "      <th>0</th>\n",
       "      <td>_dayofyear</td>\n",
       "      <td>True</td>\n",
       "      <td>long</td>\n",
       "    </tr>\n",
       "    <tr>\n",
       "      <th>1</th>\n",
       "      <td>_hour</td>\n",
       "      <td>True</td>\n",
       "      <td>long</td>\n",
       "    </tr>\n",
       "    <tr>\n",
       "      <th>2</th>\n",
       "      <td>_year</td>\n",
       "      <td>True</td>\n",
       "      <td>long</td>\n",
       "    </tr>\n",
       "    <tr>\n",
       "      <th>3</th>\n",
       "      <td>jobid</td>\n",
       "      <td>True</td>\n",
       "      <td>string</td>\n",
       "    </tr>\n",
       "    <tr>\n",
       "      <th>4</th>\n",
       "      <td>_source__app</td>\n",
       "      <td>True</td>\n",
       "      <td>string</td>\n",
       "    </tr>\n",
       "    <tr>\n",
       "      <th>5</th>\n",
       "      <td>_source__file</td>\n",
       "      <td>True</td>\n",
       "      <td>string</td>\n",
       "    </tr>\n",
       "    <tr>\n",
       "      <th>6</th>\n",
       "      <td>_source__host</td>\n",
       "      <td>True</td>\n",
       "      <td>string</td>\n",
       "    </tr>\n",
       "    <tr>\n",
       "      <th>7</th>\n",
       "      <td>_source__lid</td>\n",
       "      <td>True</td>\n",
       "      <td>string</td>\n",
       "    </tr>\n",
       "    <tr>\n",
       "      <th>8</th>\n",
       "      <td>_source__logtype</td>\n",
       "      <td>True</td>\n",
       "      <td>string</td>\n",
       "    </tr>\n",
       "    <tr>\n",
       "      <th>9</th>\n",
       "      <td>_source__status</td>\n",
       "      <td>True</td>\n",
       "      <td>string</td>\n",
       "    </tr>\n",
       "    <tr>\n",
       "      <th>10</th>\n",
       "      <td>_source__ts</td>\n",
       "      <td>True</td>\n",
       "      <td>string</td>\n",
       "    </tr>\n",
       "    <tr>\n",
       "      <th>11</th>\n",
       "      <td>_source_container</td>\n",
       "      <td>True</td>\n",
       "      <td>string</td>\n",
       "    </tr>\n",
       "    <tr>\n",
       "      <th>12</th>\n",
       "      <td>_source_containerid</td>\n",
       "      <td>True</td>\n",
       "      <td>string</td>\n",
       "    </tr>\n",
       "    <tr>\n",
       "      <th>13</th>\n",
       "      <td>_source_host</td>\n",
       "      <td>True</td>\n",
       "      <td>string</td>\n",
       "    </tr>\n",
       "    <tr>\n",
       "      <th>14</th>\n",
       "      <td>_source_namespace</td>\n",
       "      <td>True</td>\n",
       "      <td>string</td>\n",
       "    </tr>\n",
       "    <tr>\n",
       "      <th>15</th>\n",
       "      <td>_source_node</td>\n",
       "      <td>True</td>\n",
       "      <td>string</td>\n",
       "    </tr>\n",
       "    <tr>\n",
       "      <th>16</th>\n",
       "      <td>_source_request_id</td>\n",
       "      <td>True</td>\n",
       "      <td>string</td>\n",
       "    </tr>\n",
       "    <tr>\n",
       "      <th>17</th>\n",
       "      <td>_source_request_method</td>\n",
       "      <td>True</td>\n",
       "      <td>string</td>\n",
       "    </tr>\n",
       "    <tr>\n",
       "      <th>18</th>\n",
       "      <td>_source_request_time</td>\n",
       "      <td>True</td>\n",
       "      <td>string</td>\n",
       "    </tr>\n",
       "    <tr>\n",
       "      <th>19</th>\n",
       "      <td>_source_request_uri</td>\n",
       "      <td>True</td>\n",
       "      <td>string</td>\n",
       "    </tr>\n",
       "    <tr>\n",
       "      <th>20</th>\n",
       "      <td>_source_time_date</td>\n",
       "      <td>True</td>\n",
       "      <td>string</td>\n",
       "    </tr>\n",
       "    <tr>\n",
       "      <th>21</th>\n",
       "      <td>_source_upstream_connect_time</td>\n",
       "      <td>True</td>\n",
       "      <td>string</td>\n",
       "    </tr>\n",
       "    <tr>\n",
       "      <th>22</th>\n",
       "      <td>_source_upstream_header_time</td>\n",
       "      <td>True</td>\n",
       "      <td>string</td>\n",
       "    </tr>\n",
       "    <tr>\n",
       "      <th>23</th>\n",
       "      <td>_source_upstream_response_time</td>\n",
       "      <td>True</td>\n",
       "      <td>string</td>\n",
       "    </tr>\n",
       "    <tr>\n",
       "      <th>24</th>\n",
       "      <td>_source_upstream_status</td>\n",
       "      <td>True</td>\n",
       "      <td>string</td>\n",
       "    </tr>\n",
       "  </tbody>\n",
       "</table>\n",
       "</div>"
      ],
      "text/plain": [
       "                              name  nullable    type\n",
       "0                       _dayofyear      True    long\n",
       "1                            _hour      True    long\n",
       "2                            _year      True    long\n",
       "3                            jobid      True  string\n",
       "4                     _source__app      True  string\n",
       "5                    _source__file      True  string\n",
       "6                    _source__host      True  string\n",
       "7                     _source__lid      True  string\n",
       "8                 _source__logtype      True  string\n",
       "9                  _source__status      True  string\n",
       "10                     _source__ts      True  string\n",
       "11               _source_container      True  string\n",
       "12             _source_containerid      True  string\n",
       "13                    _source_host      True  string\n",
       "14               _source_namespace      True  string\n",
       "15                    _source_node      True  string\n",
       "16              _source_request_id      True  string\n",
       "17          _source_request_method      True  string\n",
       "18            _source_request_time      True  string\n",
       "19             _source_request_uri      True  string\n",
       "20               _source_time_date      True  string\n",
       "21   _source_upstream_connect_time      True  string\n",
       "22    _source_upstream_header_time      True  string\n",
       "23  _source_upstream_response_time      True  string\n",
       "24         _source_upstream_status      True  string"
      ]
     },
     "execution_count": 6,
     "metadata": {},
     "output_type": "execute_result"
    }
   ],
   "source": [
    "print('\\nSchema information:')\n",
    "result_schema = sqlClient.get_result(jobid_schema)\n",
    "sqlClient.get_result(jobid_schema)"
   ]
  },
  {
   "cell_type": "markdown",
   "metadata": {},
   "source": [
    "### 5<a id=\"aggregation\"></a> Use SQL query for log analysis\n",
    "In the following we will use SQL Query to analyze the ingress log records of a test system's kubernetes. First let's retrieve the request counts for each worker node along with the average request time and http status codes.<br>\n",
    "\n",
    "hint: \n",
    "- In the SQL Query UI you get a SQL Editor with syntax highlighting and validation, so it is probably most effective to use the UI to develop a SQL and then copy it over to the notebook.\n",
    "- You may submit SQL Query jobs to run in the background and then retrieve the results when the job is done. This allows you to continue the work on your notebook while the query is running.\n",
    "- Storing the job ID in your notebook allows you to retrieve the persisted results without having to rerun the query. "
   ]
  },
  {
   "cell_type": "code",
   "execution_count": 6,
   "metadata": {},
   "outputs": [
    {
     "name": "stdout",
     "output_type": "stream",
     "text": [
      "230\n"
     ]
    }
   ],
   "source": [
    "# Get day of year from date string\n",
    "from datetime import datetime\n",
    "dayofyear = datetime.strptime(\"2019-08-18\", '%Y-%m-%d').timetuple().tm_yday\n",
    "print(dayofyear)"
   ]
  },
  {
   "cell_type": "code",
   "execution_count": 27,
   "metadata": {},
   "outputs": [
    {
     "name": "stdout",
     "output_type": "stream",
     "text": [
      "\u001b[38;5;24;01mSELECT\u001b[39;00m \u001b[38;5;0m_source\u001b[39m\u001b[38;5;0;01m.\u001b[39;00m\u001b[38;5;0m_status\u001b[39m \u001b[38;5;24;01mAS\u001b[39;00m \u001b[38;5;0mstatus\u001b[39m\u001b[38;5;0;01m,\u001b[39;00m\n",
      "\t\u001b[38;5;24;01mCOUNT\u001b[39;00m\u001b[38;5;0;01m(\u001b[39;00m\u001b[38;5;0m_source\u001b[39m\u001b[38;5;0;01m.\u001b[39;00m\u001b[38;5;0m_status\u001b[39m\u001b[38;5;0;01m)\u001b[39;00m \u001b[38;5;24;01mAS\u001b[39;00m \u001b[38;5;0mstatus_count\u001b[39m\u001b[38;5;0;01m,\u001b[39;00m\n",
      "\t\u001b[38;5;0m_source\u001b[39m\u001b[38;5;0;01m.\u001b[39;00m\u001b[38;5;0mnode\u001b[39m \u001b[38;5;24;01mAS\u001b[39;00m \u001b[38;5;0mnode\u001b[39m\u001b[38;5;0;01m,\u001b[39;00m\n",
      "\t\u001b[38;5;24;01mAVG\u001b[39;00m\u001b[38;5;0;01m(\u001b[39;00m\u001b[38;5;0m_source\u001b[39m\u001b[38;5;0;01m.\u001b[39;00m\u001b[38;5;0mrequest_time\u001b[39m\u001b[38;5;0;01m)\u001b[39;00m \u001b[38;5;24;01mAS\u001b[39;00m \u001b[38;5;0mrequest_time\u001b[39m\u001b[38;5;0;01m,\u001b[39;00m\n",
      "\t\u001b[38;5;0mconcat\u001b[39m\u001b[38;5;0;01m(\u001b[39;00m\u001b[38;5;0mdate_format\u001b[39m\u001b[38;5;0;01m(\u001b[39;00m\u001b[38;5;0mfrom_unixtime\u001b[39m\u001b[38;5;0;01m(\u001b[39;00m\u001b[38;5;0m_source\u001b[39m\u001b[38;5;0;01m.\u001b[39;00m\u001b[38;5;0m_ts\u001b[39m \u001b[38;5;166;01m/\u001b[39;00m \u001b[38;5;20;01m1000\u001b[39;00m\u001b[38;5;0;01m,\u001b[39;00m \u001b[38;5;64m'yyyy-MM-dd HH:mm:ss'\u001b[39m\u001b[38;5;0;01m)\u001b[39;00m\u001b[38;5;0;01m,\u001b[39;00m \u001b[38;5;64m'yyyy-MM-dd'\u001b[39m\u001b[38;5;0;01m)\u001b[39;00m\u001b[38;5;0;01m,\u001b[39;00m \u001b[38;5;64m' '\u001b[39m\u001b[38;5;0;01m,\u001b[39;00m \u001b[38;5;0m_hour\u001b[39m\u001b[38;5;0;01m,\u001b[39;00m \u001b[38;5;64m':00:00'\u001b[39m\u001b[38;5;0;01m)\u001b[39;00m \u001b[38;5;24;01mAS\u001b[39;00m \u001b[38;5;0m_datetime\u001b[39m\n",
      "\u001b[38;5;24;01mFROM\u001b[39;00m \u001b[38;5;0mcos\u001b[39m\u001b[38;5;0;01m:\u001b[39;00m\u001b[38;5;166;01m/\u001b[39;00m\u001b[38;5;166;01m/\u001b[39;00m\u001b[38;5;0mus\u001b[39m\u001b[38;5;166;01m-\u001b[39;00m\u001b[38;5;0mgeo\u001b[39m\u001b[38;5;166;01m/\u001b[39;00m\u001b[38;5;24;01msql\u001b[39;00m\u001b[38;5;166;01m/\u001b[39;00m\u001b[38;5;0mLogDNA\u001b[39m \u001b[38;5;0mSTORED\u001b[39m \u001b[38;5;24;01mAS\u001b[39;00m \u001b[38;5;0mJSON\u001b[39m \u001b[38;5;24;01mWHERE\u001b[39;00m \u001b[38;5;0m_source\u001b[39m\u001b[38;5;0;01m.\u001b[39;00m\u001b[38;5;0m_app\u001b[39m \u001b[38;5;166;01m=\u001b[39;00m \u001b[38;5;64m'nginx-ingress'\u001b[39m \u001b[38;5;24;01mAND\u001b[39;00m \u001b[38;5;0m_source\u001b[39m\u001b[38;5;0;01m.\u001b[39;00m\u001b[38;5;0m_status\u001b[39m \u001b[38;5;24;01mIS\u001b[39;00m \u001b[38;5;24;01mNOT\u001b[39;00m \u001b[38;5;24;01mNULL\u001b[39;00m \u001b[38;5;24;01mAND\u001b[39;00m \u001b[38;5;0m_year\u001b[39m \u001b[38;5;166;01m=\u001b[39;00m \u001b[38;5;20;01m2019\u001b[39;00m \u001b[38;5;24;01mAND\u001b[39;00m \u001b[38;5;0m_dayofyear\u001b[39m \u001b[38;5;24;01mBETWEEN\u001b[39;00m \u001b[38;5;20;01m223\u001b[39;00m \u001b[38;5;24;01mand\u001b[39;00m \u001b[38;5;20;01m230\u001b[39;00m \u001b[38;5;24;01mGROUP\u001b[39;00m \u001b[38;5;24;01mBY\u001b[39;00m \u001b[38;5;0m_year\u001b[39m\u001b[38;5;0;01m,\u001b[39;00m \u001b[38;5;0m_dayofyear\u001b[39m\u001b[38;5;0;01m,\u001b[39;00m \u001b[38;5;0m_hour\u001b[39m\u001b[38;5;0;01m,\u001b[39;00m \u001b[38;5;0m_datetime\u001b[39m\u001b[38;5;0;01m,\u001b[39;00m \u001b[38;5;0m_source\u001b[39m\u001b[38;5;0;01m.\u001b[39;00m\u001b[38;5;0mnode\u001b[39m\u001b[38;5;0;01m,\u001b[39;00m \u001b[38;5;0m_source\u001b[39m\u001b[38;5;0;01m.\u001b[39;00m\u001b[38;5;0m_status\u001b[39m \u001b[38;5;24;01mINTO\u001b[39;00m \u001b[38;5;0mcos\u001b[39m\u001b[38;5;0;01m:\u001b[39;00m\u001b[38;5;166;01m/\u001b[39;00m\u001b[38;5;166;01m/\u001b[39;00m\u001b[38;5;0mus\u001b[39m\u001b[38;5;166;01m-\u001b[39;00m\u001b[38;5;0msouth\u001b[39m\u001b[38;5;166;01m/\u001b[39;00m\u001b[38;5;0mexpire\u001b[39m\u001b[38;5;166;01m/\u001b[39;00m\u001b[38;5;24;01mresult\u001b[39;00m \u001b[38;5;0mSTORED\u001b[39m \u001b[38;5;24;01mAS\u001b[39;00m \u001b[38;5;0mCSV\u001b[39m\n",
      "\n",
      "jobId: c4a03654-e46e-4de1-814c-dfb411155063\n"
     ]
    }
   ],
   "source": [
    "sqlClient.logon()\n",
    "# we switch now to sql query sample preprocessed data for the following queries\n",
    "logData = 'cos://us-geo/sql/LogDNA'\n",
    "\n",
    "# targetUrl = \n",
    "sql = \"SELECT _source._status AS status, COUNT(_source._status) AS status_count, _source.node AS node, \" + \\\n",
    "    \"AVG(_source.request_time) AS request_time, \" + \\\n",
    "    \"concat(date_format(from_unixtime(_source._ts / 1000, 'yyyy-MM-dd HH:mm:ss'), 'yyyy-MM-dd'), ' ', _hour, ':00:00') AS _datetime \" + \\\n",
    "    \"FROM {} STORED AS JSON \" + \\\n",
    "    \"WHERE _source._app = 'nginx-ingress' AND _source._status IS NOT NULL AND _year = 2019 AND _dayofyear BETWEEN 223 and 230 \" + \\\n",
    "    \"GROUP BY _year, _dayofyear, _hour, _datetime, _source.node, _source._status \" + \\\n",
    "    \"INTO {} STORED AS CSV \"\n",
    "\n",
    "sql = sql.format(logData, targetUrl)\n",
    "print(format_sql(sql))\n",
    "\n",
    "jobid = sqlClient.submit_sql(sql)\n",
    "print(\"jobId: \" + jobid)"
   ]
  },
  {
   "cell_type": "code",
   "execution_count": 28,
   "metadata": {},
   "outputs": [],
   "source": [
    "sqlClient.logon()\n",
    "job_status = sqlClient.wait_for_job(jobid)\n",
    "if job_status == 'failed':\n",
    "    details = sqlClient.get_job(jobid)\n",
    "    print(\"Error: {}\\nError Message: {}\".format(details['error'], details['error_message']))\n",
    "\n",
    "result_df = sqlClient.get_result(jobid)\n",
    "\n",
    "# Adjust datatypes for Pixiedust\n",
    "result_df['datetime'] = pd.to_datetime(result_df['_datetime'])\n",
    "result_df['status'] = result_df['status'].apply(str)\n",
    "#print(result_df.head())\n",
    "#print(result_df.info())"
   ]
  },
  {
   "cell_type": "markdown",
   "metadata": {},
   "source": [
    "Now let's plot the data ..."
   ]
  },
  {
   "cell_type": "code",
   "execution_count": null,
   "metadata": {
    "pixiedust": {
     "displayParams": {
      "chartsize": "88",
      "clusterby": "node",
      "dynamicfilter": "datetime",
      "handlerId": "lineChart",
      "keyFields": "datetime",
      "legend": "true",
      "lineChartType": "grouped",
      "logx": "false",
      "logy": "false",
      "mpld3": "false",
      "rendererId": "matplotlib",
      "rowCount": "240",
      "title": "Hourly traffic by worker node",
      "valueFields": "status_count"
     }
    },
    "scrolled": false
   },
   "outputs": [
    {
     "data": {
      "text/html": [
       "<style type=\"text/css\">.pd_warning{display:none;}</style><div class=\"pd_warning\"><em>Hey, there's something awesome here! To see it, open this notebook outside GitHub, in a viewer like Jupyter</em></div>\n",
       "        <div class=\"pd_save is-viewer-good\" style=\"padding-right:10px;text-align: center;line-height:initial !important;font-size: xx-large;font-weight: 500;color: coral;\">\n",
       "            Hourly traffic by worker node\n",
       "        </div>\n",
       "    <div id=\"chartFigurec211009d\" class=\"pd_save is-viewer-good\" style=\"overflow-x:auto\">\n",
       "            \n",
       "                    \n",
       "                            <center><img style=\"max-width:initial !important\" src=\"data:image/png;base64,iVBORw0KGgoAAAANSUhEUgAABREAAAGkCAYAAACmSmLKAAAABHNCSVQICAgIfAhkiAAAAAlwSFlzAAAOwwAADsMBx2+oZAAAADl0RVh0U29mdHdhcmUAbWF0cGxvdGxpYiB2ZXJzaW9uIDMuMC4yLCBodHRwOi8vbWF0cGxvdGxpYi5vcmcvOIA7rQAAIABJREFUeJzs3XlYVGX/P/D3sA0MICqbiAuKCKLmgmCouKDlQqLSoo+5VD+L0kzTzMIM2+zJx6X0eh63yiX98tXUvkKIpQKKKaCCaOCCgGLuoojIOvD5/cHDiWGGRTPBer+ua66Lc+5z7vM5Z86Zz3DPfc6tEhEBERERERERERERUQ2MGjoAIiIiIiIiIiIiatzYiEhERERERERERES1MqmpQERQXFwM3u1MRERERERERET016dSqWBmZgYjI/1+hwYbEUtKSpCWloaysrI/PTgiIiIiIiIiIiJqPBwcHNCqVSuoVCplnl4joojgwoULMDExgZubm8GWRyIiIiIiIiIiIvprERHk5+fj4sWLKC8vR9u2bZUyvUbEsrIy5OXloX379rC0tHykgRIREREREREREVHD0Wg0AICLFy8iLy8PXbt2BWBgYJXS0lIAgFqtfoThERERERERERERUWNgZWUFADh48CBOnToFoJbRmave80xERERERERERER/D5XtgiKC9PR0ALU0IhIREREREREREdHfl6mpKfLz8wH8RRoRBw4ciA8++OCB1l2/fj1atWr1kCPSd+7cOahUKpw/f75ey8fGxkKlUkGr1f65gf1J1q1bh9atW8PIyAjr169HcXExXnjhBTRp0uSR9nJVqVTYu3fvI9veX9n58+ehUqlw7ty5P1RP9XOjLo/rtaDVaqFSqRAbG9vQodBjgHms8WEe++thHrs/zGN0v5jLGh/msr8e5rL7w1z28P0lGhH/DlJTUzFmzBg4OzvX+CE8duxYtGnTBubm5mjVqhWmTZumtBY/TAsWLIBKpdJ5jR49WikvKSnB1KlTMXfuXFy6dAljx47Fli1bEBsbi0OHDuHKlSvKPg0dOhRNmzaFra0tgoKCkJ2drdQzcOBAve2oVCosWrTooe8TACxbtgwqlUrvy8/06dPRrVs3mJiYYMKECQbXzcjIwOjRo9GkSRNYW1ujf//+Oh+wZ8+exaBBg2BhYQEXFxd8++23BuvRarXw9vauNTHUFGd97N27F71794a5uTns7e3x9ttv65RHRkbC09MT5ubm8PLyQnx8/H3VX1JSgtmzZ6NVq1bQaDTo3r07duzYoVNe/dyoa5362LFjBwYPHgwbG5sak1tUVBR69eoFS0tLtGvXDqtWrap3/UVFRZg0aRI8PDxgZGT0wF+Q6ys7Oxs2Nja1fpkePXr0Y/OF7MCBAxgxYgTs7e0fypceejwxjzGP1RVnfTCPMY81hPXr1+OJJ56AtbU1bGxs4O/vjyNHjjR0WNQAmMuYy+qKsz6Yy5jLGtqMGTOgUqnw9ddf3/e6bER8TBQUFKBjx45Yvnx5jcv4+flh69atOHPmDDZt2oSYmBjMnDnzocVQXFys/O3j44MrV64or6q/Xly+fBlFRUUICAiAk5MTLCwskJmZiU6dOqFLly5o0aIFACAwMBBNmzZFfHw8oqOjkZubi/Hjxyv17NixQ2cblR9iY8aMeWj7VOnUqVNYsWKFMuJQVUZGRpg6dSqGDBlicN0bN26gX79+cHZ2xv79+5GUlITp06crv+6VlpYiICAAdnZ2OHLkCObPn4/g4GDs27dPr65PPvkEtra2DxRnXWJiYhAUFITx48fjxIkTiI6O1tmn06dPK+VJSUno27cvRowYgZycnHpv45///Ce2bNmCjRs3IjU1FePHj8fYsWNx+vRpAIbPjbrWqY+CggL4+/vjvffeM1ienJyMUaNGYcKECThx4gQWL16MuXPnYvv27fWqv6ysDFZWVpg7dy66detW77gehIhg8uTJ8PX1rXGZdevWobCw8E+N42G6d+8eevXqhYULFzZ0KNSAmMeYx+qKsy7MY8xjDaVFixb4/PPPkZycjPj4eHTs2BFDhw5FXl5eQ4dGjxhzGXNZXXHWhbmMuayhRUdHIzY2Fk5OTg9WgVRTUFAgR48elYKCgupFjdaAAQNk3rx5yvTy5cvF3t5ekpOTBYDs2bNHKcvKyhIAkp6eLiIi69atE2dnZ9m4caO0atVKLC0tZcqUKVJcXKysc+/ePZk6darY2dmJjY2NBAQESFZWVq0xZWdni7+/v6jVaunWrZts2bJFACjrnTp1SoYPHy62trZiY2Mjw4cPl8zMTGX9mJgYASClpaV6dVffp5osX75cPDw8al2mtLRU5s+fL61btxa1Wi0eHh4SHh6uc2w2b94s7du3F2traxERCQ0Nlb59+xqsrzLuqq/JkyfrTA8YMECuX78uACQ5OVlZNzw8XMzNzWuMdcqUKdKnTx9luqioSCZOnCitWrUSjUYjPXv2lH379umsA0DWrFkj/fr1E7VaLV5eXnLixAm9Y+Dl5SXh4eF651JVkydPlhdffFFv/qxZs2TgwIE1xr1z505Rq9WSl5enzJs4caKMGjVKZ7nExETp0KGDnDhxQuccrW+cGRkZ8swzz4ilpaU4OTnJtGnT5N69e0p5z549ZcGCBTXG+fbbb+sc3/LycmnTpo0sW7ZMRH6/drZs2SLdunUTtVotgwYNkuzsbGWdESNGyIwZM3Tqbd68uYSFhRk8N7KysmpdR+T3cyoyMlLc3NzE3NxcxowZI7dv39bbh5qum/fff1/vPZo9e7Y8+eSTOvO++uorcXV1FTMzM2nXrp2sXbtWbxs1nSO5ubkSFBQk5ubm4ubmJpGRkQJAYmJiRETk6tWr8uyzz4qjo6NYWVmJn5+fzvlfacmSJRIUFKRcf9WdP39eWrduLRcvXjT4WfDzzz+Lj4+PqNVqcXBwkDfeeEMpu3btmrz44ovSrFkzsbS0lD59+si5c+fua/9FRG7evCkqlUr5zLpw4YIAkPfff19ZZtiwYfL555/rrFf985d+xzxmGPMY8xjzWAXmsQoNnccq5eXlCQCJj483WP53xVxmGHMZcxlzWQXmsgoNmctyc3Olffv2cuzYMWnbtm2NdVeqbB9cs2aNbN68WURE/nI9ERctWoSFCxciJiYG3bt3r9c6OTk5+Oabb/Djjz/ihx9+QGRkpE6Pmddffx3p6emIiopCQkICHBwcMHLkSJSVldVY56RJk1BUVISEhAQsWrQI8+bN0ynPz8/Hc889h4MHD+LgwYMwMzPDuHHjHmynDbh69Sp27NiBfv361bpcaGgo1q5diy+//BKpqalYunQpTE1NlfKbN29i3bp12LZtGw4dOqTMT0lJQYsWLdCxY0dMmzYNt2/fBgD06dMHhw8fBgAkJibiypUr+OqrrzBz5kz4+voqv17Z2trCzc0N3333HYqLi5Gfn4+wsDA89dRTBuMsLCzE1q1b8dJLLynztFotOnbsiIiICKSkpCAwMBCjRo3C9evXddb98MMP8dZbbyEpKQnt2rXDmDFjdN67jz/+GJ07d8bIkSPrd3CriYyMRPfu3REYGAgHBwf07dsX+/fvV8oTExPh7e0Na2trZd7gwYORkJCgs3+TJk3C6tWrdZarqrY4S0pKMHToULi5ueHYsWPYuXMnjhw5gtmzZwOoOB+SkpLQtGlTeHt7w8nJCWPGjMGFCxd04vT391emVSoV/P39deIEgHnz5mHRokVISEiAVqvFxIkTlTJfX1/8/PPPuHjxIkQEO3bsQElJCfr27Wvw3GjdunWt61QVGhqKDRs2ICYmBqdPn76vX3SLi4thYWGhM0+j0eDo0aMoLS0FAKxduxYffPAB5s2bh7S0NHzzzTdo0qRJvbcxc+ZMpKamIjo6Ghs2bEBoaKhOeWFhIfr37489e/bg2LFj8PT0RGBgIIqKipRl0tLS8OWXX2LlypUGt1FeXo7Jkyfjo48+MtitPi0tDQEBARgyZAiSk5MRFRWFTp06KeVBQUHIyMhAREQEkpOTERwcrNxmcD/7b2tri06dOiEuLg5Axe3Ktra2ynR5eTkOHToEPz+/eh8/+h3zWAXmsd8xjzGPMY9VaAx5rLS0FGvXroWtrS08PDxqO6R/a8xlFZjLfsdcxlzGXFahIXPZ9OnTMWHCBPTs2bM+h9Owmloaq/ZEBBY88tf9qGyF/uijj8TZ2VnOnDlTJfa6f/UCIKdOnVKWWbt2rdja2irLm5mZya1bt5TykpIS0Wg0EhcXZzCetLQ0vTpXrlyp86tXdVeuXBEAcuHCBRF58F+93n33XdFoNAJARo4cqfPrXXUFBQWiVqvl+++/N1heeWyqxxwVFSU7duyQEydOSHh4uHTu3Fn8/PykvLxcRETS09P11ps3b54MGDBAp56srCzp0qWLGBkZiUqlEh8fH8nNzTUYy+bNm8XCwkLu3LlT4/6IiLi7u8uGDRuUaQAyd+5cZTo3N1c0Go1ERESIiEhCQoK0bdtW+QXlQX71UqvVolar5bPPPpOkpCR5//33Ra1WK78IvPrqqxIUFKSzTmRkpBgbGyvTb775pkybNk05Lqj2q1ddcW7YsEG8vLx0tvHLL7+ImZmZaLVaOXz4sAAQBwcHCQsLk8TERAkICJBOnTop55ibm5ssX75cp445c+aIv7+/TlwrV65Uyivf65MnT4qIiFarlenTpwsAMTExEWtra/npp5/0lq96btS1TuW1EBUVpczbs2ePmJiY6P3yVdN1s2vXLjE1NZWIiAgpKyuTlJQUadmypQCQy5cvi4hImzZt5F//+pfUxdA5cufOHTExMdGJMSoqSudXr+q0Wq1YWlrK/v37RaTic6Vnz56ydetWERGDv3otXrxYAgIClOnqnwWTJk3SKa8qOjpazMzM5LfffjNYXt/9rxQcHCxTpkwRkYpzPDQ0VDQajRQWFsqxY8fE3NxcioqKdNZp8J6Il/FoX/eBeex3zGPMY5WYx37HPNbweezEiRNiaWkpRkZG4uTkJEePHq33th6WBcAjf90P5rLfMZcxl1ViLvsdc1nD5rLt27dL9+7dpaSkRESEPRHXr1+PZcuW4cCBA+jYseN9rWttba3zS6KPjw9ycnKQk5OD1NRUlJaWonXr1rCysoKVlRWaNWuGwsJCZGZmIi4uTplvZWWFuLg4nDlzxmCdVd25cwfTpk2Dm5sbmjRpgg4dOgAALl68+AeOAjBnzhwkJycjIiICmZmZyvMIsrOzdeLcvHkzzp07h+LiYgwcOLDG+po1awYXFxedecOGDcOYMWPQtWtXjBw5Ejt37kRcXByOHTtW7zjLy8sxdepUeHp6Ij4+HnFxcbC2ttZ5/kZV69evVx6SW9XixYvxxBNPoHnz5rCyskJ6erreMax67G1sbODu7o4zZ86guLgYkyZNwsqVK9G0adN6x25oX3x9fRESEoIePXpg4cKF6NSpEzZt2gQAqPhcqVl0dDR2796NL774wmB5feI8efIkUlJSdN7jp556CiUlJbh06RLKy8sBAFOnTsW4cePg7e2NDRs24OzZs8ovUXXFWanq8ezQoQOaNWuGM2fOAADCwsKwa9cu7Ny5E8eOHUNISAj+8Y9/KOWG1Hedqtv18fGBVqtFRkZGvWIePnw4FixYgLFjx8LMzAxPPfWUcq4ZGRnh7t27yM7OrvVaqE1mZia0Wq1ejFWVlpYiJCQEnTp1QtOmTWFjY4OCggLlfP3000/h5uaG559/3uA2Tp06hSVLlmDNmjU1xvHrr7/WuA+//vor3Nzc4OzsrFdW1/537txZOa9ef/11ABXP+6n8lSsuLg7PPPMMPDw8kJiYiLi4OPj4+ECtVtcYK+ljHqvAPMY8xjymj3ms4fOYu7s7jh8/jsOHD+OZZ57B2LFjcevWrRr35e+KuawCcxlzGXOZPuayhstlN27cwPTp07FhwwadXs4PwqQ+C4mE1r1QA/P29saBAwewfft2zJkzR5mvUql0LsTKbrJV1Ta8fX5+PiwsLHD8+HG9MgcHB5iamuqUOTs7Y/fu3bXWCQCzZ89GfHw8vvzyS7Rr1w5arRbdunUzGN/9sLOzg52dHTp27IhmzZrBz88PoaGhaNmypU6cjo6OyMrKqrM+jUZT5zKurq5o2rQpsrKy0KtXr3rFGR0djZiYGOTm5ipf0DZu3AhnZ2ecPHlS5yG1v/32G/bt24eoqCidOjZt2oSPP/4YK1asQPfu3WFpaYkxY8boHcOa3osrV67gzJkzOl3Ry8rKcODAAaxfvx6//fZbvfbF0dER7u7uOvPc3d2VDyJHR0e9B9LeuHED9vb2ACq6HWdkZMDGxkZnGQ8PD8ydOxevvvpqnXHm5+ejf//+WL16tV58Tk5OyjGpGqetrS3s7Ox04qx+28GNGzfg4OCgM6+2c/u9997DwoULERgYCAB44oknEB0djTVr1mDJkiV/aJ2q263r+jIkJCQEc+fOxdWrV+Ho6Iivv/4aVlZWsLOzw7179+67vqoqP2Nqi+uLL77Ahg0bsHz5cri7u8Pc3Bw+Pj7Ke7N//37ExcVh27ZtSp3l5eUwMTHBrl27cPnyZVy9ehVt2rTRqXfo0KEYN24cNm/eXOuXjgctA4Bdu3YpcVZ+afTz88OZM2eQmpqKS5cuoUePHvDz88OBAweQnJzcOG9ldqrfl7KGwjxWgXmMeaw65rEKzGMNm8fMzMyUBiYfHx907NgRmzZtwltvvVXrth+m0Ho2LjQk5rIKzGXMZdUxl1VgLmuYXJaamorLly/r3MZcVlaG4OBgrF+/HgcPHqx121XVqxHxcdC5c2eEhIRgyJAhsLKywhtvvAEAsLe3x9WrV5XlTp48qbduXl4ezpw5o1zMR44cga2tLWxtbdGtWzcUFBSgsLCwxtGXKr9QVHJ3dzdYZ1Xx8fGYMmUKAgICAEBpPX6YKn/pMDY2homJiV6cbm5uUKvViI2NxXPPPffA28nOzkZubq7er2O1KSgogEqlgpHR751hK/+ujLvSd999BycnJ72RuOLj4+Hv74/JkycDqPhykZ2drbetxMREZfSwvLw8nD17Fu7u7kpyrOrll19Gz549MWvWrHrvy5NPPolz587pzDt37hxGjx4NoOKL5pIlS5Cfnw8rKysAFQm7d+/eACp+iap6/C9fvoyhQ4ciIiICPXv2RPPmzeuMs1u3bggPD0erVq1gbm6uF2O7du3g4OCgE2dubi5u3rypfAD6+PggJiZGZz1Do8klJiaiR48eAICMjAzcvn1bOc8LCgpgbGyss7yRkZHee1pVfddJTEzE0KFDlb9NTEzg6upaY72GGBsbK7/6bNu2DSNGjICxsTGaNGmCNm3aIDY2tt5fuqpydXWFiYmJToyGrvnnn38ezz77LICKX7grn1sDVIzuVTVx7ty5EytWrMDevXvh4uICrVarF1vXrl2xevVqDBs2TJmOjY3FO++8oxdj165dkZ6ejsuXL6Nly5Y6ZXXtf9u2bfXmtWnTBm3atMHnn38OX19fGBsbo3///li1ahVSUlLw2muv1XrMSB/zmD7msQrMY8xjlZjHGk8eq/ynknQxl+ljLqvAXMZcVom57NHnMm9vb73zd+jQoQgODsaECRP06q1VTfc8P66jM+/fv18sLS1l48aNIiLy3HPPiZeXl5w8eVJiY2OlR48ees/fMDc3l0GDBsnx48dl79694uzsLB9++KFSf1BQkHh6esru3bslMzNT9u/fL2+++abcvHmzxpj69+8vfn5+cvz4cdmzZ4907NhR57kDgYGB0rdvX0lNTZW4uDjp3bu3zr361Z8jUFxcLMnJycroZqtWrZLk5GS5cuWKiIikpqbK0qVLJTk5Wc6fPy+7d++WLl26SGBgYK3HLiQkRJycnGT79u2SmZkpP/30k/IMgZpGIpozZ47ExcVJVlaWREdHi5eXl/j6+kpZWZmI1O/5G9evX5emTZvKSy+9JKdOnZKUlBR55plnxNXVVe+ZIe7u7vLee+/pxbF06VKxt7eXAwcOyK+//ipBQUFiZWUloaGhyjIAxMnJSb7//ntJS0uTF154Qdq3b2/wuSYihp+tkJ6eLsnJyTJy5EgZMWKEJCcnS2pqqlIeFxcnRkZG8tVXX0l6erp89tlnYmFhIefPnxeRivfO1dVVnn/+efn111/lm2++EVNTU9m7d6/BGOrz3Ljqcebl5YmLi4sEBgZKYmKipKenS3h4uMyePVtZ5rPPPhNbW1v58ccf5dSpU/Lss89K165dRavVikjF6HRmZmaycOFCSUtLkxkzZkizZs2U87wyLjc3N9mzZ48cP35cBgwYIP3791e28eKLL0qHDh1k3759kpGRIStWrBAjIyNlXw2dG3WtU3kteHt7S3x8vMTHx0vnzp1l0qRJSh05OTmSnJwsa9euFQBy9OhRSU5Olrt374pIxbMtvvzyS0lNTZWkpCR5+eWXxcbGRs6ePavUsWbNGrG2tpZ169ZJRkaGHDhwQHkWhkjFNZacnCxeXl4yZcoUSU5O1nmPJk2aJJ06dZL4+Hg5fPiweHt761zTb731lri7u8uxY8fk2LFjMmjQIDE3N5d169YZfI9ruv6qQrXnb6SmpoqpqamEhITIqVOn5Pjx47JixQqlvG/fvvLkk0/KwYMH5dy5c7Jp0yY5ffp0vfbfkBdffFGMjY3lk08+EZGK69rExESMjY11npVz9+5dSU5OVkZHCw8Pl+TkZMnJyam1/r8T5jHmMeYx5jHmscabxz7++GOJjY2VrKwsSU5OluDgYGnSpEmdIwP/3TCXMZcxlzGXMZc13lxW3YM+E/Ev14goIrJ7927RaDSyfft2uXDhggwcOFAZbn7nzp16CcvZ2VnWrVsnLVu2FI1GI6+88orOg5QLCwtl1qxZ0rJlS2WY7eDg4FqPUeV2zczMpEuXLhIWFqZzoaanp0ufPn3E3NxcOnXqJD/99FOtCavyw6L6q/LDOTMzU4YMGSLNmzcXtVotrq6u8s4779T4UNxKpaWlStJSq9Xi6ekpP/74o86xqe6FF16QFi1aiKmpqbRt21Zee+01uX79ulJe34f4Hjp0SPr37y9NmjSR5s2bS0BAgM6Dj0VEefhs5UVVVUFBgYwbN06srKzEyclJli1bJn379tVLWKtXrxZfX18xMzOTHj16yPHjx2s8HoYS1oABA/SOe9u2bXWWCQsLEzc3N7GwsBBvb2/lwayVTp8+LQMGDBC1Wi1t2rSRr7/+usYYHiRhiVQMM//cc8+JjY2NaDQaeeKJJ2Tx4sVKeVlZmYSEhIiDg4PY2NjIyJEjlYdGV4qIiBAPDw/lWB0+fFgvrrCwMOnatauYmZnJgAEDlMQsInL79m0JDg6Wli1bioWFhXTp0kXnocqGzo261qm8FsLDw8XV1VXUarWMGjVK58HalQ+crv6qvJ5KS0vFz89PrKysRKPRyNNPPy0pKSl6x3Xp0qXi4uIiZmZm4urqKt98841S1rZtW736q57Tt27dktGjR4tarZb27dtLeHi4TgzXr1+XYcOGiYWFhbi4uEhYWJjy2WPIgyQskYrPv549e4qZmZk4OjrKm2++qZRdu3ZNxo0bJ02aNBErKyvp16+fZGRk1Gv/DVm1apUA0DnfPTw8pEePHjrLVb6H1V817fvfEfMY8xjzGPMY81iFxpjH3n77baVeR0dHCQgIkCNHjtRa998RcxlzGXMZcxlzWYXGmMuqe9BGRNV/d1pRWFiItLQ0eHp66g2/TURERERERERERH9tle2DSUlJsLS0xPjx4/GXGZ2ZiIiIiIiIiIiI/hxsRCQiIiIiIiIiIqJasRGRiIiIiIiIiIiIasVGRCIiIiIiIiIiIqoVGxGJiIiIiIiIiIioVmxEJCIiIiIiIiIiolqxEZGIiIiIiIiIiIhqxUZEIiIiIiIiIiIiqhUbEYmIiIiIiIiIiKhWf4lGxIEDB+KDDz54oHXXr1+PVq1aPeSI9J07dw4qlQrnz5+v1/KxsbFQqVTQarV/bmB/knXr1qF169YwMjLC+vXrUVxcjBdeeAFNmjSBSqV6ZHGoVCrs3bv3kW3vr+z8+fNQqVQ4d+7cH6qn+rlRl8f1WtBqtVCpVIiNjW3oUIiIiIiIiIj+sL9EI+LfQWpqKsaMGQNnZ+caG8bGjh2LNm3awNzcHK1atcK0adOQn5//0GNZsGABVCqVzmv06NFKeUlJCaZOnYq5c+fi0qVLGDt2LLZs2YLY2FgcOnQIV65cUfZp6NChaNq0KWxtbREUFITs7GylnoEDB+ptR6VSYdGiRQ99nwBg2bJlUKlUeg3S06dPR7du3WBiYoIJEyYYXDcjIwOjR49GkyZNYG1tjf79++s0ep09exaDBg2ChYUFXFxc8O233xqsR6vVwtvbu9bGuprirI+9e/eid+/eMDc3h729Pd5++22d8sjISHh6esLc3BxeXl6Ij4+/r/pLSkowe/ZstGrVChqNBt27d8eOHTt0yqufG3WtUx87duzA4MGDYWNjU2ODY1RUFHr16gVLS0u0a9cOq1atqnf9RUVFmDRpEjw8PGBkZPTAP1rUV3Z2NmxsbGr9gWP06NGPTSP52rVr0adPH9jY2MDe3h7PPvssMjMzGzosIiIiIiIiug9sRHxMFBQUoGPHjli+fHmNy/j5+WHr1q04c+YMNm3ahJiYGMycOfOhxVBcXKz87ePjgytXriivqj3KLl++jKKiIgQEBMDJyQkWFhbIzMxEp06d0KVLF7Ro0QIAEBgYiKZNmyI+Ph7R0dHIzc3F+PHjlXp27Nihs43KhqUxY8Y8tH2qdOrUKaxYsQJdu3bVKzMyMsLUqVMxZMgQg+veuHED/fr1g7OzM/bv34+kpCRMnz5d6XFZWlqKgIAA2NnZ4ciRI5g/fz6Cg4Oxb98+vbo++eQT2NraPlCcdYmJiUFQUBDGjx+PEydOIDo6WmefTp8+rZQnJSWhb9++GDFiBHJycuq9jX/+85/YsmULNm7ciNTUVIwfPx5jx47F6dOnARg+N+papz4KCgrg7++P9957z2B5cnIyRo0ahQkTJuDEiRNYvHgx5s6di+3bt9er/rKyMlhZWWHu3LnmcfAZAAAgAElEQVTo1q1bveN6ECKCyZMnw9fXt8Zl1q1bh8LCwj81jodp//79mDx5MuLi4rBv3z4UFRVh+PDhKC0tbejQiIiIiIiIqL6kmoKCAjl69KgUFBRUL2q0BgwYIPPmzVOmly9fLvb29pKcnCwAZM+ePUpZVlaWAJD09HQREVm3bp04OzvLxo0bpVWrVmJpaSlTpkyR4uJiZZ179+7J1KlTxc7OTmxsbCQgIECysrJqjSk7O1v8/f1FrVZLt27dZMuWLQJAWe/UqVMyfPhwsbW1FRsbGxk+fLhkZmYq68fExAgAKS0t1au7+j7VZPny5eLh4VHrMqWlpTJ//nxp3bq1qNVq8fDwkPDwcJ1js3nzZmnfvr1YW1uLiEhoaKj07dvXYH2VcVd9TZ48WWd6wIABcv36dQEgycnJyrrh4eFibm5eY6xTpkyRPn36KNNFRUUyceJEadWqlWg0GunZs6fs27dPZx0AsmbNGunXr5+o1Wrx8vKSEydO6B0DLy8vCQ8P1zuXqpo8ebK8+OKLevNnzZolAwcOrDHunTt3ilqtlry8PGXexIkTZdSoUTrLJSYmSocOHeTEiRM652h948zIyJBnnnlGLC0txcnJSaZNmyb37t1Tynv27CkLFiyoMc63335b5/iWl5dLmzZtZNmyZSLy+7WzZcsW6datm6jVahk0aJBkZ2cr64wYMUJmzJihU2/z5s0lLCzM4LmRlZVV6zoiv59TkZGR4ubmJubm5jJmzBi5ffu23j7UdN28//77eu/R7Nmz5cknn9SZ99VXX4mrq6uYmZlJu3btZO3atXrbqOkcyc3NlaCgIDE3Nxc3NzeJjIwUABITEyMiIlevXpVnn31WHB0dxcrKSvz8/HTO/0pLliyRoKAg5fqr7vz589K6dWu5ePGiwc+Cn3/+WXx8fEStVouDg4O88cYbStm1a9fkxRdflGbNmomlpaX06dNHzp07d1/7LyJy8+ZNUalUymfWhQsXBIC8//77yjLDhg2Tzz//3OD6ly9fFgCSkpJisJyIiIiIiIgaVmX74Jo1a2Tz5s0iIlKvnoiqtEf/elCLFi3CwoULERMTg+7du9drnZycHHzzzTf48ccf8cMPPyAyMhILFy5Uyl9//XWkp6cjKioKCQkJcHBwwMiRI1FWVlZjnZMmTUJRURESEhKwaNEizJs3T6c8Pz8fzz33HA4ePIiDBw/CzMwM48aNe7CdNuDq1avYsWMH+vXrV+tyoaGhWLt2Lb788kukpqZi6dKlMDU1Vcpv3ryJdevWYdu2bTh06JAyPyUlBS1atEDHjh0xbdo03L59GwDQp08fHD58GACQmJiIK1eu4KuvvsLMmTPh6+ur9Ci0tbWFm5sbvvvuOxQXFyM/Px9hYWF46qmnDMZZWFiIrVu34qWXXlLmabVadOzYEREREUhJSUFgYCBGjRqF69ev66z74Ycf4q233kJSUhLatWuHMWPG6Lx3H3/8MTp37oyRI0fW7+BWExkZie7duyMwMBAODg7o27cv9u/fr5QnJibC29sb1tbWyrzBgwcjISFBZ/8mTZqE1atX6yxXVW1xlpSUYOjQoXBzc8OxY8ewc+dOHDlyBLNnzwZQcT4kJSWhadOm8Pb2hpOTE8aMGYMLFy7oxOnv769Mq1Qq+Pv768QJAPPmzcOiRYuQkJAArVaLiRMnKmW+vr74+eefcfHiRYgIduzYgZKSEvTt29fgudG6deta16kqNDQUGzZsQExMDE6fPn1fvWyLi4thYWGhM0+j0eDo0aNKb7i1a9figw8+wLx585CWloZvvvkGTZo0qfc2Zs6cidTUVERHR2PDhg0IDQ3VKS8sLET//v2xZ88eHDt2DJ6enggMDERRUZGyTFpaGr788kusXLnS4DbKy8sxefJkfPTRRwZvdU5LS0NAQACGDBmC5ORkREVFoVOnTkp5UFAQMjIyEBERgeTkZAQHByu3ft/P/tva2qJTp06Ii4sDABw4cAC2trbKdHl5OQ4dOgQ/Pz+D69+8eRMA0Lx5c4PlRERERERE1AjV1NJYtSciUh/9635U9gz66KOPxNnZWc6cOfN77PXoiQhATp06pSyzdu1asbW1VZY3MzOTW7duKeUlJSWi0WgkLi7OYDxpaWl6da5cuVKnJ2J1V65cEQBy4cIFEXnwnojvvvuuaDQaASAjR47U6VFZXUFBgajVavn+++8Nllcem+oxR0VFyY4dO+TEiRMSHh4unTt3Fj8/PykvLxcRkfT0dL315s2bJwMGDNCpJysrS7p06SJGRkaiUqnEx8dHcnNzDcayefNmsbCwkDt37tS4PyIi7u7usmHDBmUagMydO1eZzs3NFY1GIxERESIikpCQIG3btlV6tT1IT0S1Wi1qtVo+++wzSUpKkvfff1/UarXSS+vVV1+VoKAgnXUiIyPF2NhYmX7zzTdl2rRpynFBtZ6IdcW5YcMG8fLy0tnGL7/8ImZmZqLVauXw4cMCQBwcHCQsLEwSExMlICBAOnXqpJxjbm5usnz5cp065syZI/7+/jpxrVy5UimvfK9PnjwpIiJarVamT58uAMTExESsra3lp59+0lu+6rlR1zqV10JUVJQyb8+ePWJiYqLXG7Gm62bXrl1iamoqERERUlZWJikpKdKyZUsBIJcvXxYRkTZt2si//vUvqYuhc+TOnTtiYmKiE2NUVJROT8TqtFqtWFpayv79+0Wk4nOlZ8+esnXrVhERgz0RFy9eLAEBAcp09c+CSZMm6ZRXFR0dLWZmZvLbb78ZLK/v/lcKDg6WKVOmiEjFOR4aGioajUYKCwvl2LFjYm5uLkVFRXrrlZeXS2BgoAwdOrTe2yIiIiIiIqJHy1BPRJN6NTR6Pqwmyz/P+vXrce/ePRw7dgzt27e/r3Wtra3h4eGhTPv4+CAnJwc5OTlITU1FaWkpWrdurbNOYWEhMjMzISIYPny4Mj8qKgo5OTkG66zqzp07CAkJwc8//4xr166hvLwcAHDx4kW0adPmvuKvas6cOfh//+//4ezZs3jvvffw3nvvYenSpcjOzoan5+9v5OrVq/HEE0+guLgYAwcOrLG+Zs2awcXFRWfesGHDlL+7du0KT09PdOjQAceOHUOvXr3qFWd5eTmmTp0KT09PfPvttygpKUFoaCjGjx+PyMhIveXXr1+vDFxS1eLFi7Fx40b89ttvKCkpQWFhIS5evKizTNVjb2NjA3d3d5w5cwZPPfUUJk2ahJUrV6Jp06b1irumfenbty9CQkIAAD169EBUVBQ2bdqE+fPnQ0RqXT86Ohq7d+/G8ePHDZYXFxfXGefJkyeRkpICKysrZZ6IoKSkBJcuXVLOr6lTpyo9Xjds2ABHR0ccPnwYfn5+dcZZqerx7NChA5o1a4YzZ86gS5cuCAsLw65du7Bz5064uLhg165d+Mc//oFDhw7B3d3dYH31Xafqdn18fKDVapGRkQEvL686Yx4+fDgWLFiAsWPHori4GLa2tpg0aRIWL14MIyMj3L17F9nZ2bVeC7XJzMyEVqvVi7Gq0tJShIaG4ocffsCVK1eg1WpRUFCgnK+ffvop3Nzc8PzzzxvcxqlTp7BkyRIcPXq0xjh+/fVX/OMf/6ixzM3NDc7Oznplde1/586dlV6rEyZMwKpVq+Dn54dPPvkEABAXF4fvvvsOERERSExMRHJyMnx8fKBWq/Xqmj17Nk6ePIlffvmlxv0gIiIiIiKixqdejYiPA29vbxw4cADbt2/HnDlzlPkqlUqnccTQg/wrB8AwJD8/HxYWFgYbeBwcHGBqaqpT5uzsjN27d9daJ1Dxj3R8fDy+/PJLtGvXDlqtFt26dfvDAw3Y2dnBzs4OHTt2RLNmzeDn54fQ0FC0bNlSJ05HR0dkZWXVWZ9Go6lzGVdXVzRt2hRZWVn1bkSMjo5GTEwMcnNzlYaGjRs3wtnZGSdPntQZOOS3337Dvn37EBUVpVPHpk2b8PHHH2PFihXo3r07LC0tMWbMGL1jWNN7ceXKFZw5c0bn9uCysjIcOHAA69evx2+//VavfXF0dNRrIHN3d1cahxwdHfUGCblx4wbs7e0BVNwKmpGRARsbG51lPDw8MHfuXLz66qt1xpmfn4/+/ftj9erVevE5OTkpx6RqnLa2trCzs9OJs/qt4Ddu3ICDg4POvNrO7ffeew8LFy5EYGAgAOCJJ55AdHQ01qxZgyVLlvyhdaput67ry5CQkBDMnTsXV69ehaOjI77++mtYWVnBzs4O9+7du+/6qqr8jKktri+++AIbNmzA8uXL4e7uDnNzc/j4+Cjvzf79+xEXF4dt27YpdZaXl8PExAS7du3C5cuXcfXqVb0fGYYOHYpx48Zh8+bNtTYEP2gZAOzatUuJs7Ih38/PD2fOnEFqaiouXbqEHj16wM/PDwcOHEBycrLBW5lDQkKwdetWxMXFwcnJqdZtEhERERERUePyl2lE7Ny5M0JCQjBkyBBYWVnhjTfeAADY29vj6tWrynInT57UWzcvLw9nzpxRGliOHDkCW1tb2Nraolu3bigoKEBhYWGNI+J26NBBZ9rd3d1gnVXFx8djypQpCAgIAADlWWIPU2XvM2NjY5iYmOjF6ebmBrVajdjYWDz33HMPvJ3s7Gzk5ubq9VisTUFBAVQqFYyMfn8sZ+XflXFX+u677+Dk5KQ3OnJ8fDz8/f0xefJkABUNvtnZ2XrbSkxMVEZ0zsvLw9mzZ+Hu7q40WFb18ssvo2fPnpg1a1a99+XJJ5/EuXPndOadO3cOo0ePBlDRI23JkiXIz89XegpGR0ejd+/eACp6B1Y9/pcvX8bQoUMRERGBnj17onnz5nXG2a1bN4SHh6NVq1YwNzfXi7Fdu3ZwcHDQiTM3Nxc3b95UGqV8fHwQExOjs56hEb4TExPRo0cPAEBGRgZu376tnOcFBQUwNjbWWd7IyEjvPa2qvuskJiZi6NChyt8mJiZwdXWtsV5DjI2NlZ5427Ztw4gRI2BsbIwmTZqgTZs2iI2NrXdDeFWurq4wMTHRidHQNf/888/j2WefBVDR67jyWaJAxYjLVRszd+7ciRUrVmDv3r1wcXGBVqvVi61r165YvXq10ju4a9euiI2NxTvvvKMXY9euXZGeno7Lly+jZcuWOmV17X/btm315rVp0wZt2rTB559/Dl9fXxgbG6N///5YtWoVUlJS8Nprr+ks/9FHH+Hrr7/G/v370a5dO/2DSERERERERI3aX6YREajojRgREYERI0bAysoKEydORP/+/fHVV1+hR48eyMnJwaeffqq3nrm5Od544w0sW7YMN2/eRGhoKKZNmwagojdYUFAQxo0bh6VLl6Jjx464ePEivv/+eyxYsAC2trZ69Xl6eqJ///549dVXsWLFCty4cQNLly7VWcbV1RXbtm3D008/jVu3bun0njSkpKQEaWm/jziTkZEBOzs7tGjRAi1atEBaWhp++uknDBo0CM2aNcPp06fxzjvvYOTIkTq3uFZlYWGB2bNn46233oKRkRF69OiB9PR0lJeX69yyXN27776LwMBAtGrVCllZWZgzZw58fX3rdVtpJV9fX6jVarz22muYO3cuSkpKMG/ePLi6uuoMBAFU3HY7ceJEnQZHoOIYVvZqat68OT788EODjVUbNmyAl5cXOnfujAULFsDR0RHDhg2DiYkJunTporOspaUl7O3tdXrsnTt3Dvn5+bh16xbKyspw/PhxmJmZKbeHz5gxAwMGDMDy5csxYsQIbN26FWlpadi+fTuAitu/nZ2d8corryA0NBQJCQkICwtTelY6ODjo9ParfL/c3Nzg6OgIAHXG+eKLL+KLL77A2LFj8cEHH6BZs2Y4deoU9u/fr9yyO2PGDCxduhQ9evSAq6srPvjgA3h6esLX1xcA8Nprr+Hf//43Pv/8c4wePRqrV69GXl6ezsApALBkyRK4urrC3t4eM2bMQP/+/ZX4RowYgQULFsDJyUm5NXnPnj21nt/1XWf+/PnK7dwzZszA+PHjlelbt24hOztbaSRNSUmBsbExOnToACsrK5SWluI///kPnnrqKRQXF2PFihU4evSoTkPfBx98gNmzZ8POzg79+/fHpUuXcPXqVeX24rS0NJSUlCA/Px/Xrl3D8ePHYWVlhQ4dOqBJkyYYP3483n77baxbtw4igvnz5+vE7+rqit27dyMpKQkA8M477+g0+FZvWDt69KjeOWrodnYXFxdlkJW5c+eie/fumDdvHiZOnIji4mLExcXhzTffxKBBg+Dt7Y1nn30WixcvRosWLRAfH49evXrB3d29zv03xM/PD//7v/+LBQsWKNNjx46FiCjnFQD885//xBdffIEdO3agWbNmyg87zZs3h5mZWY31ExERERERUSNS04MTqw6s0thVH+hg9+7dotFoZPv27XLhwgUZOHCgaDQa6dmzp+zcuVNvYBVnZ2dZt26dtGzZUjQajbzyyis6AwIUFhbKrFmzpGXLlmJmZibt2rWT4ODgWo9R5XbNzMykS5cuEhYWpjOgRHp6uvTp00fMzc2lU6dO8tNPP+kMwlB9gIjKQS2qv0JDQ0VEJDMzU4YMGSLNmzcXtVotrq6u8s4779Q4UEml0tJSCQkJEScnJ1Gr1eLp6Sk//vijzrGp7oUXXpAWLVqIqamptG3bVl577TW5fv26Ul7fgVUOHTok/fv3lyZNmkjz5s0lICBAZzAaEVEGBDl9+rReHAUFBTJu3DixsrISJycnWbZsmfTt21c5JiIVA0+sXr1afH19xczMTHr06CHHjx+v8XgYGjRjwIABese9bdu2OsuEhYWJm5ubWFhYiLe3tzJYRqXTp0/LgAEDRK1WS5s2beTrr7+uMQZDA6vUJ87z58/Lc889JzY2NqLRaOSJJ56QxYsXK+VlZWUSEhIiDg4OYmNjIyNHjlQG8qkUEREhHh4eyrE6fPiwXlxhYWHStWtXMTMzkwEDBsj58+eVZW7fvi3BwcHSsmVLsbCwkC5duugMdGPo3KhrncprITw8XFxdXUWtVsuoUaN0BjuqHASo+qvyeiotLRU/Pz+xsrISjUYjTz/9tKSkpOgd16VLl4qLi4uYmZmJq6urfPPNN0pZ27Zt9eqvek7funVLRo8eLWq1Wtq3by/h4eE6MVy/fl2GDRsmFhYW4uLiImFhYcpnjyE1XX9VwcAgS7t375aePXuKmZmZODo6yptvvqmUXbt2TcaNGydNmjQRKysr6devn2RkZNRr/w1ZtWqVANA53z08PKRHjx46yxk6dlWPDRERERERETUuhgZWUYnoPgyrsLAQaWlp8PT0hIWFxZ/QbElERERERERERESNVWX7YFJSEiwtLTF+/HgY1b0aERERERERERER/Z2xEZGIiIiIiIiIiIhqxUZEIiIiIiIiIiIiqhUbEYmIiIiIiIiIiKhWeo2IKpUKAFBtvBUiIiIiIiIiIiL6GygvLweg2z5oUn0hMzMzGBkZ4fLly2jZsqXSqEhERERERERERER/XSKC4uJiXLx4EeXl5SgqKoKVlRUAA42IRkZG6NChA9LT03Hnzp1HHiwRERERERERERE1nIKCAly5cgVlZWUwMzMDYKAREQCsra3RtWtXbNu2DTk5OXBwcICRER+fSNRYlJWVYfXq1QgODoaxsXFDh0NERERERFQv/F+GqPHTarUoLy9HcXExioqK4OjoCKCGRkQAMDU1xdNPP43w8HBkZmbytmaiRqSsrAx37txBRkYGEy8RERERET02+L8M0eNDpVKhW7du6N27d8W01DGCyp07d3Dt2jUUFRU9kgCJqG7FxcUYPnw4oqKioFarGzocIiIiIiKieuH/MkSPB5VKBY1Gg9atWyu3M9fZiEj0d7Rw4UJs27YNZ8+ehbW1NYYNG4ZFixbB3t5eWebs2bMIDg5GfHw8HB0d8eGHH+KVV15RyrVaLd59911s3LgRxcXFCAoKwr///W/lgaQAEBkZiTlz5iAzMxOdO3fGv//9bzz55JN1xldYWAiNRoOCggJYWFg83J0nIiIiIiL6k/B/GaLHFx90SGTAwYMHMWvWLBw9ehQ7d+5EWloaxo4dq5SXlpYiICAAdnZ2OHLkCObPn4/g4GDs27dPWeaTTz7B//zP/2DLli3Yt28fjh49iqlTpyrlp0+fRlBQEMaPH4+kpCT07dsXI0aMQE5OziPdVyIiIiIiIiKiurAnIlE9HD58GH369EFubi5sbGwQHh6OF154ATdu3IC1tTUAYNKkScjLy8P//d//oby8HI6Ojli4cCFeffVVAEB0dDSefvppXLt2Dba2tpg1axYSEhLwyy+/AKgYRt3FxQVvv/02Zs6cqbP90tJSaLVaZbqwsBC2trb89Y6IiIiIiB4r7IlI9PhiT0Sierh58ybMzc1haWkJAEhMTIS3t7fSgAgAgwcPRkJCAgAgMzMTN2/ehL+/v1I+YMAAAMDRo0eVOqqWq1Qq+Pv7K3VU9dlnn0Gj0SgvW1vbh7+TREREREREREQ1YCMiUR2Ki4vx8ccfY/LkyTAxqRjQ/Pr163BwcNBZzt7eHjdu3FDKAegsY2xsjObNmytlNdVRWV7VvHnzUFBQoLx4yzMRERERERERPUomDR0AUWNWVlaGCRMmAAAWL16szK/rKQD1eUrA/TxJwNTUFKampvVenoiIiIiIiIjoYWJPRKIalJeX46WXXsLp06fx008/6Yyq7OjoqNdj8MaNG8rozY6OjgCgs0xZWRlu3bql9D6sqY7qvROJgPtrdCYiIiIiIiJ62NiISGSAiGDKlCmIj4/Hnj170Lx5c51yHx8fHD16FPn5+cq86Oho9O7dGwDQvn172NnZISYmRik/cOAAAKBXr15KHVXLASAmJkapg6jS3cuXscTJCQc+/bShQyEiIiIiIqK/KTYiEhnw+uuvIyIiAps3bwYAXL16FVevXkVZWRkAYNiwYXB2dsYrr7yC1NRUfPvttwgLC8P06dMBAEZGRnjjjTfw4YcfIjo6GomJiXjrrbcwfvx4ZVCU1157DUeOHMHnn3+OU6dOYebMmcjLy8PEiRMbZqep0bp87BjuXbuGzL17GzoUIiIiIiIi+pviMxGJDFizZg0A6PUKzMrKgouLC8zMzBAZGYng4GB4eXnB0dERK1euxODBg5VlP/zwQ+Tn5+P5559HSUkJxowZg//85z9KuYeHB7Zv3445c+ZgwYIF6Ny5M3bt2sWRl0lPyd27AABtYWEDR0JERERERER/Vyrhg7aIHjuFhYXQaDQoKCiAhYVFQ4dDf7Kjq1cj8vXX4fjEE3g9JaWhwyEiIiIiemD8X4bo8cXbmYmIGrnKnoil7IlIREREREREDYSNiEREjVxx5e3MRUUNHAkRERERERH9XbERkYiokeMzEYmIiIiIiKihsRGRiKiRY09EIiIiIiIiamhsRCQiauT4TEQiIiIiIiJqaGxEJCJq5EryrgEApKwM5VptA0dDREREREREf0dsRCQiauSK824qf7M3IhERPSpr1x7Dyy/vRHz8bw0dChERETUCbEQkImrkSu7eU/7mcxGJiOhR2b//AtavP4709JyGDoWIiIgaATYiEhE1csX5VRoR2RORiIgeEbXaGABQVMRHaRAREREbEYmIGr2Su783HLInIhERPSrm5iYAgOLisgaOhIiIiBoDNiISETVyxfm/NxyyEZGIiB4VtbqyEZE9EYmIiIiNiEREjVq5VgttYakyzYFViIjoUansicjbmYmIiAhgIyIRUaNWkp+vM82eiERE9KhUPhORtzMTERERwEZEIqJGrfjuXZ1pDqxCRESPCm9nJiIioqrYiEhE1IiVVG9EZE9EIiJ6RHg7MxEREVXFRkQiokasek9EPhORiIgeFd7OTERERFWxEZGIqBFjT0QiImoov9/OzEZEIiIiYiMiEVGjxmciEhFRQ+HtzERERFQVGxGJiBox9kQkIqKG8vvtzGxEJCIiIjYiEhE1anwmIhERNRTezkxERERVsRGRiKgRK8nL05lmT0QiInpUeDszERERVcVGRCKiRqz47i0AgNq6YpqNiERE9KjwdmYiIiKqio2IRESNWMl/GxE1thX/yHFgFSIielR4OzMRERFVxUZEIqJGrCQvFwBgaVvxjxx7IhIR0aPC25mJiIioKjYiEhE1YsV3/9uIaG8OgD0RiYjo0eHtzERERFQVGxGJiBqxkrsVA6tobC0AsCciERE9OrydmYiIiKpiIyIRUSNWfPcuAMDS3hIAUMqeiERE9IjwdmYiIiKqio2IRAbs2LEDgwcPho2NDVQqFbTa3788r1+/HiqVSu/l6empLLNgwQK98tGjR+ts4+zZsxg0aBAsLCzg4uKCb7/99pHtHz0+SvLvAQA0dk0AsCciERE9OrydmYiIiKoyaegAiBqjgoIC+Pv7Y8iQIQgJCdEpGzt2LIYNG6Yzr3fv3ggKCtKZ5+Pjg507dyrT5ubmyt+lpaUICAhA9+7dceTIESQkJCA4OBht27bF4MGD/4Q9osdVcV4BAMDSoSkAPhORiIgeHd7OTERERFWxEZHIgAkTJgAAYmNj9cosLCxgYWGhTP/yyy/Izs7G5MmTdZYzNTVFixYtDNYfFRWFixcvIikpCdbW1ujSpQv279+PFStWGGxELC0t1ekNWciGpL+N4vyK99rSrjkA9kQkIqJHp7InYlGRFiIClUrVwBERERFRQ+LtzER/0Pr169GnTx+4ubnpzE9JSUGLFi3QsWNHTJs2Dbdv31bKEhMT4e3tDWtra2Xe4MGDkZCQYHAbn332GTQajfKytbX9c3aGGhURQcndYgCApYMdAD4TkYiIHh1jYyOYmFT8u1BaWt7A0RAREVFDYyMi0R9QWFiI77//Hi+99JLO/CeffBIbN27Enj17sGTJEuzfvx+jRo2CiAAArl+/DgcHB5117O3tcePGDYPbmTdvHkwMcdIAACAASURBVAoKCpRXTk7On7I/1LiUFRejXFsOIxNAbVPRcMyeiERE9ChxcBUiIiKqxNuZif6AH374ASUlJXjhhRd05ld9ZmLXrl3h6emJDh064NixY+jVq5fSmFhfpqamMDU1fSgx0+OjcmRmMyvAVMPbmR8H5QJMuQI8aQG81qyhoyEi+uPUamPk51cOrqJu6HCIiIioAbEnItEfsH79eowePRo2Nja1Lufq6oqmTZsiKysLAODo6Ijr16/rLHPjxg3Y29v/abHS46fkv42IakvAxKKiRYoDqzRu6SXAulzgX+wsTER/ERxchYiIiCqxEZHoAV26dAn79u3Tu5XZkOzsbOTm5sLFxQVAxcjNR48eRX5+vrJMdHQ0evfu/SdFS4+jqj0RTTS8nflxcO+/jwwr5qPDiOgvgrczExERUSXezkxkwK1bt5CdnY1z584BqBgkxdjYGB06dICVlRUAYOPGjXBycsKQIUP01n/33XcRGBiIVq1aISsrC3PmzIGvry+8vLwAVNzu7OzsjFdeeQWhoaFISEhAWFgYoqKiHt1OUqOn9ES0AozNmwEqFcpKSlBeVgYjY+MGjo4MKfjvkwpKGzYMIqKHpnKE5orbmYmIiOjvjI2IRAaEh4fj5ZdfVqZ79eoFAIiJicHAgQMBABs2bMDEiRNhZKTfoffChQt4/vnnkZOTg5YtW2Lo0KH49NNPlWXNzMwQGRmJ4OBgeHl5wdHREStXrsTgwYP//J2jx4bSE9ESUBnZwMTcHNrCQpQVF8NIo9FZNv/qVUh5OSxsbWGi5jOrGkrBf3sglt7fY0+JiBot3s5MREREldiISGTASy+9VOdtyqdPn/7/7N15lGQFfff/z621q7uqe5aehUHjMIygiIoZNpMfIjSJoIa4hGgQHwb+yETCkWh+KogieRRjThJERyHGHJSY6AMRkhBgsggzmN9BB0aE+CRBBAZngsD09DJd3VVdt5b7++MutXRVr1X33qp+v87p09NV1VW3u6eruj71XVqed+eddy54GyeffLL27du3xCPDalJbiSgj44WIxXxe8YYQ8f6rrtJTf//3uuS739Up731vAEcLSco74aFJiAigR9DODAAAXMxEBICQKjSEiPFUSlLzuYimM18zmcn4dnyYi0pEAL2GdmYAAOAiRASAkDJrFqsoYlciSs03NFcvm/bt+DAXISKAXkM7MwAAcBEiAkBIFaYmJEmJtCEpqdgiKhEJEYPltjOXJVUIEgH0ANqZAQCAixARAELKzI5LkpLpPskwvErEYrNKRDdEpJ05UG4lokQ1IoDeQDszAABwESICQEgVpuwQMZGxKxDnm4lYoJ05FOpCxOAOAwDahnZmAADgIkQEgJAys5OSpGTaDg/nnYlIO3Mo5GuqD9nQDKAX9PXZlYi0MwMAAEJEAAgpMzslSUpkBiTVhIgNlYjlYlHlQkFGNOpdBsGgnRlAr6lWIhIiAgCw2hEiAkBIFZwQMZkZlKSWi1VqqxANw/DxCNEoVxMcEiIC6AXVmYi0MwMAsNoRIgJASJnZ+mUprRar0MocHvmaSkTamQH0ArYzAwAAFyEiAIRUYTonSUpm1khauBIxyWbmwFGJCKDX0M4MAABchIgAEFJm1g4RE26I2GKxislm5tBgJiKAXkM7MwAAcBEiAkBIFaYLkqTk4DpJUnwRMxERrDwhIoAeQzszAABwESICQAhZliXTCRETmfWSFjETkXbmwNW2MzMTEUAvoJ0ZAAC4CBEBIISKMzOSJcX6pEh8/pmIBdqZQ6OuEjG4wwCAtnErEWlnBgAAhIgAEEJuMJhMSzLqtzPPmYnoViImfy6VD/l3kJiDxSoAeo07E5F2ZgAAQIgIACFUXZYiKdIQIjbORHQvm3xEKv6HfweJOWoXq9DODKAXVNuZqUQEAGC1I0QEgBDyKhEHJBmDkmoWq7SqROyXZE35doyYK08lIoAew2IVAADgIkQEgBCqq0RsbGdusZ05mZZUyfp2jKhnWfWViISIAHqB287MYhUAAECICAAhVDcT0W1nXmixyoAkixAxKKYlVRo+BoBuRzszAABwESICQAiZtcFgQyVisaGduei2MxMiBirfEBpSiQigF9DODAAAXISIABBChSbtzPEWlYhmXYjITMSg1LYyS1IxmMMAgLainRkAALgIEQEghMypY5KcdmZjQFLNTMSGSsS6dmZmIgYm11B5SDszgF5AOzMAAHARIgJACBWyY5KkRDohGfZddauZiCbtzKGQb6xEJEQE0ANoZwYAAC5CRAAIocIxO0RMpvu801rNRKzbzkyIGJg57cyEiAB6AO3MAADARYgIACFkZiclSYlMyjut5UxEt525X1KFmYhBoZ0ZQC+inRkAALgIEQEghNwQMZkZ8E5rNRORduZwoJ0ZQC+inRkAALgIEYEm7rnnHo2MjGhoaEiGYahUqv/D2TCMOW9PPPFE3WW+8IUvaMuWLerv79fFF1+sl156qe78/fv36/TTT1dfX59e85rX6L777uv414XuUcjaFYWJdNo7zQsRayoRLcsiRAyJxkpEQkQAvSCRsNuZTbMsy+KODQCA1YwQEWgil8vp/PPP17XXXtvyMnfddZdefPFF7+3UU0/1zvvGN76hz33uc/rKV76iRx55RFNTU3rf+97nnT82NqaLLrpIZ599th5//HFdfvnleu9736unnnqqo18XuoeZdeYcZjLeabUhovtErlwoqFIqKZpIKJoQIWKAmIkIoBdFIobicfspg2nS0gwAwGoWC/oAgDC67LLLJEn79u1reZm1a9dq8+bNTc/bvXu3rrnmGr3nPe+RJN1+++068cQT9cQTT+i0007T3/7t36q/v1+7d++WYRg65ZRTtGfPHv3FX/yFbrnllrZ/Peg+BTdEHBr0TjMiEUUTCZVNU+VCQbG+vmoVYjotaZyZiAHKMxMRQI/q64upWDQ1O1vyZiQCAIDVh0pEYJl27typjRs36pxzztH999/vnV4oFPTkk0/q/PPP907btm2btm7dqv3790uSHn30UZ133nkyDMO7zMjIiHd+o2KxqHw+X/eG3mZO2z/jRGZN3emxhuUqBXepSiYj+3UhU7JM344TVW4lovtbXQzsSACgvViuAgAAJEJEYFluuukm3X333dqzZ4/OPfdc/cZv/Ia+973vSbJblSuVijZu3Fj3ORs2bNCRI0ckSUeOHJn3/Ga319/f772tX7++A18VwqSQtUPEZGZd3eluS3PRCZLrKhENp/WZluZAuCFixnlkpZ0ZQK9IJu25iIUCy1UAAFjN6EcAluGTn/yk9+8dO3bo0KFDuuWWW3TBBRcsauj4UgeTX3/99frEJz7hfZzP5wkSe5w5XZAkJTL1P+d4QyViXYgYyUjlCamSlSL8//Cb2848FJGmKrQzA+gdbGgGAAASlYhAW+zYsUMHDx6UJA0PDysSicypKhwdHfWqDzdt2jTv+Y3i8bhSqVTdG3pXpVRSabYkIyLF080rEUtuJaLTzpzMZKhEDJhbiThkF+xQiQigZ9DODAAAJEJEoC2efPJJbd26VZKUTCb1xje+UXv37vXOP3jwoJ5//nmdddZZkqQzzzxT+/btq6tIfOihh7zzsbp5cw4HJCMyWHde40zE5u3MLFcJQm0lokSICKB3uJWItDMDALC60c4MNDE+Pq5Dhw7pmWeekWSHhNFoVNu3b9e+ffs0Ojqqs846S7FYTPfcc4/uuOMO3Xfffd7nX3311brmmmu0Y8cObdu2TR/5yEd0zjnn6LTTTpMkfeADH9CNN96oa665Rh/60Id077336oc//KG+9rWvBfL1Ilzc6sJEWpLRECK2momYyUhGzr5QhUrEIDRWItLODKBXuDMRaWcGAGB1I0QEmrj33nt1xRVXeB+ffvrpkqS9e/cqFovplltu0bPPPqtIJKLXvva1uvvuu3XRRRd5l7/yyiv18ssv66qrrtLk5KQuuOACff3rX/fOX79+vR544AFdffXV+trXvqYTTjhB3/3ud/Wa17zGvy8SoeVWIiYHZM85rNE4E9GrWkynpYgTItLOHAgvRKQSEUCPoZ0ZAABIhIhAUzt37tTOnTtbnn/hhRcueB3XXXedrrvuupbnn3322Tpw4MByDg89rr4SsT5EnDMTsa6d2T6NEDEYXjuzOxMxuEMBgLainRkAAEiEiAAQOl4l4nwhYuNMxExGMuzTmIkYjMZKRNqZAfQK2pkBAIBEiAgAoWPWLFaZEyI67czFhu3Mdjtzwb4QMxEDkWusRCREBNAjaGcGAAASISIAhE5dJWLjduZWlYjptGSY9oVoZw5EnpmIAHoU7cwAAEAiRASA0DGn7HbkpjMRGxaruJWIyUxGMpwpfISIgWisRAy6nfn223+smRlTl132Bq1dmwr2YAB0NdqZAQCARIgIAKFTyI5LkhIDUcmov5uef7GKEyJWmIkYhLBtZ/7sZ7+v55+f1Nvf/mpCRAAr4oaItDMDALC6ESICQMiYU2OSpGQmOee8eGMlYm2IGHGe3FGJGIiwtTO7bYfuLDMAWC63nZlKRAAAVjeeWQBAyBSyE5KkRHpu9ZhbieguVnHnJ9rbmZ0UixAxEHMWqwR3KJKqFUNuBREALFd1sQohIgAAqxkhIgCEjJmdlCQlM/1zzpszE7GunZkQMShlSyo4IWLGqUQMeiaiabohIg/1AFaGdmYAACARIgJA6JhZZ7FKZmDOefPORIw4qVWFENFvs863PmVICcP+d3jamalEBLAytDMDAACJEBEAQqfghIjJTGbOeV6I2HQ7s3Mhi8UqfnOXqvRHwhEiViqWikX7oBIJQkQAK0M7MwAAkAgRASB0zKxbXTg3RPQWq+TzsioVmTMz9ukDA5LhpFe0M/vODRFThhR3fgxBtjO7rcyJRFSG+/8CAJaJdmYAACBJkaAPAABQr5DNSZKSmTVzzqutRCzm85JlKZZKKRKNSobT/mzNSFbFt+OFlHcCw/5INUQMshKRVmYA7UQ7MwAAkAgRASB0zGk7REwMrp1znrtYpZjP17cyS5IRkYy0/W9ruvMHCk/Y2pmrm5lpOACwctV2ZioRAQBYzQgRASBkCll73mFycN2c82orEeuWqrgMJ1BkLqKv8jWLVdzYriTJCihIpBIRQDtV25mpRAQAYDUjRASAELEsS+a0KUlKZNbPOb92JmLzEHHQfs+GZl/VViIaNUFiMaDjoRIRQDvRzgwAACRCRAAIlXKhoEqpokhciqXmr0QsOO3MidotzhG3EpEQ0U85dyai08ocdEszlYgA2ol2ZgAAIBEiAkCouMFgMq1qa3INdybiwu3MhIh+yrvbmZ1H1aA3NFOJCKCd3EpE2pkBAFjdCBEBIETcZSmJATUPEZ1KxKaLVSRmIgbEa2d2wsOgNzRTiQigndz7EtqZAQBY3QgRASBEFqpEjC+2EpGZiL7y2pmdR9Xg25mpRATQPrQzAwAAiRARAEKlMGVXECbTqs43rOHNRKxZrBKvDREjzmIV2pl95bUzN1QiBtfOTCUigPahnRkAAEiEiAAQKl47c1rVTcs1mi1Wad7OTIjop8ZKxODbmalEBNA+tDMDAACJEBEAQmWhduZILKZILCarUlF+fFwS7cxh4M1EdENE5/SgZyImElQiAlg52pkBAIBEiAgAoVK3WKVJO7NUrUbMHz1qX7aunZnFKkHIO2Gh287szUQM5nBqKhEJEQGsHO3MAABAIkQEgFApTE1IkhJpQ1Jf08vEnOUqM6Oj9mXr2pmZiRiEOZWIoZmJSDszgJWjnRkAAEiEiAAQKmZ2TJKUTCclw2h6GbcSMeeGiM3amQkRfdUqRAx+JiKViABWzh2NUCxWVKkEdMcGAAACR4gIACFSmHLmHGaaVyFKUryxErFZOzMzEX3Vsp058EpEQkQAK2cYhnd/YprMRQQAYLUiRASAEDGzdjtzMp1qeZnGSsTm25mZiein8LUzs50ZQHu59ye0NAMAsHoRIgJN3HPPPRoZGdHQ0JAMw1CpVP2D+YknntBv//Zva8uWLRoYGNCb3vQmffe73637/BtvvFGGYdS9vetd76q7zNNPP63zzjtPqVRKW7du1e233+7L14ZwM7PHJEmJTH/Ly7gzEYu5nH3ZunZmZiIGwQ0R3UrE4NuZqUQE0F7u/QnLVQAAWL0IEYEmcrmczj//fF177bVzzvvxj3+sV7ziFbrzzjv1k5/8RFdccYXe//73a9++fXWXO/PMM/Xiiy96b9/85je984rFot7xjndoeHhYjz32mD796U9r165devDBBzv8lSHsClm7gjCZSbe8jFuJ6Go6E5F2Zl+57cxuJWLQ7cxuuyGViADaxd3QTCUiAACrF88ugCYuu+wySZoTDErSFVdcUffxhz/8Yd1///2699579da3vtU7PR6Pa/PmzU2vf8+ePTp8+LAef/xxZTIZnXrqqXr44Ye1e/dujYyMtO3rQPcxs9OSpERmsOVl5oSIte3MERarBMFrZ3YrEZ3Tg29nphIRQHu4L0q49y8AAGD1oRIRaIOjR49q3bp1dac9+eST2rx5s0466ST9/u//viYmJrzzHn30UZ1xxhnK1IQ/IyMj2r9/f9PrLxaLyufzdW/oTQUnREzOEyK6i1VczbczT0kWGzT94i1WadzOHMzh1LQz81ohgPagnRkAABAiAit0991367//+7/1gQ98wDvt7LPP1l//9V/r3/7t3/Tnf/7nevjhh/Wbv/mbspxQ58iRI9q4cWPd9WzYsEGjzqKMRjfddJP6+/u9t/Xr13fuC0KgzGlnzmFmTcvL1FUiGobi/TXzE424pKSkiiTCZr80LlYJup2ZSkQA7UY7MwAAoEQBWIFHHnlEV1xxhf7qr/5KJ5xwgnf6hRde6P379a9/vU455RRt375dP/rRj3T66ad7YeJiXX/99frEJz7hfZzP5wkSe1QhOytJSmbWtrxMrKYSMZFOyzCM+gtEBqXKqD0XMdp6QQvaJ+fORGxYrBJ8OzMP8wDag3ZmAABAJSKwTI899pje/va360//9E916aWXznvZE088UWvWrNHBgwclSZs2bdKRI0fqLjM6OqoNGzY0/fx4PK5UKlX3ht5kTtshYmJwuOVlaisR61qZXQZzEf1kWVLe3c7c2M7MdmYAPYJ2ZgAAQIgILMOPf/xjve1tb9OnPvUp7dq1a8HLHzp0SJOTk9q6daske3PzgQMHND097V3moYce0llnndWpQ0YXsCoVmdP2FL1EpnWlaW0lYrJ2qYqLENFXRUll2aX9bngYnnZmKhEBtAftzAAAgGcXQBPj4+M6dOiQnnnmGUn2kpRoNKrt27fr+eef16/92q/pd37nd3TZZZfppZdekiSlUikNDQ1Jkj7+8Y/r4osv1ite8QodPHhQH/vYx/TmN79ZO3bskGS3Ox9//PG68sor9ZnPfEb79+/Xd77zHe3ZsyeYLxihYM7MSJLiKSkSG2p5uUVXIlam2np8aK5xHqIUhnZmKhEBtBftzAAAgBARaOLee+/VFVdc4X18+umnS5L27t2rffv2aWxsTLfeeqtuvfVW7zKXX365vvnNb0qSfv7zn+uSSy7R2NiYtmzZore97W363Oc+p0jEThkSiYTuv/9+7dq1Szt27NCmTZt02223aWRkxL8vEqFjZu3KwURaUqRJhaEj3jATcY6Is9mZSkRfeK3MNaMp4857KhEB9Aq3EpF2ZgAAVi+eXQBN7Ny5Uzt37mx63lvf+lbdeOON837+nXfeueBtnHzyydq3b9/SDw49q+CEiMm0qtWETdRVItLOHDhvqUqTSkRmIgLoFe79Ce3MAACsXsxEBICQ8CoRByQZgy0v17ideQ5CRF81a2dOBN7OTCUigPaqLlahnRkAgNWKEBEAQqKuEnGeduYFZyJGmInop7wTFNa1M7uViP4fjiQqEQG0H+3MAACAEBEAQqJuJuKK2pmZiein+RarMBMRQK9w709oZwYAYPUiRASAkPAqEQc0b4i44GIV2pl95YWINZWIicBDRCoRAbQX7cwAAIAQEQBCwpw6JsmtRGwSDjoW385MiOgHr525SSVi0DMREwlCRJdlWXr00Rc0PW0GfShAV6KdGQAAECICQEgUsmOSpEQ6Lhmt755rF6sk593OzExEP4SzndmtRKSd2fWDH/yPzjrrr/SRj/xz0IcCdCXamQEAAM8uACAkzCk7REymk/NebsFKRNqZfZVrslgl+HZmdyYilYiufz08I91yib6fzwd9KEBXop0ZAABQiQgAIVHITkiSEpm+eS+38ExEZ7EK7cy+yDerRHTeB9fOTCVio+dMSb92isZeORz0oQBdiXZmAABAiAgAIWFmJyVJyUz/vJdbcDtzhEpEPzVbrOK1M/t/OCqXKyqX7fQyHudh3nWkYP+gjCkqEYHlqLYzU4kIAMBqxbMLAAgJM+suVmm9VEWqn4k4fzszMxH90GyxSpDtzLWtzIZhLHDp1eOom3tMEiICy1FtZ6YSEQCA1YoQEQBCopC1KweTg02qC2swEzFc5qtEDKKd2TTdEJFW5lqTFfuHUpnIBXwkQHeqtjNTiQgAwGpFiAgAIWFmpyW12LhcI77QduYIMxH95C5WCct25uo8RJaq1MpG7B8QISKwPGxnBgAAhIgAEBKF7IwkKZFZM+/lFqxEVJ+kqKSCZAUxlW91cRerpEITIlKJ2MxM3P5+lI5OB3wkQHeinRkAABAiAkBImNP2rLZkZu28l4vE44omEjIikRbtzAYtzT7yKhFr2pkTAbYzU4nYXKEvIUkyCRGBZaGdGQAAUKYAACFRcLbGJgbXzXs5wzB04Ze/rHKhUFeVWH+hjGRNSpUpKTL/9WFlvJmItZWIznsqEcOhVKqo1O+EiEemZVkWS2eAJaKdGQAA8AwDAEKiMG1KkpKD6xe87Om7ds1/gUhGqohKRB947cxNFqsE0UxOJeJc4+N5aU2//cFkXqZZJmQFloh2ZgAAQDszAIRAuVhUuVCWEZFi/W2oHDSc5SqEiB3XbLFKsO3MVCI2Gj2ak4achUTH8srnCUGApXLbmalEBABg9SJEBIAQMLN22JdIS4a7XXklmInom6btzGxnDpUXjualZEyaLUqFkvJ5Fg4BS+W+MMFMRAAAVi9CRAAIgYITIiYHJLUjRIw4IWJlauXXhXnlnaCwaTszlYih8Pxkwf7HMXvuKJWIwNJVF6vw+wMAwGpFiAgAIVBbiehVEa4ElYi+aVaJmKASMVQOZ53Kw0k3RKQSEVgq9z6FdmYAAFYvQkQACAGvErFtISIzEf3ihYhNKhGZiRgOL844oYdTiUgIAiwd7cwAAIAQEQBCwKtEHFB7KxErhIid5rUzMxMxtF6edZJe2pmBZYvHIzIMqVSqqFyuBH04AAAgAISIABACdZWI7ZyJaDETsZMqljTrBIV9NZWIwbYzu5WIhIiuUfcHcYx2ZmC5DMOgGhEAgFWOEBEAQsCcssO+9s1EdNuZCRE7KV8TIEZq25md90VJls9BYrUSkXZm14RTNGVMUYkIrIT74gTLVQAAWJ0IEQEgBArZcUlSYiAiGfEFLr0IkfX2+8rYyq8LLeWbLFWRJMOQ3DpAv59qU4k41zHnz50h2YkuMxGB5aluaKYSEViJ50y7mwEAug0hIgCEgDllh33JTLI9VxgZtt9Xjrbn+tBUznkCULtUxRVUS7NbIZRIECK6ZuJ28LHe+ZbQzgwsj1vhTBAPLN8/T0snPiN9nj/RAHQhQkQACAGvEjHd154r9EJEKhE7ya1ETDV5NA1qQzPbmefKJ+zvxWbnB0U7M7A8tDMjrCoVSzff/AM9/viLQR/Kgp4u2O9/ZgZ7HACwHISIQBP33HOPRkZGNDQ0JMMwVCrV/7H89NNP67zzzlMqldLWrVt1++23151fKpX00Y9+VMPDw8pkMrr88ss1PT1dd5n7779fp5xyivr6+rRjxw798Ic/7PjXhfAysxOSpGQm1Z4r9NqZeZm7k3JuO3OTSsSgNjSznbne7GxJ5QG7wndTn/09oRIRWB7amRFW+/f/j/7wD/9V1177vaAPZUFuF0OOJecAuhAhItBELpfT+eefr2uvvXbOecViUe94xzs0PDysxx57TJ/+9Ke1a9cuPfjgg95lPvvZz+rb3/627rzzTj344IM6cOCArrrqKu/8p556Su95z3t06aWX6vHHH9ev/uqv6u1vf7vGxqgaW63MqWOSpER6oD1XWBsi+r3ZYxXx2pnnqUT0P0SkErHW2FhOWtMvSVpj2D8MKhGB5aGdGWE1Pm4vzpqYmA34SBbmhod5/jwD0IV4hgE0cdlll0mS9u3bN+e8PXv26PDhw3r88ceVyWR06qmn6uGHH9bu3bs1MjKiSqWiW2+9VZ///Oc1MjIiSdq9e7d+/dd/XV/84he1fv16/eVf/qVOP/10fepTn5IkfelLX9I//uM/6lvf+pb+4A/+YM5tFovFumrIfD7fga8aQSpk7S3KycE2hYhGSjIGJGtGsrLVbc1oK6+deZ6ZiP63M1OJWOvo0Zw0ZP9erZH9AyMAAZaHdmaE1cyMXWGey4W/0twLEalEBNCFqEQElujRRx/VGWecoUwm4502MjKi/fv3S5Kee+45HT16VOeff753/rnnnitJOnDggHcdtecbhqHzzz/fu45GN910k/r7+7239evXt/3rQrDM6awkKZFuY9jHcpWOm7cS0XlPJWKwjozmpCF7TMC6qJ3s0s4MLA/tzAgrNzzshvt3twIxRyUigC5EiAgs0ZEjR7Rx48a60zZs2KDR0VHvfEl1l4lGo1q3bp13XqvrcM9vdP311yuXy3lvtD33nkJ2RpKUzAy170pZrtJx3kzE+dqZ/TscSZJpuiEilYiS9MJYXkrGFCmWNZhksQqwErQzI6zcEJFKRADoLMoUgCWyFpgvt9D5i71MrXg8PCJvHQAAIABJREFUrng8vvAF0bXMbE6SlBhc074rpRKx49xqgnC1M1OJWOvwlP2EMlUwlUrZ96PdUKkChBHtzAirmRl71XE3vEiUoxIRQBejEhFYok2bNs2pGBwdHdWGDRu88yXVXaZcLmt8fNyrPmx1HY3ViVg9CtP2nMtkZm37rtRgQ3OnudUEqVAtVmEmYq0Xpu3AcKBUVirlVlHRigksB+3MCKtcriidcpxysfA/9lGJCKCbESICS3TmmWfqwIEDmp6e9k576KGHdNZZZ0mStm3bpuHhYe3du9c7//vf/74k6fTTT/euo/Z8Sdq7d693HVh9zGxBkpTIrGvflVKJ2HEzzhOAgSaViGxnDoeX8vb3Y9CqeAEIlYjA8tDOjLA6FE9If/e7Kn3q7SqVwp3OMRMRQDfjGQbQxPj4uA4dOqRnnnlGkvTkk08qGo1q+/btuvDCC3X88cfryiuv1Gc+8xnt379f3/nOd7Rnzx5JUiQS0Yc+9CHdcMMN2rZtm9LptD784Q/r0ksv9Rai/O7v/q6++tWv6o//+I/1rne9S1/72tc0NTWlD37wg4F9zQiOZVkqTNttOMmhDe27YkLEjnOrCQaavCSXoBIxFEadH8Baw6ppZyYAAZaDdmaE1cvu2J8ta5TPF5XJJIM9oHlQiQigmxEiAk3ce++9uuKKK7yP3QrCvXv36q1vfavuv/9+7dq1Szt27NCmTZt02223aWRkxLv8DTfcoOnpaV1yySUyTVPvfve7deutt3rnv+Y1r9Hdd9+tj33sY7rxxhv1ute9Tg888ABbl1ep0uysrLKlaEKKJtvYzuyGiBYhYqfMzLedmZmIoTDudF0Oxw2vnZlKRGB5aGdGWE27gVwqrlyuS0JES7IsyWjSzQAAYcUzDKCJnTt3aufOnS3PP/nkk7Vv376W58diMd188826+eabW17mne98p975zneu4CjRK8xsVpKUGJBkZNp3xWxn7riZeSoR3VVIVCIGa9Kyn51tTEaUKlOJCKyEe79COzPCZsa5r1dfPPT38bVtzLNW8+VsABBWzEQEgIAVnBAxmVGbQ0QWq3TaotqZ/TscSVQiNspG7e/Dcf1Rr4qKAARYnmolIr9DCJec4TwQpxL2kpUQq21jztHSDKDL8AwDAALmViIm05IinahEJETslOmyJcmYd7GK/+3MVCK6LMtSPmH/qfPKTFypMu3MwEq4L07Qzoywybs9wal46O/jaysR8yxXAdBlqEQEgIAV6tqZB9t3xYSIHffUz49Jkv7mrw7MOY/tzMGbnjZVSdtzsTanYixWAVaIdmaE1WzUeeGsL66ZkFci1lYfslwFQLchRASAgNVVInaknXnMntyNtsvJTgr7mnx/2c4cvKNHc9KafknSuqhYrAKsEO3MCKtCzHnMixg6lg9vpWzFsucgunL8eQagyxAiAkDAvErEdrczG0knlCxJ1lT7rheegtM+NZSY+3DKdubgHT2ak4ZSkqT1UXmViFRRAcvj3q/wO4SwMWPVF84mQ9xu39i+TCUigG5DiAgAATOnJiU57cxKtffKaWnuqFlnkPt8ISKViMGpDRHXRatVVPl8SRbVucCSudW8R47kAj4SoF4xUX3hbCLMIWJDaEglIoBuQ4gIAAErZO2AL5lOSEaTDR0rwYbmjjKj9sPomr65gR0zEYM3ejQnramGiLFYRLFYRJWKpWKR8g9gqd7yllcpFovogQd+pmeeGQ/6cABPqeYxb8oM7/17Y2hIJSKAbkOICAABM6fGJEmJTF/7r5xKxI4qOu1Ta5uEiAnnvZ/tzKVSRZWKpUjEUCzGQ/wvJmalREzRUlkp59vBXERg+V75yiF98INvUKVi6U/+5P8L+nAASZJlWSon497HU36/ercEOSoRAXQ5nmEAQMAKWbuaI5kmROw2JSdEXJ+aW/UXRCWi28qcSNDKLEn/M2UHhQPF6vw2NjQDK3Pttf+PIhFDd9zxpA4fPhb04QB2ZXl/wvs4WwpveV9jiEglIoBuQ4gIAAErHHNmImb623/lhIgdU7GksjODad1AfM75Xojo4zFVW5kJESXpxZz9/ciUq/Ox3EpEFkMAy3PSSet1ySWnqFis6M/+7JGgDwdQLldsCBHDW97XuFilMVQEgLAjRASAgJlZu5IjmR5o/5Ubbog41v7rXuW8FqR8UYPpxJzzEwFsZ64uVWEeoiQdceZiDRnVH0J1uQrtzMByffKT50iSvv71x3XkyEzAR4PVbmbGrAsRp8O7V2VuJWJ4804AaIoQEQACZmazkqTEYKb9V85ilY7xngjkTaWbhIjBtDNTiVjrqFONsr7m20E7M7Byb3jDJl188cnK50v64hd/EPThYJWbmSlKA8nqx5XwJnONMxCpRATQbQgRASBghelpSVIyM9j+K6eduWNmvBCxGKIQkUrEWpMV+4ewMVn9c4fFKkB7XH+9XY341a8+pomJfMBHg9VsMl+UapaJ5SwjwKOZH5WIALodISIABMzM2q1gicxQ+6/cDREtQsR280LE2eYhYiKAENE0qUSslY3Y34fNqer3w61EZCYisDJnnnm8Lrhgm7JZU1/5yqNBHw5WsdFcff9ymIM5FqsA6HaEiAAQsELWruBIZta2/8qpROyYmUW2M/s7E9ENEalErFQszcTt78PxA9XvR3UmIiEisFJuNeJf/uXjAR8JVrPx2foQcdYIbyWiG3C6T8Ib25sBIOwIEQEgYOb0rCQpMbiu/VdOiNgxx5yqP+WLTSv/3H3NwbQzU4k4OTkrDaYkSRsStDMDnfDmN79CkvTyy9OyLNIQBGOiUF/ON2uE9ymuW4m4znmYphIRQLcJ7z0sAKwShemCJCmZWd/+K/cWq4xLFn+pttO4U8kWK5ZkNKl68NqZfTwmKhGrjh7NSWvsEHEdi1WAjkgmY0omoyoWK979D+C38Yb/e4UuCBHdhV9UIgLoNuG9hwWAVcCqVFScscOMRGa4/TdgxCVjUFJZso61//pXsbG8/aQlVmoezgbTzkwlomt0dEYaahYiUokItFMmY2/FnZoqBHwkWK2OFesfh81oeJ/iuqHhMJWIALpUeO9hAWAVMJ3NzPF+yYh1YLGKREtzh0w4M5gSpebVN8FsZ6YS0XX0aM4LEdc3CRFZrAK0x+AgISKCdazh7jzMIWK+sRKREBFAlwnvPSwArAKFbFaSlExLMjKduRFCxI445gZ2lebPAILYzkwlYlWrdmYWqwDt5YaI2SwhIoIxVbYfaON5U5JUiof3hTS3EtGbiUg7M4AuQ4gIAAEynRAxkZbTdtwBhIgdccy0w8Nki2UCbGcO1mhNJWLzmYi0MwPtQCUigjbtvJY34IaIsfA+xXUrD4dj9R8DQLcI7z0sAKwCXiXigHyoRBzrzPWvUlPODKaU5g8RqUQMxouTBSkRU7xcVqrmr53qTEQqEYPyne/8RO99710EuT2CEBFBm3YeZweL9n1KORHeF9IaF6tQiQig2xAiAkCA6ioRI50KEd0NzVQitlO2ZP/l398qRHTeBzMTkRDxRWdhUbphZqVbichMxOB8+cuP6p57/luPPHI46ENBG2QyCUmEiAhOznlKu65i39+Xk/H5Lh6oxsUqVCIC6DaEiAAQIH8rEQkR22nGyab6WzySJgLdzhzeKgy//O7Hz5Ekbe6v/15UZyJSBRcUN2yamJgN+EjQDlQiImg5w34gHjacB9xkTOVyONO5xsUqVCIC6DaEiAAQIHPqmCR3JmK6MzdCiNgRM84TgXTUaHq+187s0/FIVCLWiqztlyRtStb/qUM7c/DcsGlykhCxF1QXq5gBHwlWq9mI/YA7bDgPzP2J0N7Hu5WIXogYzqwTAFoiRASAABWm7GAvkY5JRoeCH4MQsRNyzvtMix9bsDMRqUQcdypF1zX8fKqLVcL5BHM1qFYi5gM+ErQDlYgI2mzUvqPfGHEecPviyuXCWW3eOBMxZ0kt9rMBQCgRIgJAgMysvewkmU507kaoROyIvGWnhJl484fSYNqZqUR0jbUMEWlnDpJlWcpmqUTsJYSICJoZs+/oN7mv3qXCHyKmI1LSOdwCISKALkKICCzD1q1bZRjGnLe77rpLkpqe98QTT9Rdxxe+8AVt2bJF/f39uvjii/XSSy8F8aUgYIXsuCQpkenr3I2wnbkj3PapoUTzh1IqEYO1UCUii1WCMTNT9KpumInYG1isgqCZcfsxbzgRkVEsS9GIjoU0RHRnIKYiUsr5OyFHiAigixAiAsvw2GOP6cUXX/TevvSlLymVSunCCy/0LnPXXXfVXebUU0/1zvvGN76hz33uc/rKV76iRx55RFNTU3rf+94XxJeCgJlTk5KkZDrVuRtxtzNbVCK2UyFip1NDyTCFiFQiutwQcX3Dt6K6WIUQMQi1QRMhYm+gEhFBKyXs+/X1qagipn3fPj5bDvKQWnIrEfsj1cVszEUE0E0oVQCWYcOGDXUf/9M//ZPe/e53a3Bw0Dtt7dq12rx5c9PP3717t6655hq95z3vkSTdfvvtOvHEE/XEE0/otNNOm3P5YrGoUqn6hDefZ45UryhknRBxcKBzNxJZZ7+vjEtWuXOzF1cZM2r/9b+2RWCXCLASMZHgZ+yGiGtpZw6V2qCJdubeQIiIoJWc6vv1fVFFJ0sqDyRDGSJaVrXqMGXUVCISIgLoIlQiAit0+PBhPfTQQ9q5c2fd6Tt37tTGjRt1zjnn6P777/dOLxQKevLJJ3X++ed7p23btk1bt27V/v37m97GTTfdpP7+fu9t/fr1Hfla4D8zOyVJSmQ6tJlZkoy4ZKyRVJGsyc7dzipTcmYwrUs1fz0uHuhMRF4jPOY8fxxq+EuHxSrBcuchSixW6RVsZ0bQKs79+nB/TDGnEvFYIXwh4qzz90DSkKJGTSUi7cwAugghIrBC3/rWt7RlyxaNjIx4p9100026++67tWfPHp177rn6jd/4DX3ve9+TJI2NjalSqWjjxo1117NhwwYdOXKk6W1cf/31yuVy3tvYGLPteoWZnZYkJTOZzt4Qy1XarhS3Q8T1/S1CROc97czBOOZUdqxpUYnITMRgUInYe6hERNCsPnsu58aBuGIl+85/MoQhotfK7O5/oRIRQBeiVAFYoTvuuEMf/OAHFYlUM/lPfvKT3r937NihQ4cO6ZZbbtEFF1wgy1p6ohCPxxWPxxe+ILpOYdoOEROZoc7eUGRYKj/DcpU2KrszmAaaP5R67cx+HZBYrFJrcsFKRNqZg8BMxN6TyRAiIjhmxZKSMalc0br+mBJl+85/ys82gEWqXapS+55KRADdhEpEYAUeeeQRPf3003NamRvt2LFDBw8elCQNDw8rEonMqTocHR2dU52I3mdmc5KkZGZNZ2/IXa5CJWJblC3JSsSkiqXhgUTTy9S2My/jtYNloRKxyq1EHGKxSqg0ViIu54U1hAuViAjS0ZxzX54zFYtFFC/bd/7ZUvjK+2qXqtS+pxIRQDchRARW4I477tCb3/xmnXTSSfNe7sknn9TWrVslSclkUm984xu1d+9e7/yDBw/q+eef11lnndXJw0UIFbJ2JU4is66zN0Q7c1t5f/DPFpXJNA8RI0b1QdavpirTZCaiq/VMRBarBKl2bp5plglze0A6bd8HTk+bqlQIheGvIzP2fYjh3Kf3VewH6Ck/Z4kskrtUpbGdmUpEAN2EZxnAMs3Ozuquu+7SF77whbrT77vvPo2Ojuqss85SLBbTPffcozvuuEP33Xefd5mrr75a11xzjXbs2KFt27bpIx/5iM4555ymm5nR28xpO0RMDhIidpMZ9w/+fNF7At1MwrAHqRctKWZ0/riq7cxUIraqRIzHo4pGDZXLlorFsuJxvld+aqxWm5jIq7+fcR3dLBIxlMkklM2amp42vcpEwA9uJWJ01n6BImnZd/7T5fAlc60qEfNUIgLoIoSIwDL9wz/8g2ZnZ/W+972v7vRYLKZbbrlFzz77rCKRiF772tfq7rvv1kUXXeRd5sorr9TLL7+sq666SpOTk7rgggv09a9/3e8vASFQmLb/6E0MDnf2hggR22qqWJEUkfKm+vv7W14u7oSIpiWlfDgutjPbChWpYNl/5KSahLepVFzT06ZmZ0uEiD5rDBEnJ2d1/PGDAR0N2mVwMKls1tTUVIEQEb4am7Uf92LOi2gp2eHhdPj2qnhhYapxsUr48k4AaGl1P8sAVuD973+/3v/+9885/cILL9SFF1644Odfd911uu666zpxaOgS5WJR5UJFRlSKpahE7CbjuZKkhIxCSZFI6xJDdy6iX11VVCLaaqsQjSY/nr6+mKanTeXzJW8pBPyRzTZWIrJcpRfYv0dZ5iLCd2OzJSkpxUw3RLSFMZjz2pmpRATQxZiJCAABMbNZSVIyLRkRH7YzS2xnbpOjOXv2UtScf56b26TpX4hIJaJUnYe4psVfOcxFDM7UlFn38eQkIWIvYLkKgjJh2glcomg/Hod5WUljO7NXiRjCYwWAVggRASAgBSdETAxIimQ6e2NsZ26rMWcGU6w4f79UomZDsx+oRLRNtpiH6Eql7HiXpR7+c0Mmdw7ixEQ+yMNBmxAiIiiTzgNswtnKPBCxP843K0MPWONiFa8SMYRVkwDQCiEiAASkthJRRodDRIN25naacGYwxUvzh4heO3OnD8hBJaKt1WZml1uJODtLiOg3N2R61avs6mvamXuDGyI2tqsDnXbMKfXvK9t3/APOiJFZhTBEpBIRQA8gRASAgHiViH6EiMxEbKtJJ0RMlBcZIlKJ6KtWm5ld1UpE2pn95oZMv/RLdohIO3NvoBIRQZlytjCnnErETMwJEY3wPc1tXKxCJSKAbhS+e1cAWCUKU1OSpOSApEiHt5NG1koyJGtCskK4srDLTDozmPoq85cP+N/OTCWitHAlYl+fOxORSkS/uSGTGyLSztwbBgcTkggR4b+sc3/vbmV2Q0QzEr6nuY2LVVIhnt8IAK2E794VAFYJ0wkRfalENGKSsVaSZQeJWJFjToiY1PzpoJ+ViJZlUYnoWLgSkcUqQWlsZ56cJHTqBe6Wc0JE+C3rPL4OOI/Hgwn76a0ZDd/T3MZ2Znc2IpWIALpJ+O5dAWCVKGTHJUnJdEQyEp2/QZartE22ZP/F3x+iELFUqsiypGjUUDSET578tPB2ZharBIVKxN5EOzOC4lb3pQ37H0Nx+46/GAvfi2mNi1WoRATQjVb3swwACJA5ZYd5iXTcnxtkLmLbTLsh4gJz2xM+hoi0MlctvJ2ZxSpBKJUqyudLMgzp+OPtEQ4sVukN1cUq5oKXzZala16S/may00eF1SDnPJ1NO/f3Q04lfhhDRG8mYsNiFSoRAXQTQkQACIhbiZhI9/lzg4SIbTPtDHLvX+BR1I2H/ZiJSCtz1eJnItLO7Cd3qcrgYFLr1qUksVilVyylEvE/CtKXx6Wbxzt9VFgNcs7sw0HnoW9Nn/1xORG+x0KvnblxsQqViAC6COUKABAQc8ppZ86k/LlBQsS2mbHsZwCZ6PyliH62M1OJWLX4mYhUIvrJDZgGB5Nas8Z+8YR25t6wlBDxCSc3Pq3PnuX6xBMv6a67/lPHHz+oq68+s5OHiR5UcELENTH7/bq+mDQtlePheyycs1jFqD8dALpB+O5dAWCVKGTtXq5EmhCx27ixh7sFshWvnbmzhyOJSsRaC1UiVmciUonoJ7fVNZNJau1aO0SkErE3ZDKL387shogvP/yMTvnf/6Knnqo+Jr3vfa/Thg0DHTlG9KaC07bszkJcm4pK01KlL3xPc+csVqESEUAXop0ZAAJiZo9JkpIZn54weSHimD+318NmZaeDg/H5H0bdSkR/2pmpRHQtthKRmYj+qq1EzGSSMgw7WCyVeAbd7ZZSifjolP1798Cf/7ueeuqohof7lU7bIeTLL8907iDRk0wnRFzrbGVe79y/W0mf5k0vQWM7s1eJyF0ggC5CiAgAATGzWUlSIpPx5wbZztw2s4b98DmUXFyI6E87s/3EPBHCOVB+80JEtjOHSm2IGIkYXksz1Yjdb7EhYsmS/rtk/2KeEq3ogQcu1S9+8VG96U2bJUmjo4SIWJpiwg4N1zmzENf1Oy+k9cVVLocrnXMXqKQaKxFpZwbQRQgRASAghey0JCmZGfTnBmlnbhsz6sxgWqB1OJiZiISIbjvzmhbfCharBMMNmNzW17VrWa7SKxa7nfmnBakYiUiHJ3Tpxa/WRRe9WvF41GthHh3NdfxY0VtKTvX9+j77Dj8ZMaRSWYpHNRWyF4rmVCJG6k8HgG5AiAgAATGn7YqLxOCQPzdIiNg2xajTPtU3f2CX8LWd2Z2JuLrbmS1LmlxwJiKLVYJQu51ZEstVeshiKxGfcM9+6iW96U3Headv2NAviUpELE3ZkipO2/L6gWr7suGMqhibCdcLRa0Wq+Qt+7ELALoBISIABKSQtZ84JzNr/blBQsS2Kcbt8NCdvdQKlYj+m7XsRTYJQ+qjnTlUatuZJbFcpYckkzHF4xGZZtl7QaOZH7t9mz99Sb/8y9UQceNGKhGxdDNuBV/OVLq/JkQs2OHheL4cwFG11rhYJWrYj1WWpAIhIoAuQYgIAAExp+0nzonMOn9ukMUqbVOOOzOY+hcIEZ33foSIpsliFWnheYgSi1WC0hgiVisRCRF7wWKqEX8wYf/OrX35mDZvTnunU4mI5ci6IeJMQf01IWLUCbLHQ/ZCkTcT0aie1m/UnwcAYUeICAABKTizo5KZ9f7coLFGkiFZE5IVrj+su03ZCeo2DMy//TGYdubVXYnozkNstZlZqq1EDFerW69z5+VVZyJSidhLFgoRLUv6SdG+Uzytr/48ZiJiOaa9ENHUQM3jcbRoPx5OFsJTiWhZ1UrEVM0zcOYiAug2hIgAEADLsmRO2wFGYmiDPzdqRCXDqXqsjPtzmz3KckPEzPwhotfO3OkDUm07M5WI0vyViNXFKoTpfprbzmwvVmEmYm9YaLnKL0pSNhaTjuX1K9vqF4q5lYhHjlCJiMXL1rQz11Yixor24+HkbHhCRNOSKrI7FOJUIgLoYoSIABCAUj4vq2Ip1idFEz7NRJSYi9gGxYolJWJSuaJ1C1Qi+jsTkUpEaeHNzFLtYhUqEf1EO3NvW6gS8Qn3x/zUS/rlmqUqEpWIWJ5jJSdFnCl4Lw5JUrxsn37MjwffRWpcquJyKxHzVCIC6BKEiAAQgEI2K0lKDEgyMv7dMCHiio251WuzRSUSYdrOzGIVSZpc1ExEO/xlJqK/WKzS2zKZ+UPEH886d4RP1S9VkZiJiOUZcxanRAtFGUa1vC9Rsk8/ZoYnmcs3LFVxufMRaWcG0C0IEQEgAKYTIibTkiKEiN1kNGtXrxmzC1exBVOJuMrbmRc1E5F25iBUZyJSidiLFqpE3O8sVek/PKZXvWqo7rzhYTtEHBvLq1IJT/UYwm3MaVeOmfX35YmKnchli+FJ5nJNlqpI1VCRdmYA3YIQEQACUF+JODj/hdvJDREtNjQv19EZOzyMmgsHUP6GiFQiSkudiUg7s59azUQMayVipWLp7/7uP/U3f/MfQR9KVxgctBfmtAoRH3dSlFOjlbqqMUmKx6Nas6ZPlYql8XFmZGJxJpzHvbhZP/sw6YSI0+XwJHM5KhEB9IjVXa4AAAGpq0T0tZ3Z2QRNJeKyjeVKUlSKFhce2J6gEtF3XiXiItqZqUT0V6t25jAuVvn3f/+5PvrRf9WBA7+QJI2MnKDjjvPxvroLVRerzA0Rs2XpF/G4ZJb0q1tSTT9/w4Z+TU7OanR0xqtMBOYzUahIESlRqr8v77PsB93pEN3FeyEilYgAuhyViAAQAK8S0fcQkXbmlRp3gqfYIkJEd+0KMxH941UislgldNwQMZOxK9bC2M787LPj+q3fuktvecs3deCJl6R3nSa990166inuMxcyXzvzTwqSDEN6ZlSnv3Fz08/fuJHlKliayZL94Jos1ZfxpWSfPhOi1viFFqtQiQigW6zucgUACIg5NSlJSg5IMnysuCBEXLGJ2bKUrg5un4/XztzhY5KoRHQtpRKRxSr+sSzLq1ALYzvz5OSsbrrp+/rylx+VWSwr/q43KH3thZrI2Md4YP+TOi/gYwy7+ULEus3Mv/XKpp9f3dDMchUszlTJkhJSqlL/eOxW+82EJ0P0FqukGh6b3GOlEhFAt6ASEViGG2+8UYZh1L29613v8s5/+umndd555ymVSmnr1q26/fbb6z6/VCrpox/9qIaHh5XJZHT55Zdrenra7y8DASpMjUqSEpm4XZ3hF0LEFZt0K/4qC5cN+NvOTCWiVK1EXDPPtyEejygSMVQsVlQuU/7hh0KhrGKxokQi6gXd1UrEvCwrmGfQpVJFX/3qo9q+/cv6sz/7gcyzTtDaB/9AxZve7QWIkvT4aPM5f6iqbmc255z3w0k7sI8fPKpXv3pd0893NzQfOUKIiMWZcioR+xruP/oj9sd5y8e/rxbgVSI2HBKViAC6DSEisExnnnmmXnzxRe/tm9/8piSpWCzqHe94h4aHh/XYY4/p05/+tHbt2qUHH3zQ+9zPfvaz+va3v60777xTDz74oA4cOKCrrroqoK8EQTCn7MUmiXTS3xsmRFyxyYL9l37SWvgvfrcS0Z92ZioRJWlyEZWIhmHULFehGtEPjfMQJSmRiKq/P65y2dLMjL+t5ZZl6YEHfqY3vOE2XX31Ho29aliD//h70l98QBObhvSKmPRXx0lnTE1Jkn6a5f/JQuarRHx0yv7+nVQpKhpt/svphoi0M2Oxss7D8EDD4/GAO2dQIQoRWyxWoRIRQLdZ3c80gBWIx+PavHnuXJ89e/bo8OHDevzxx5XJZHTqqafq4Ycf1u7duzUyMqJKpaJbb71Vn//85zUyMiJJ2r17t379139dX/ziF7V+/Xq/vxQEoJAdlyQl033+3rDVXNj9AAAgAElEQVS3WIXtzMs1VbSfCTRWPjTDdmb/LWYmomTPRczlisrni0qnE50/sFXObWV25yG61qzpUy5X1MRE3refw09+8rL+8A//Vf/2b89JJ29S/zf/l3JnnKApSeuj0ieHpavWSn0R6d/TUT0m6XA5PGFEWLVarFKypGej9giBX1nX+qkH7cxYqhmn0nCg4dczHbVPmPWz02MBLbczU4kIoMtQiQgs05NPPqnNmzfrpJNO0u///u9rYmJCkvToo4/qjDPOUCZTXZYxMjKi/fv3S5Kee+45HT16VOeff753/rnnnitJOnDgQNPbKhaLyufzdW/obmbW/v+SyDTfUtkxVCKu2LTTPtWvsIaIq/v1wcXMRJSYi+i3ZpWIUu2G5s7PRXz55Wnt2vVPOu20r+nffjqh+Bd/S7rn95Q74wSlI9INw9Jz26WPrrcDREl6w7B9fGN9CZVKPMufT6tKxKdNqRSNSv8zobNft6Hl51OJiKWacSoN05H6B9lMzP4FLhjheaqbb9HO7FUicvcCoEus7mcawDKdffbZ+uu//mtt375dzz//vK677jr95m/+ph5++GEdOXJEGzdurLv8hg0bNDpqz8A7cuSIJNVdJhqNat26dd55jW666Sb90R/9UYe+GgShkD0mSUqmfVyqIknGGkkRyTomWUXJiC/4KaiXdUKqxmqCZhKBtDNTiSgtrhJRop3ZL61DRH+WqxSLZe3Y8Zd6wbRkfPrtirz3l1WMRpQw7KrDTw5LG5r8Vfzqgag0Llmbh/T885Pavr35PD+0DhHrlqq85biWn1+tRCRExOLknZBwMFqfzGWc3+VCi9b5IORaLFbxKhFpZwbQJQgRgWW48MILvX+//vWv1ymnnKLt27frRz/60YLD4ZczPP7666/XJz7xCe/jfD5P23OXM50QMVFTseoLI2K3NFdG7Zbm6NyWfMxvpmL/Dg9EF26TciNaKhH9YVmLr0SszkT0dxbfatUqRKxdrtJJ8XhUZ//JO/X3r9umSiImQ9IVa6TPDEuvmqeLeqv7S3zckJ5+eowQcR5uq3pjiLj/WElSTJGfHdEpv3dSy8+vViLSzozFmY04IWKs/vF4MGG/ilQMYYg4pxLRnd9IJSKALhGee1agi5144olas2aNDh48qE2bNs2pKBwdHdWGDXYLz6ZNmySp7jLlclnj4+NzKhhd8XhcqVSq7g3dzcza27iTfoeIEi3NK5RzZjBlFhMi+trObFfUJRKrtxIxb0klSX2GlFxkOzOViP7IZu2Nve4GX5fbztzpSkRJeubsV6uSiOnitPR/T5Ru3zJ/gChJr3JDxC1r9PTPmCU7n1aViI+M20H91tnZee+fNm6kEhFLM+u0LQ81hIhDCfv0Yiw8j4fedubGSkQWqwDoMoSIQBscOnRIk5OT2rp1q84880wdOHBA09PT3vkPPfSQzjrrLEnStm3bNDw8rL1793rnf//735cknX766f4eOAJTyNqVFonMoP837oWIPCFeDnfb42B84RDR33ZmFqssZjOzq9rOTCWiH6qViHMXq0idn4loWdJzRfsX8vYt0muTC3yCYzAqpYolKRXXk4ezHTzC7ucuxslmTVWcim3Lkp5yGp/OyMz/izk8bFciHj2aW1bXBlYfM2o/3q1teNVoyPm4FA/P4yGLVQD0itXb8wSswMc//nFdfPHFesUrXqGDBw/qYx/7mN785jdrx44dKpVKOv7443XllVfqM5/5jPbv36/vfOc72rNnjyQpEonoQx/6kG644QZt27ZN6XRaH/7wh3XppZfSoryKmNN2pUUys8b/GzfcDc1UIi6Hu+1xML5wUuVVInbygBzVmYir96F9sfMQJRar+G3hxSqdbWceK0vZijQYkdYtMVc4rlLSc4rpPycInOcTjUaUTic0PW1qZsZUJpPUiyVpOhGXjuV1zvb5H++SyZgGB5OamipocnLWm5cJNGNZUjFuP96tTdQ/Hq/rs3/JS/HwPB66lYapVotVyM0BdInw3LMCXeTnP/+5LrnkEo2NjWnLli1629veps997nOKRCJKJBK6//77tWvXLu3YsUObNm3SbbfdppGREe/zb7jhBk1PT+uSSy6RaZp697vfrVtvvTXArwh+K2TtJ8yJwbX+3zjtzCtScGYwDS3UL6ugtjOHp/LCb4udhyixWMVvQS9Wec7J/06IS8bCRcR1TuiL6DlLOjhLqdBCBgeTmp42NTVVUCaTrC5V+elL2vHLrZequDZs6NfUVEFHjswQImJeOUuyIoY0W1Smv35J3Nq+mFSWKonwPNWlEhFArwjPPSvQRe688855zz/55JO1b9++lufHYjHdfPPNuvnmm9t8ZOgW5rT9hDo5OOz/jRMirki1fWrhsC6Y7cyr96F9KZWILFbxVzZr3+c1zkT0q535oD2SUdsWmIHYzGuHYnpwUjqaSCifL3pVrJirdrnK8cdLj02XJUWln76sN/z2jgU/f8OGAT377IRGR3M6+eQOHyy62rQbus2YGhio/8Ve1x+TslIlRI+HLRerUIkIoMswExEAAlBwnlAnMgG0sLshokWIuBzutsd1qYWfnPhZiWiaVCJSiRheU1N2iteqndmvSsRty8j/trlVx1vW6Jlnxtt3UD2ocbnKv4/a77ccm1F//8LffDY0Y7GyboiYM+f831qTiknlipSIqRSScK7lYhUqEQF0GUJEAPBZpVxWMWenHYk0lYjdxp2xtK4/XCFitZ05PJUXfmMmYni1amf2uxLxhGVUIlY3NA/pZz8jRJxPY4j4E9N+qvGmRXYmV0NENjRjfl4lYq6ggYH6EHFgIC7N2q8chCWcy7doZ6YSEUC3IUQEAJ+ZzubuxIBkxIb8P4CIu1iF7czLUXZmLA0vIkRM+Boiuu3MVCKuYTtz6FTbmetTPHfuXacXq6ykErEaIq7R009zvzkfN0TMZk1NV6QjqaRULOstrxhY1Odv2GBfjkpELCTr3N9rZm4lYl9fTHLu27PlcKRzuRaLVahEBNBtCBEBwGdmNitJSqQlGYP+HwCViCtScUK64fTCaYR7CX9mIlKJOLmMSkTamf2xUCVix9uZV1CJuLWmEpEQcX61lYg/mZW9xeaZIzrzTZsX9fkbN7ohIpWImN987cyGYchwKhEnQnIf32qxivtxnhARQJcgRAQAnxWcEDE5IMnI+H8AhIjLZpplqc9OIdb1LZxUee3MnTwoB5WIS5uJyGIVf7Xeztz5duaSJR1yfsxbl1GJuC4q9VUqUqZP/3U4296D6zG1i1V+NOOkIk+9pNNOW1yISDszFqu6WKUwZ7GKJEWcx8SxsIWIjZWIzsc5S7LCUTQJAPMiRAQAn9VVIkYIEbvJzIwpORVsAxFjgUv7185sWRaViFrqTEQWq/ipVYiYTicUjRrK5YrecqB2O1yUypKOj0l9y/jL1zCkX4rZv8RPz3TmGHtFbSXiwy/bwfD60Smv4nQhtDNjsbI125mbLe2JmPZ9++RsOH5nWy1WiRr23wqW/OlaAICVIkQEAJ95lYhpBVOJaAxJikpWVrJM/2+/i41nTSkelcoVLyCcj1uJ2OknBsWi/WwqFososohws1ctbTszi1X8lM3a9zWZTH2IaBhGx1uavVbmZVQhurY5g8sm+pIdb73uZrUh4uNOavK62OL7NN1KxCNHCBExv/namSUpVrTv2ydCEiK67cqpJo9PKZarAOgihIgA4DNz6pgke7GKjLT/B2AYNdWIzPdaiqPTdk9kZLYoYxFZXdSQDNkVBp2c7U4rs41KxHCqVKyWi1Wk6nKVToVzB92lKsuYh+g6wX3VYMuQfvYz7jdbcUPEY9Omft5nh8Nv2bS4KkSpthKRdmbM76jz4pmRLyqRmHunHyva4eFkIfhhg0VLKkmKqjoruVY/y1UAdBFCRADwWWHKbiNOpqOSEVDrqbehmZbmpTiac0LE4uIrG+I+tDTTymxzQ8TFbGdmJqJ/ZmZMWZY0MBBXNDr3h+NWInZqQ7NbibiSENHb0Hw8G5rn44aIL8QSKsei0guT+tXXb1j051dnIs7IYkAcmvjvgnTZC9Ifj9sProlcoenl4mX7AWGqQ2MSlqJ2qUqzFyCpRATQTQgRAcBnZtYO7hJNKnJ8w1zEZRnL2VVrMXPx1WsJH1qaqUS0TbrtzGxnDhW3lblxHqKr08tV3ErElbQzv4oNzYvitqu/kLHDQD31kt60yM3Mkv17OTAQV7FY8eZoApL0f2el9/+P9Lpnpb895jyJ/bsfac1D/9X08omy/YAw1emhxIvQaqmKK0UlIoAuQogIAD4rZMclSclM8yfUvuhUiFgZl6Y+JpWeau/1hsR43n5SEi8toRLReU8lYuctbSai/b1iJmLnuWFQ4zxEV6fbmdtRiehtdT5ujZ5+enzFx9Sr3KD4Z1H7G5Z+YUKbNi1tbActzWg0W5He8rx055QUk/R7a6XvxY9JN96ndIuK1WTFTuSyxeCTuXyLpSqufioRAXQRQkQA8Jk5NSFJSqRTwR1Ep0LE7P+WZv5MGr9YqvTeYHx3y2OivPgnJV478wpu9xuT0sjz0liLvOuFF6Ykta70Wg0sS5pa0kxEtxKRduZOa7WZ2bVmjX16x9qZ3ZmI7ahEpJ15Xu7PeOaV6yRJJ1tL//3auJENzajXF5E+PixdvVZ69tXSbcdJa3L2iw7NlqpIUtIJF7PBdzN7FYbNlqrUnk4lIoBuQIgIAD4rZO0QMem2ewXB6ECIWJmW8t+w/13+mZT9ePuuOyQmndlKboXDYqy0nTlfkf7fl6WHctK3p5pf5p//+RlJ0nnnbV3ejfSAGUsqy54tFV/E0hsWq/hnoRCxk5WI2bJ0tCwlDWnzCgp1N8WkhCxpbb9+emiKeX0teD/j1xwnSfqVdUtPbqtzEalERNW1w9Lu46RXOv+lcs6M4oGB5iXGKct+nJ6uBP+7mnMrEVs8NnmViISIALoAISIA+MzM2klQIjMQ3EE0285sVaRi89lCi5L/lmRNSdGTJMWl3K1S4V8W/jzLlErPLv92fXTMSQL7rGVUIi7zecxdU9K4U0nxz9PNL7Nnjx0iXnTR9iVff69kIceWMA9RYrGKn+bbzCzVLlZpf4hYOw8xsohwuZWIIb3KeUVgZiill1+mSq6ZwcGkNJyW1g9IU7M67+S1S76Oajsz32O/FSrSt49JLyxwt1gqtX4MnChLl/6P9K3JNh9cg5kZ+yBbVSK6vR65EFUitmpn9ioRe+TxGEBvI0QEAJ+5IWIynQnuIJptZ859RTr6RmnmlqVfn2XZny9Jmf8tZf7I/vfkFfacxPnkbpNGXytN//nSb7fD/mFK+sds9WN3tlJKi/9L/90Z6X8Nta5AWMhtE9V/752xZ0PVevHFrH7845eUSsV07rlbF3WdFcsOJN95SLqlR8a7uZuZFzMPUWKxip8WqkS8+OKT9X/+z3t1+eVvbPttt2Meoqu6XIWW5lYGB5PSa5xFKk+9pF9ewlIVl1uJeOQIIaKfypb0gRfstzc8J/1Lixetbrnlh/q1X/uWjh1rHvrfn5W+MyVd/ZJ0yAkjf/GLrP7rv0a9y3xrUjr3eenBmtvI54sym2xSnp0t6Qc/OKwvfemH+vKX96vsjBNxKxFbhoiG/TgdhmBuocUqbrhIJSL+f/buOzyqauvj+HcmvZJCQgkBDKiANAFBpaooAqIgKqIgVfCKCigKil7AK4jYRb2KqBQVKwhYqReVJi/Sm0AINSSU9D7Jfv84SSCkECBVfp/nmSfJzJkze2Znylmz9loilcHlXYFdRKQcpCVYB0auvuUZRMzORDTZQcSMXRA/FnCAU90L31/6/8CxE+w1wP1uwA6pP0DGGoh7FPy/LPh6WTFWHUUywPmqC7/dUrQlFe4+Yv2+KQyauUOCwzoauZCA4OsXfgyd668UWJ9iBcZqOsOudFiVDF3O6lOQs5T55puvyM2uK0xcplVf8b0Y2JcdXAlPh1EBYLuELK2KIKczs18xMxHVWKXsnC+I2KhREI0aBZXKbZdEZ+YcZwcRFyzYRYcOdS59p/8wbm5O2BvVIAtwizhJ7doX/hhpOXPpWbUqgrAwf0JDq+Q53xh4Mgq+SwAbVvZ710MwMQier3omi/ezz7YyerS1wmDlygh69myQ7zYerALfxMOiRBh4FGY5xXNTp1kkJ2fw228DOVYzkEHHrPITnQ/BUwFw5c+bGT3iR1JSHAQHe1Grli81a/oQGZnAli1ReTIfd+06wfvvdz9rOXPBT26v3Oy+8n9zy2mYUmhNxOwhVoSAp4jI+SgTUUSkjKVnBxHdfKqcZ8tSZK/KoT9h2cTNYDIgrj+QCh6DwL1n7mb7lywhy1GMIEvSdOun5yNgcwGbE/jNAZsXpH4FKfMKvl7iZDCnwfUmcLvj0u9XCRoXBQbrNCbKOshKOs+SpJKWk4U40A96Zsecz13SnLOU+ZbuVxa5r39HQ8jfMDrKCiCGOsPLwbCqbuUPIMKFdWYGNVYpS+cLIpamksxEzO3QXLMK7767gT17Srgx1T+AzWbDuXFNAMLS07BdxIuLujOXjrQ0B/36LaBevXfYvPl4nstePwXvnLZq+P5UI5MXs2P6E07AHYetoOJPP+1l0KCF1vav31ZgABGs95OPakKQE6xMhq9cvahb14/jxxPp1Gc+9xzKIhPo4AlOwOun4RG/6qSE+GO324iOTuKvvyL54Ye/2bgxkszMLBo3DqZfv6a4uTnxwQcbmTjxfyQlWU/uwjIRvbIjn6kV4A3ufMuZlYkoIpWJgogiImUsLdHqQOrqE1BuY0hP8WTeAFg9PYqIn4dAxkYrA9H3zFLmI+vX81mXLnzUujWmqEYimYcgbSHgAp7DzpzvXA9837R+jxsGGdvzXs8RDknTiY+E3Su7k3A870FNeVqeCL8kga8d/OywLMkK3uUEEb2dSv+gJC7Tqk0F8Ig/dM3OPvz5rCCiw5HFkiX7wc2ZVzq25KGjZ8Z4LhtW85GbPWFBLQi/0ipUH/QPWZMQdwGdmeHsmojKRCxtCQnWwX5hNRFLU2lkIoa1vwKHI4unnlpy6Tv9B8q6uhoA1/le3GHGmUxELWcuSXPmbOHIkXiuvroqTZtWyz1/Xhw8HW39Pikjlr5hrxE79Vc+dkkgwMl6z2m800Hv4T/hcGQxdmxbnnzyhiJvK9jZCiQCvHDaiVe+vZ/W7WpzbMztnDR22rs4WF4HXjl6CA6egqur4zz/EV49/jyHD49m/fqhLFjQh5UrBxAXN45t2/7F3Lm9+PLLe7Dbbbz44m988MFGoPBMRB/nChREPE9jlZxMxJTLJBPRGHjkWHmPQkQuloKIIiJlLD3BqiPkVo5BRFef2lyfHe/733/mWs01qswGu2/uNiueew6A+rffjs1exNtF0gdAFrjfA07nrN31GArufcEkQkwPyLRqImVmZLBrXn++6J/OW9fZ+OreMbxRsyYf33ADq199ldP79pXgvb0wWQaeyT6gGlcVns/OyBgTDfHZgaqcg5PSNCfOOvC42RMauMH1nlZQc086HMjOrlq79jBxcWkEP9KOKOzsTCv8IGVEAOyoB8vrQk9fKIO7UKpOOODYWUmEF1oT0c3NiUcfbcXjj7dWp91S9k/JRMwJIvpfUx0fH1d+/HEvv/5afq9VFVW9136G0d/Q+Qrf829cAGUiljyHI4upU1cD8Nxz7bBnZ+mtTIIBR61tXqsGmYu3EhubyhtvrGPI1W/Q7D/fUzcxiZO/7yf1SCyDBzfn5ZdvKdZt3uUDg/wgzcDwGFcazOkPzUMhMo5Tgz5j0YJdjO8xB+75kKZ/H8HhZGd3hp1atXxp3TqEnj0b0KlTXXx8zrxu9OzZgBkzrFUL//d/VhSqsExE7+w3ubSiPr+UkeJmIiZfJpmIf6Van3FEpHIq/1dVEamwkk6c4Nj//V95D6PURG3dSsKxsv8qNC3ROqB29Q0s89vOZfPh+qFOuPvBwXUQsfE+cOuQe3H48uUcWLECdz8/bnz66cL3Y1Ih5SPrd6/HC7gdG/h9DC7XQWYEjsieLH36Kd6sVY2vH1rD3uVgc3Im9MYbcXZ358i6dSx75hmmX3kln7Rrx+6FC4vOgiwFX8ZbH3BDnGFkADzmD7VtWexMg/DGtQGo6lW66XvGwH+zG578KzvW7GKDW7Mbeucsaf75533gbCelb2sAnq1a+NLkYGdoVPYxnGL5aH0Uv/9V/EzU35Kg0X4YcuxMd+kLXc5ss9l4773uvPbabRe15FKKr7yCiMaUbCZi3exA5DGceOEF6/XyySeXFNmp9nJ0WwN/Av7vALd2vLiakcHB6s5c0r76ajvh4THUrx/AffddA1hfmI0+DhlY73VPBsD48R3YsOFhBgxohqurEys/30JEuzfJeHo+PXs24MMPe1zQ6+Vb1awyAH+lwpwUZ9ww1HnjV3auPkjv3l+TlpbJIw81ZfNdIfwYCm8Uo4bwkCEt8gQyCwsiVnGxxpnuVP6HuynnaaxyuWUizlMAUaRSK/9XVRGpkDJSUvjyzjv5tEMH9ixaVN7DKXFHN2zg0w4d+KxLF1JiYs5/hRwlkLGUnmgd1br5Vr3kfV00mw23KkHc+Ij158pXDudmYxljcrMQb3zmGTz8/c9cL+HfkPDCmVPsUKvDs3MLcLm+kNvyAP+FYA/Byb6Gvxd9TFJ0DEFXw21TOvPk0aMMXr2ap0+e5N5vv6XJgw/i5uvL4dWr+apnT95r1Ii/Zs7EkVpwJ8iLtSYZnjgOe9LOnJeWBeOzsxBfDAJ3DJ98uIET47OfA1WtNcWN6/lTmlYlW01Uajhb2Rw5zl3S/NNPe6FrYxJ8PLja1eoEXd6OHo3PV2+rMDExKTwweBHD0rzokFaF+esji3W9q9ysTqK/JMHn2QcjF7qcWcpOznLmsg4iHndAqoFAJ/Atgf+Lms5WDbdIBwx7rA316vmzc+cJPvjgn/tl28V4552uREWNoXp17/NvXICzG6soS/jSZWUZpkz5A4Bx49rilB1Us9vg59rwXFV4o9qZL6BatarJrFk9OXx4NC+/fAv161ThjpvrMm9eb5ydL+zQ0dcJZte0ymkAvF/Dxu8fdKFOHasmdL9+TXnvve7YbDa6+YB3MXc/dmxbxo5ti91uo0WLGgXftqv1pM9wKv83heTzNVa5jDIRM43VvVtEKi8FEUX+CbISIW44JH1YIkEuALuzM1UbNcKRksJXvXqx4b//LZH9lpqUryFjU7E39w8Lw6dmTaK3b2dejx5kJBdj2VRWPMT0gtSFFz3MzPR0MtOzsDuDk3s5ZiICuLSi9RAvPAL9OLx6LeFLlwKwZ+FCjv75J17VqtHmiSfyXidxMiS+dOaU+rl1vtdjRXfncKoBAYuw2Ty4fWIcQxbDv/4XxA1j5+MVZK0XdvXyolHv3tz92WeMPnKELm++SZXatTm1Zw+LH36Yt+rWLXSZ886dJ7jmmvdp3Ph9OneeQ79+83n66SW8/voaPv98K8uXh7NjRzSnTp05KH37NEw/DQ32Q5eDsDjB+jsiA65xg5sT4mjf/lMeffQnUhZswf/QmSYKpV0T8b+nrTE+7GdlIObI6cq8IgkOHE1gy9YobMPaATD2rA6a5WX79mgaN/4v1177IfPmbSty2x9//JvGjf/LPIerFZw9fJrHe88jKiqxwO3j4s4Ekas7n8lYGRUF0Y4zmYjF7c5c0e3deyo3w+2EAwYdtZofZFXCmEpOJuLZyxLLQnh2FmJYCWQhglUCoFb2vqLtzrz22m0ATJjwP06fTimZG/mHuNBg09m8vFzx8HAmNdVBUpIaH12qhQt3s3PnCUJDfenfv1mey2q4wOTggt87goK8GDeuHXv3Ps7ixX1z68heqA5e8EMofBECg/0hNLQK69cPZf78+/j007tyl1ZfCJvNxtSpnYmPH0ePHlcXuE0VV2u/Gc7l/6Zw3uXMl1Em4u/JcMwBtUvodVlEyt4/pJy6yGUu6U1InmH9nrEaqnxoZX9dAicXF+6cOZMqtWuzauJEfnr0UeIOHeKWyZPz1sczpvxbu+YEUU0suHYEr9FWp19b4R8cPQMD6ffrr3zSti2HV6/mm/vuo8+CBTi5FPKpxrEXYu4Cxy5wbAK3rmC78CJbaQkJALh6g83p4upFlRj/+bj5JXLj0zNYPm4cK//9b6645RZWjB8PQIfnn8fVyyvvdbwnYfUrPos9CDweOv/tubQAv7nU63SP9bfPi2AvOHXOzceH60eN4roRI9j5zTesnjYNR2oq/mFhBW6/aNEedu606i3u2HGi6GG42KlWzRvf62pTu0czjl8XxpIkO0vOWjn3SjAE4s7hw3HUqOHN9Oldqd4+kHYHrcu9LuFffsGCXfz++yESEtKIj08nPj4t+/c0EhLSiXVxJvabR8Bm42H/vEcctVygiRtsS4P31h6HTldjwoKo5QwPlmOzb4CIiFi6dPmM2Fgr2DdgwPdUr+7NTTddkWe7uLhURo36lVmzNoOrEy6PdCADaLhqF7uOJtCnz7csXdofFxfr+ZuUlM5jj/3MrFmbee65dkyebC1jG1DFajyzNAlGHoecuG5xlzNXVDExKUyatIr33tvA9Old6TCoFXccyl6WGwerk63MHp/yPy4utvJazlyS9RBz1HWBgxmwMAEG33E1N998BStWHGDSpP/x9ttdS+6GLnNBQV4cOhRHdHQS3t7WBK5Kgraelb+ea1kyxjB58u8APP30jbi6ls8LR7dz3uqrVfOmV6+Gl7xfL6/Cn9z+btZ9zXQp/fs8Z84Wune/ksBAzwIvP29jlcsoEzFnKXMfX3i1fIciIhdJQUSRyi4rDpLeyP7DDVLmWoEu/wXgVOuSdm2z2eg0YQJVQkNZPGwYq6dOJf7QIe785BOc3dzAJMOpW8HrCfDoc+n3JZsx5gJrlKWD50BI/hjSV1knp3rZ4/FYE5gAACAASURBVBpUaKCqSmgo/Zcs4ZN27dj7448sGjKEnrNm5W8ikvoLxPa1gpTO11hLc7MDiBs/+oiU06dp/dhj+QNuBdjx9dcAeFcFbOW89tTmAjZ/Wo8YwdrXX+fo+vV8P2AAJ3buxK9uXVoOG5b/Oj7PX9ptevQGMwscO8Bz6Hk3d3JxockDD9C4b1+SoqIKbfBy/LiVvTZqVBtuv70+x48nnnVKyvN3bGwqR47Ew5HtsGA7r37YA1vvFrx32grU3OIF3bzBZnNj0aK+1K3rh5+fOwCD/WBuLDRxv/iHYMWKA7z77obCN/B0gWm/Yg/1J/jF1lgLKM/o6m0FERfFZMHDVhbimEBwLYUD65dPwq40azlowFmna9yg6VmPQXR0ErfdNpdjxxLo2LEOTZoE8+67G+jZ8yv++GMQTZpYnUB///0g/fsv4ODBONzdnek2py/z/Txp5gY/jW9Dy/lbWLXqIGPHLuONN7qwdWsUffp8y+7dVhbolCl/0KpVTXr1aojNBh/WgMb7rTqWwdkPU2VdzuxwZPHRRxt54YWVnDqVgs0GK9LtjD1gNfRp5mZlyS5IgL8jYGEo1Cv7ZscXpayCiA6TN8BUkvUQc1ztapUbeDoanom2cdU7feHzv3h340H67DzJjY3KsUzFP0hQkCeHDsVx4kQSYWH+zIiBRyKhfxWYVbN4310mZsEpB9SpJM+T0vDrr/vZuDGS4GAvhg5tUd7DKVN+2ZmTDtcLO9zNWdBT3I+hX365nQEDvufqqwP5+ecHueKK/OVOittYJeUfHkRMN/BN9lLm+xREFKm0FEQUqeySpp/JwPN9x8qWy/g/ONkK/D4D15vBVozUnMwoSFtiddH1+leei64dPBifkBC+uecetn3xBfFHjnDfd9/h6fEdZKyB2DWQ9gP4vgv2i0iHMsYKSNqtINxnXboQGxFBQP36uaegRo2oe9NN2AuqbWMPAN83rSy5lE8g6R3I3A/xI60afp5DwfNxcM5f5L1qgwY8+NNPzL75ZrbOnYtHQABd3njDClYZA0mvQcI4IAvceoLfnNyg5KZPPuGH7EDbhvfeo8ubb9Lw7rsLDYAe37yZX0ePBqDjk5R/EDGbq7c3bceOZemYMWz73Fqe3HHiRJxcS+nIy3PABV/FZrPhXb3wius5QcRWrWrSpUv9IveVmuogKsoKKEZGJtK0aTXCAmFUgFX8vYHrmYOH5s3z3ubMGvB29eLXbSpIz54NqFvXD19fN3x83LJ/uub7282t4Lfo271h2inY27wueLnhTxZD/Usn/W5pIqwsYKX/gyQzM8wVd3dn4uPT6Nr1c/buPU3z5tVZuPB+fHzcOH48iW+/3UnXrp/z22+D+Pjjv5g6dTVZWYaWLWvwydy7ucOpKjjghSCo6evDt9/eS6dOs3nzzXUkJKTx2WfbSE110KhREF261OPNN9cxcOBCmjSpRv36AVzhCi8Fw5NREH2BjVUqkuXLwxk16le2b7cKcnbsWIcb3+nFNOcqZGbBPT4wOwSOZMBdh2FHGlwXDp+GWAFvlwqemZWQUPpBxGMZcGOE1VxoqJ+VmVoamYgvBkM1Z/hfMqxPgT24QL82ZPVrQ1usoHZHTysz+IaCk5KkGM7u0PzGKXgqyjq/oVvxgzufx8G/Iq2GVEP8rPqybpXw9aEwGcYKlPoX8sVJaqqDl176DYCnnroBD4/La/2ov6f1Hmpcnfku3nrv9Cpi/k844N3T8N8Y6//sh9DiZXy3b1+bpk2rsXVrFNdf/zE//vgArVrVzLPfLdnVODwKy0TMPj/5EpYzG2O9X6cb6OJV/ouECvJrIsRkWSsqrrmEL2NFpHzZjCoWi1Q6KSkpeHp6kpx4HI+EhmBiIGAFuN1kNbmI6QPpK6yN7dXArQu43Q6ubbO/Yk0BkwJZpyFtBaT9Ao6/srcPguDjBQYeIzdtYt4dd5Bw7Bj+9erxwA8/UDV0FcSPtvbpVAf85oJr+zNXMplAeuHLq9NXQ8Kz1jj9vwHgzdBQ4o8cybfpld260fvLL3HzOU/wzWRadQuT34L037PPtIP73eAzDZyvyHeV/UuW8MUdd5CVkUHojTdyx4wZBNd658wyce+J4P1C7uNyZN06ZnXsSGZ6Ov716hGzfz8AYbfeStfp06l6dd4aPWkJCcxo2ZLTe/fSop8rPaalQ3A0OAUVfV/KSEZyMm+HhZEUFUXVhg3517ZtBQdsK6hOnWaxatVBli3rzy23FLzk+Z8i3YDfjixSsrMyXwyygnCl4X9JVvbbKYdhzY6TrNh4nNgsG/y2F9sPWwkNrYKTk40DB2KpV8+f1asH4xTojb8TZKQ5uO22ufz++yGcne04HFnY7TaefbYdEyZ0ZFaiE8MirazGrWFnanK9996fPPbYz7ljGDLkWt55pyseHs7cc883zJ+/i2bNqrF27RA8PFzINHDjAfgz+yDtryvg2kur5lBm9u8/zZgxS/n++90A1K3rx2uv3cpf7Roy5ZT1gIyvas1xzuMTnwn9jsLi7NKRXja40dMKXHX0guvcK16gxNNzMikpDhITny1y+eGlePkkPJfdFKmlO7xfA56Ogt+SYVltuOXienwUKSUL1qXATyfSefP3SDIbh0B28N8JmBsCfcu5zEBl9cQTPzN9+p9c/VYv9tzaFIDp1eGxgOLvY9IJ6/8iLftIJ9AJ+lWBK12t7N6EzOyfWWf9zLSC8kP9rW3LMkBvDGRxpjRDYY5lwIcx1ikq06ot19odmjtn4r43iuiVe1m7PJz164+Snp6Jv787Bw+OKvOapOVtz56TNIhwglArM9DdBrd5WUurazpbWfWBTlYw9r8x8Gms1YgpRydP+Kl24c1QzhYXl0rv3l+zfPkBPD1d+Oabe+nW7Up+SYRBx6wmT3522FXfqul7rj+SoX0EtPWAP/J/RD2vbalWoH1pdlmW1u7wcjW4+fwLZNiSagWj25bglx4bUqwavrNqgvtZj1/fI9bKgSnBMMor+1gmORkPj0rypi0igIKIIpVSbhAxagIemZOsoF3AqjNfOxoHJL4IybMg63Ax9+oObp2sYKPnI2Ar+MNm/NGjzOvRg+ObNuHu58e9335LWMdaENvPyoDEBm63QVYMZB6FrOOAAdfO4PEAuPcCuy9kbIWE8VYGI4AtEIL3gD2QjJQUYsLDOb1vX+5p59dfk3L6NMFNmtB38WL86uTPKixQxkZIfBNSvwIc4BQGgesKDN7t/flnFg0eTOLx49hdXGj31F20H/4LztXngnvP3O0Sjh1jRqtWJEZGct2IEdz+9tv89dFHLH/uOVJjYrC7uNBy2DA6PP883tWrY4xh/oMPsn3ePKo1bcqQBTtw8ciE6qmFPs7lYcvcufzyxBPc8/XX1Lv11vIezgVp0OBd9uw5xfbt/+Kaa4LLezil7qpfotlbOxiXdAdRTZwLzUS5VMYYli4N57nnlrNxo9U5OTTUF1dXJyIiYsnMtD5CVK/uzerVgwkL86f7IdifbgW/umSm0Kn9J+zadZI6daowd24v2revQ4aBq/dZy02/OCfQYoxh5Mhf+PrrHbzxRhceeKBJ7mVxcam0avUR+/adZsiQa5k5807AOoBqEQ4O4NCVEFrBE24SEtKYPPl33nxzHenpmXh5ufDcc+158skbcHd3ZnmilXH4fg14yC//9bMMvHrKOujdk573spygsjGGqVP/YNiwloXW6boY65KtoEXNQh7j7anw0kno6QP3V4GMjExcXV/CbrfhcLxwgaUqzujRYx5paQ7q1w/IcwoL88fd3Rlj4NsEePI4HHFY3WCdgQxgf/2SzUYsyBtvrOWpccsJ7d6QLtN7MTPejg2YUcMKSF0Ih7GyorelwpDSbQRfYR09mkDY+ztJf7ANNmP4JMTGwAKeC2c7dCiO777byejRN+SedzrTqp06Mwa2pF3YGK5wsToXP+RXsuUiMgxsSrWCN/vS856+D4VbCwh4GwOrU6zmX/Pjrdc6sMaVfu6R3Nz1MPUXbDZo2rQaU6bcQrduV5bcHagkDh+Oo3arj/F9oBWNnujAumL0PrrDG/pXMYyMhONZNrp5w4LQ4s1/enomQ4cuYu7crdg9Xei4cCgra1qfRzp4wpyahS+t35gCrQ7Ate7w1wV8DxrlgH9Hw8xYKwBdxQ5utjOZ+Z29rMY5rQuI0cVmwoQTVvblFS6wvZ4V8DtyJB5vb9fcMi7z4uDnROu5dPapnSfMD82/X4eBa/bD3+lWFvDCUCsQm5gF1fZY2Zbh9aF6poKIIpWVgogiF2HKlCl8++23/P333/j4+HD77bczbdo0goLOBKYKOlDatGkTzZs3z/176tSpvPPOO8TGxtK5c2dmzJhB9SKWbObIDSKG++PhHgMBy8Ht5vwbGmPVR0z7JTvbcAvgamUF2jytk0trK3Do1rHYzVjSk5JY0K8fu7//HruzM93ef5+WQwdC4iRIfBnro8zZ7Ged5w4uLa1l0BiweYHXk+D1VJFLoU/v28cXd9zBqT178KpWjfsXLqRWmzbFGi9gBTRj7rKCii43QOAKsOVfS5EaG8uycePY+OGHAAReVY9W/3qMBr164VenDo7UVGZ17MjRP/+kTseO9F+6NLcZS/LJkyx79lk2ffwxGIOLpydtRo7Es2pVljz1FC5eXgz7vzVUrdIMcIEa6fluXy6On99U4uLSOHny6RINmFRUnxxNZ0icK8OzEvmgccmnWB0+HMeXX27n88+3sWWLtY6wRg1v/v3vjgwZci0uLk5kZGRy8GAc4eExNG4cTM2aPsRlWsG8nK649V3hcdc0PFbs5L5eDalSxXrOzY6FgcfgKlfYWa/gzJvCaqNu2XKc66//mNRUB598cieDBl0LwA8JVsOLEReQqVTWsrIMs2dv5tlnlxMVZaWMPPRQM15++RZq1sybYX3SAVWLUXTmuAN+S7Lq9K1KhverW91Q339/AyNG/ETNmj7MmnUXt95ar1hjNMYQE5PK0aPxHD2awNGj8Xh4uPDAA00wBhruh73p1jLqIX7Q3cfK1tqaCv85YQXywKrhuCnMahQTGDgNPz93YmLGXtDjdfaYfHxeLrBTr80GtWr5cuWVgdSv70+rDnXZ37kJb5yyAohOQErD0s8oS0/PpHHj99m79zRvvdWFpAeuZ3x2j6c3q8GowMKvm2Hg43WRbHHzICLQjz9SrANugBNXFfx/cCwDHj9u1RXr7nNpJRYqGmPg0ePwQQyQkYnvSz8Q/sGthb62R0TE8vLLv/Ppp5vJyMjit98G0r59nXz7/CvVCogkG/C1g48dfJ2yf9rP/NyTDlNOngnQ13GxajHe7g1tPPLW3TzhgHdWHmZLljPzbqqGl2v+iUg38NGaSHZ4erI/oAqrkyGpkKOvGTXg4QICx2uTreX6YP1P9/KxsjLbeVrj/DMFPttykjWJhpsPHGVYbQ/at6+Nv//lG5w5eTKZoKBXCQjw4NSpZziW3RBpTUreYFhilpWhOCbQcGDZXl58cRVeTWuy7enunMqEe31hXsj5M0TBeq164uU1vNv4SqgfjLMxvFTNxpjAoq+/Kw0a7bfKqewquiILAKlZ8NZp6/80Icv6n/iXP0wIsgJ2b5+yyp7EZb+ONHOzSizcXwVCnGFuHDyTXQbEjvW/NDnYeh3p1u1zNmw4xqRJnRg2rCXjTtp5/XT+MRSVNbk9FW4+CCcyrTrTi0Lh+wR48Cjc6AGrrzjrWEZBRJFKR0FEkYvQrVs3HnjgAVq1akV8fDyPP/44Xl5erFixIncbm83G119/Tfv2Z5b2Vq1aFWdn62jg008/5fHHH2fOnDmEhYUxatQojDGsWrXqvLef+8a7Hzx820Hgb2Ve/MRkZbHs2WdZM20aQddcw7CNG61mKxnbrcClU02wh4BTDavOYsq3kPoFpP+WvQdXK+PRezw4FS9zLCUmhm/uvZcDy5fj5OZGz9mzadznAhq6ZEbCyTZWdqZ7H/D7otB6kYf++IPFDz/Myd27c8+r0aIFblWqELFyJVXq1OHhDRvwCsqf0Ri9Ywcrn3+e3d9/n+f8XnPn0rRvF4gOBlsAVD9V/LFLoVJSMvD0nIKLi53U1Oex28v2uVBewtOt7IGSeuonJqbzxRfb+OKLbfz228Hc4vL+/u6MHduWxx9vg6fn+VP8MoxVi2zySSuzBiDU2WrEEuIMIS5WEDE8w+oyXFCm3fnMmrWZQYMW4uvrxsGDo3IzJiqy1asPMXLkL7kZnddfX4u3376d1q1DSuX2DhyIoV+/BaxZY2WjjxrVhpdf7oy7+5mIVFqag+3bo/nrr0g2bTrOX39Fsm1bNMnJeYN1zZpVY/PmR4jPhMHHYFGCFaADqOZkNRpalr2MztUGD/vB2KpWRqgxhsTEdJKSMqhe/eIC3sYY/v77FPv2nT7rFMO+fac5cCAmNyMW4N57G/H11/eyJw2ej7aaz0ytdlE3e8EWL97DnXd+iZ+fO3v3Ps7nNk9GZdfyeynIymo79/m6efNxhs7dxcYhN+U5/0pXa4n6v4MKzqydfhqeOG797mGD7t5WsKO7T9F13yoDY2BcNLx92nDVe8vZ9t5q+vdvypw5vfJsFx4ew5QpvzN79hYcjixsNrj//sZMmtSJK6/MH7Xdt+80Xbt+Tt26ftSpU4W6df3y/F6zpg9OTtaDl5ndAOI/J2HnWRmMfnYrU9AJK3AXftZTpfYzX/PagGvo3bsRdrsNYwwrV0bw+MID7Bye94veq1ytgORVrtaXLfVdrf/VwrLKjYFbDlp1Nh/xr/jZ1hVBcnIGXl5TcHd3JiVlPGAFFo8dS6BaNS+Cgrxy52nhwj28+OIqNm2ynlTVqnnxxZbH6BXjTnwWDPKzaiIX5+NFuoH6G5JJyTL82syLFsWIj+1PzaJ+uJ3gjAx+zjxJSIhP7vjOZgx8FW89Pw5m/+9194bXqkGDcxa2nM6EV07CjBiIPeu7/doucCj7uu084N0a0Cz7LTQxMZ3u3b/gt98OAtCwYVUent4DvxahBDrb8jRY87cXXTpjZxrcHGEtue/kaQVRlyedKUugIKJI5aUgokgJWLt2LTfeeCOxsbFUqWJl09lsNpYuXUrnzp0LvE6LFi3o2rUrkydPBiA8PJx69erly1YsSJ4gYshScCv4NsrCljlzqNOhA3516xbvCpmHIf0PcLmxwEYn5716RgY/PfYYf82YQeBVV/HI1q1W8LK4MrbBqbZgEsDrWfCdUuimjrQ0ds2fz+4FC9j7009kJFlHyc4eHgxZs4bq55mnI+vWsfy554hYuZIWw4bR48MPwREOJ+pZ9SODI4o/bilUREQsV1zxNrVq+XL48OjyHk6lFRWVSEjIG2RmGtzcnOjR42oefLAJXbvWL7TJS1EcBr6Ms5a2nrvkFiDMBfbUz5vVcyGef34Fd955dakF4UrKoUNxjB27jC+/3A5ASIgPr7zSmQceaHLRS3uLy+HIYurUP5g48X9kZhoaNw5m8ODmbN0azaZNkezYcQKHI387UB8fV0JCfKlVy5eQEB8aNKjKuHHtci8/4bAyWWbGwK7suXW3wXB/eDrQChSXlZyM2JzgYt26ftxxx1VlN4CzGGPo0uUzli4N59FHW/Hee935JAaGRoIBPqlpBSMA9u49xb///T/r/8LbDfu8IVxrMhh5Y3Vu8bUXulw8x9EMK8j1dTysPWuZpocN7vCxAoq7Z6zh5OE4OnasS4cOdahatfJkaRtjvW44Hz5Nkyb/JTXVwc8/P8jtt9dn795TTJnyB3PnbiEz02C323jggSaMH9+eBg0K7469dOl+brvts0Ivd3a2ExrqS926fjzzTFtuv70+WcaqM/dTIvySaC3RPJunzVA7IZnIpXuIm7EaDp2mRYsaDBvWgrlzt7J69WHw88D+2WBaZKUzqm11bvaxU0NBwFKXlWVwcnoRgFtvDWPbtujcJmwALi52atTwya3rC1ZpjmeeuZHhw1vh6enCH8lw20FIMfBEALxVrXhf3B3OsOotFtaN+VzbD8fTZPlpOJkAT8/PM76FC++nefPqrEuG0VHkLstu4gavVyt4+fvZ0rLglyRrWf+iBKvuYzUneLWaVffz3PtjjOH773fz9NNL2b8/BoDbbqvH66/fRuPGF1YuZnealZEYmb3+3gk4epXVnEpBRJHKS0FEkRKwePFi7rvvPhISEnIzDW02GyEhIaSnp3P11Vczbtw4unfvDkBaWhqenp4sWbKEW265JXc/V1xxBePGjWP48OF59p+RkYHD4cj9OyUlhcDAQJIPXY9HrTUVswVbKTLG8Oe771K/SxcCr7qIg8W0JXC6G5AJVWaC55DzXiUjJYXwZcsIX7qUq++6i7Cz5u18Y004ehSfkBArYJCVYN2+zSlPnUW5eOvWHeGGGz6mVauabNjwcHkPp1J7/vkVXHllAL16NSyxTrqZxqr9ddhhBT6OOqwg1CC/y6N7bc6yYnd3Z55++kbGjm1bas1FCvPnn0fp128+e/fmXZNms8HVV1elRYsaXHttdVq0qEHz5tUJCCjeAZ0x1gHttjTo4Y0CI8COHdE0a/YBAAcOjCQ0tApfxsFHMbC4thVU+M9/VjFp0qrcgP2jj17Hs8+2y+1IfKEOZ8C32QHFs+u+2VIzMCv3wEd/wJ4orrkmiI4d69C7dyNuvvkiujeUk2nTVjN27DLq1KlChw51+PzzbdkBIhv9+zfjuefaFZh5eK60NAfh4TFERMRy8GAcERGxeX4/O8D07bf30rt3o3z7CE+3sm7tWHXmGrlZX4RkZGTyySebmDRpFZGRZ/YTEODBU0/dwGOPtS7V7uRSsMDAaZw+feZJ4eXlQmhoFaKjk/KcX7OmD+PGtWXo0Bb5ulgvSYQeh60MwxeqWh3aS9qxYwlMmLAyu4REAkeOxOeOb9++x6lXL4D+R+GzOAh2gpeCYbBf8ZZYny0+06rH2dwdqpynlnJamoP33tvAiy+uIi4ujTFjbuDVV2+74Pv2dxrcdBCOOayu0b9k5w8oiChSeSmIKHKJ0tLSaNeuHS1btuSDDz7IPX/KlCnccsstODs7s2DBAqZMmcKSJUvo3Lkzx44dIyQkhK1bt9KkyZmmAa1bt6ZHjx688MILeW5j4sSJTJo0Kd9tJ8csxsPvjtK7c/9kyR9B3DDAA4IPgFMZrXeTEvf997vp1esrevS4ikWL+pb3cETycDiyGDduGY8/3po6dS5i7XYJSUxMZ9q01Rw9Gs+119agRYsaNG1aDW/vsg1oXg7efHMt110XQrt2tXPPM+bM932ffbaVAQO+Z9Cg5kyY0JHQ0JJr4Xww3apL+U08rM+OkbSc9gM7vtpCaqr1ZeS4cW15+eXyW8FwoRyOLNq0mclff1mlAJyd7QwY0Ixnn21HvXolVwQ1NdXBoUNWQLF58+oEB194UDc5OYN33/2TX37Zx2231WPEiOsuu67IFcmyZeH8+edRrrkmiCZNqlG3rl/uEuGUlAyOHUvg9OkUmjSplqfUw7kWxMO9RyATmBYMTxee8FpicsZXp44fzs52Dmd35R4bCD6l1EytICdPJvPKK38wfnyHiy4dsi8dpp6EEf5wbXa8UEFEkcpLQUSRS5CZmcn9999PREQEK1euxNu78DUFDz30EKdPn+aHH37g6NGj1KpVq9hBxEIzEZOS8PC8DFJ5SkvCJHBtW67LweXSffDB//Gvf/3Iww+3YMaMHuU9HBGRImVmZhEeHlOs7LlLEZEOPybCo/6Qnu5gw4ZjrFoVwW231eO66yp2GYBzbd8ezYAB39OqVQ2efbY9deuWX0BeLk9zY+GhY9bvH9SwyjfIxVMQUaTyuvAiRyICQFZWFgMHDmT37t2sWrWqyAAiQMuWLZkxYwZgNVix2+1ER0fn2ebEiRMEB+dfJ+Hi4oKLSwHrxC6zZcwlzmdCeY9ASkDOErSLbdogIlKWnJzspR5ABKjreqZbuZubM+3a1c6THVmZNG4czMaNw8p7GHIZ6+9ndUIecRz+FWl1Mn6w5JKIRUQqjUrev02kfBhjGDp0KOvWrWPp0qUEBJx/Oc2WLVuom918xM3NjWbNmrFy5crcyw8cOEBERARt2rQprWGL/CMpiCgiIiKl7dEAeCXYapQUm1neoxERKR/KRBS5CI888giLFy/mxx9/BOD48eMABAUF4eTkxA8//MCJEydo06YNzs7OzJ8/n9mzZ/PDDz/k7uOxxx5j5MiRtGzZkrCwMEaPHk379u3P25lZRPJSEFFERETKwjNV4VavM7X9REQuNwoiilyEnGXJ52YNHjhwgLp16+Ls7Mxbb73F/v37sdvtNGzYkO+++46uXbvmbjt48GCioqJ49NFHiY2NpXPnznz00Udlej9E/gkURBQREZGyogCiiFzO1FhFpBJSMWKRM+rWfYuDB+PYv/8JwsJU6VxERESkItOxjEjlpZqIIiJSaRljcjMRq1XzKufRiIiIiIiI/HMpiCgiIpVWbGwqaWmZ+Pi44uXlWt7DERERERER+cdSEFFERCot1UMUEREREREpGwoiiohIpaUgooiIiIiISNlQEFFERCotBRFFRERERETKhoKIIiJSaSmIKCIiIiIiUjYURBQRkUpLQUQREREREZGyoSCiiIhUWsePJwEKIoqIiIiIiJQ2BRFFRKTSUiaiiIiIiIhI2VAQUUREKi0FEUVERERERMqGgogiIlJpKYgoIiIiIiJSNhREFBGRSsnhyOLEiSRsNggO9irv4YiIiIiIiPyjKYgoIiKV0okTSRgDQUFeODvr7UxERERERKQ06ahLREQqJS1lFhERERERKTsKIoqISKWkIKKIiIiIiEjZURBRREQqJQURRUREREREyo6CiCIiUimdCSKqqYqIiIiIiEhpUxBRREQqJWUiioiIiIiIlB0FEUVEpFI6fjwJUBBRRERERESkLCiIKCIilVJkZAKgIKKIUy2+VgAAFglJREFUiIiIiEhZUBBRREQqJS1nFhERERERKTsKIoqISKWkIKKIiIiIiEjZURBRREQqnaSkdBIS0nF1dcLPz728hyMiIiIiIvKPpyCiiIhUOlFRZ5qq2Gy2ch6NiIiIiIjIP5+CiCIiUuloKbOIiIiIiEjZUhBRREQqHQURRUREREREypaCiCIiUumcCSJ6lfNIRERERERELg8KIoqUs6lTp1KzZk08PT258847OX78eHkPSaTCUyaiiIiIiIhI2VIQUaQcffrpp7z00ku8++67rFmzhvj4ePr06VPewxKp8BREFBERERERKVvO5T0AkcvZ9OnTGTlyJHfffTcAn3zyCfXq1WPz5s00b948d7uMjAwcDkfu3ykpKWU+VpGKJCeIWKOGTzmPRERERERE5PKgTESRcpKWlsaWLVu4+eabc88LCwujbt26rF+/Ps+2kydPxtPTM/cUGBhY1sMVqVBatapJly71CAvzL++hiIiIiIiIXBaUiShSTk6dOkVWVhbBwcF5zg8KCiI6OjrPeePHj2fs2LG5f6ekpCiQKJe1f/+7Y3kPQURERERE5LKiIKJIOTHGFHtbFxcXXFxcSnE0IiIiIiIiIiKF03JmkXJStWpV7HZ7vqzDEydO5MtOFBEREREREREpTwoiipQTNzc3mjVrxsqVK3PPO3DgABEREbRp06YcRyYiIiIiIiIikpeWM4uUo8cee4yRI0fSsmVLwsLCGD16NO3bt8/TmVlEREREREREpLwpiChSjgYPHkxUVBSPPvoosbGxdO7cmY8++qi8hyUiIiIiIiIikofNXEh3BxGpEFJSUvD09CQ5ORkPD4/yHo6IiIiIiEix6FhGpPJSTUQREREREREREREpkoKIIiIiIiIiIiIiUiQFEUVERERERERERKRICiKKiIiIiIiIiIhIkRREFBERERERERERkSIpiCgiIiIiIiIiIiJFci7vAYjIhTPGAJCSklLOIxERERERESm+nGOYnGMaEak8FEQUqYQSEhIACAwMLOeRiIiIiIiIXLjU1FQ8PT3LexgicgEURBSphLy9vQE4efKk3ngrmJSUFAIDAzl16hQeHh7lPRw5i+am4tLcVFyam4pLc1MxaV4qLs1NxWGMITU1FT8/v/IeiohcIAURRSohu90qZ+rp6akPQRWUh4eH5qaC0txUXJqbiktzU3FpbiomzUvFpbmpGJQIIVI5qbGKiIiIiIiIiIiIFElBRBERERERERERESmS08SJEyeW9yBE5MLZ7XY6deqEk5NTeQ9FzqG5qbg0NxWX5qbi0txUXJqbiknzUnFpbkRELo3NqK+6iIiIiIiIiIiIFEHLmUVERERERERERKRICiKKiIiIiIiIiIhIkRREFBERERERERERkSIpiCgiIiIiIiIiIiJFUhBRKowpU6bQokULvL29qVGjBoMGDeLEiRN5tvn777+56aab8PDwoG7dunzyySd5Lv/www9p164dnp6e1KpVq8DbmTt3Lo0bN8bDw4OGDRsyf/78844tMTGRQYMG4evrS2BgIKNHj8bhcORenp6ezlNPPUWtWrXw9PSkefPm593vjh076NWrFyEhIdhsNpYtW5Zvm5deeonWrVvj5uZGu3btzjvO0qK5yTs3p0+fZsSIEdSvXx8PDw/q1avHf/7zHzIzM8873pKmucn/vOnTpw+1a9fG3d2dWrVqMWLECBITE8873pKmuck/Nzni4+OpU6cONpstz+2WFc1N/rnp1KkTNpstz+mtt94673hLmuam4OfNvHnzaNq0KW5ubtSsWZNXX331vOMtSZqXvPMSERGR7/mSc4qOjj7vmEuS5ib/c2bHjh106dIFPz8/AgMDufvuuzl06NB5xysiIsVgRCqIrl27mrlz55pdu3aZ9evXm9atW5ubbrop9/L09HRTv359c88995ht27aZmTNnGmdnZ7Ns2bLcbd566y0zbdo08+STT5qQkJB8t7F48WLj5uZm5s6da/bv329mzpxp3NzczLp164oc20MPPWQaNGhg1q1bZ5YvX25q1KhhXnjhhdzLJ02aZEJCQszy5ctNeHi4eeWVV4yzs7PZtWtXofv8888/zTPPPGO+/fZbA5ilS5fm22bChAnm7bffNv379zdt27YtcoylSXOTd262bdtm7r33XvPjjz+affv2mUWLFpmgoCAzadKk8z6WJU1zk/95M336dLN27VoTERFhVq5caRo2bGiGDBlS5FhLg+Ym/9ycfftdunQxgMnIyChyrKVBc5N/bjp27GhGjRplIiMjc09JSUlFjrU0aG7yz82cOXNMQECAmTVrltm3b5/ZuHGjWbFiRZFjLWmal7zz4nA48jxXIiMjTZ8+fcrls5rmJv9zJiwszNx3331m165dZvPmzeamm24q18/RIiL/JAoiSoW1Zs0aA5jY2FhjjDELFy40bm5uJj4+Pneb/v37m7vuuivfdT/99NMCPwT17dvXDBw4MM95vXv3Nvfff3+h4zh9+rRxcnIyS5YsyT3v448/NoGBgcbhcBhjjOnWrZsZOXJknusFBASYefPmFeOemvMecE+YMKFCffjR3OQ3ZcoUc+211xZrn6VJc5PfO++8Yxo0aFCsfZYmzY1l/vz5pnXr1mbZsmXlFkQ8l+bGCiKOHz++WPsoS5f73KSnp5tq1aqZWbNmFWsfZeVyn5dzJScnG19fXzNjxoxi7bM0Xe5zEx0dbQCzadOm3PMWLVpk3N3di7VPEREpmpYzS4V18uRJ3N3d8fLyAuDPP//kuuuuw8fHJ3ebW265hfXr1xd7n2lpaXh4eOQ5z9PTkzVr1hR6nY0bN2KMoVOnTnlu99SpU+zbtw+AG264gSVLlnD48GGMMcyfP5/09HTatm1b7LFVJpqb/E6ePElAQECJ7vNix6G5OeP48ePMnz+/XMsB5NDcQFRUFCNHjmTWrFk4OTld0r5KkubGMmPGDKpWrUrz5s15/fXXy6VEw7ku97nZuHEjUVFRZGRk0LhxY0JDQxkwYACnTp266H2WhMt9Xs41f/58MjIy6NOnT4nt82Jd7nMTGBjIlVdeydy5c0lLSyMxMZF58+Zx6623XvQ+RUTkDAURpUJKS0vjxRdfZMCAATg7OwMQHR1NcHBwnu2CgoLy1X0pSufOnZk3bx7r1q3DGMOqVauYP38+x48fL/Q60dHR+Pn54eLikud2cy4DePbZZ+ncuTO1a9fG1dWVgQMH8t133xEaGlrssVUWmpv8wsPDmTlzJkOHDi2xfV4Mzc0ZY8eOxcvLixo1auDj48N77713yfu8FJoby8MPP8wTTzxBw4YNL2k/JUlzY+nXrx9ffvklK1euZMSIEUyePJmJEyde0j4vlebGqr0HMHXqVKZNm8ZXX33F7t276du370Xv81JpXvKbPXs2vXr1wtfXt8T2eTE0N2C321myZAlLlizB09MTX19f9u/fz9y5cy96nyIicoaCiFLhZGZm0q9fPwBee+213PONMZe87+HDh9O/f386dOiAi4sLgwcPpn///tjt1lPh888/x9vbO/d06NChAm/XZrPl+XvevHn89NNPLFy4kI0bN/Lcc8/Rt29f9uzZA8A111yTu89HHnnkku9HedHc5BcdHU23bt3o27cv999//0Xc85Khucnr6aefZtOmTSxevJjw8HDGjRt3kff+0mluLJ9++iknT57kySefvMR7XXI0N2cMHTqUm2++mSZNmvDwww/z2muv8dZbb5XIY3ExNDeWrKwsAF544QW6devGjTfeyIwZM1i6dCmHDx++lIfhomhe8jty5AjLly9nwIABF3GvS47mxpKVlcWjjz5Ko0aNWLduHb///js+Pj488MADl/goiIgIoMYqUrFkZmaafv36mcaNG5tTp07luWz8+PGmXbt2ec6bNWuWqV69er79FFbTJUd6ero5cuSIyczMNGPHjjUNGzY0xhgTHx9v9u7dm3vKyMgwS5cuNXa73aSnp+dePyIiwgBm9+7dxhhjQkJCzOzZs/Pcxq233mqefPLJ3O1z9hkVFZVvPFSCmoiam/xOnjxpmjRpYh588EGTmZlZ6H0qbZqbov3xxx/GZrPl1ocqS5qbMwYMGGDsdrtxcnIyTk5Oxm63G8A4OTmZDz/8sND7Vlo0N0XbvHmzAUx0dPR5ty1pmpszcmqHrl27Nve8lJQUA5jVq1cXet9Kg+alYJMnTza1atXS54AKMjdLly417u7uJjU1Nfe8o0ePGsBs3bq10PsmIiLF41ymEUuRIhhjGDp0aO63hufWl2vdujWvv/46iYmJeHt7A7BixQratGlzwbfl4uJCSEgImZmZLFiwgJ49ewLg4+OTp2YMQIsWLbDZbKxatYrOnTvn3m5gYCD169cHIDk5OV99L7vdnptBUKdOnQseY0WiuckvJiaGW2+9lbCwMGbNmpX7bXxZ09ycX87+yroGn+Ymr8mTJzNmzJjcvzds2MDgwYPZuHEjtWvXvuD9XQrNzflt2bIFLy8vqlatWiL7Ky7NTV4tW7bExcWFffv2cf311wPk1pMry+eN5qVwc+bMyZOVV9Y0N3klJydjs9nyzEfO7zn7FRGRS1B+8UuRvIYNG2aqVq1q1q9fbyIjI3NPOR3c0tLSTL169cy9995rtm/fbj7++GPj4uJili1blruPyMhIs2nTJjNp0iQTHBxsNm3aZDZt2mTS0tJyL585c6bZs2ePWbt2renevbsJDQ01J0+eLHJs/fv3N40aNTLr1683K1asMDVr1jQvvPBC7uUPPvigqV+/vlm+fLnZv3+/mT59urHb7XnGdq60tLTc8QHmgw8+MJs2bTKRkZG52xw8eNBs2rTJDB8+3DRv3jx3+7Kmuck7N3Fxcea6664zrVu3NgcPHsx9PMojY0dzk3duduzYYd544w2zadMmExERYX755RfTuHFjc+edd170Y3yxNDf5X9POtnLlynLrzqy5yTs3+/btMy+99JLZuHGjCQ8PN/PmzTNBQUHmmWeeuejH+GJpbvI/bx5++GFzxRVXmN9++81s2bLFtG/f3nTt2vWiHt+LpXkp+PUspxNyTmZdedDc5J2b6Oho4+fnZwYOHGh27dpltmzZYu644w5Tr1693PsjIiIXT0FEqTCAAk8HDhzI3Wb37t2mY8eOxs3NzdSuXdvMnDkzzz4mTJhQ5D6OHTtmWrVqZTw8PIyvr6+55557TERExHnHlpCQYAYMGGB8fHyMv7+/GTlyZJ4D35iYGDN8+HBTs2ZN4+HhYRo3bpxveca5Dhw4UOBYJ0yYkLvNgAEDCtymrGlu8s5NTvDj3FOdOnWK9XiWJM1N3rkJDw83nTt3NgEBAcbNzc3Uq1fPjBkzplyWMmtu8r+mna08g4iam7xzc+jQIdO+fXvj5+dn3N3dTYMGDczUqVPzLEMsK5qb/M+b5ORkM3z4cOPn52eqVq1q+vXrl2/JamnTvBT8ejZ8+HBz/fXXn3eMpUlzk39u1qxZYzp06GB8fX1NQECA6d69u9m1a9f5H0wRETkvmzHlVDFbREREREREREREKgV1ZxYREREREREREZEiKYgoIiIiIiIiIiIiRVIQUURERERERERERIqkIKKIiIiIiIiIiIgUSUFEERERERERERERKZKCiCIiIiIiIiIiIlIkBRFFRERERERERESkSAoiioiIiFQyDocDm83G//73vzK93VmzZlGrVq0yvU0RERERqRgURBQRERH5B9u3bx82m42IiIgLul6/fv0YOHBgnvP69OnDpk2bSm5wIiIiIlJpOJf3AERERESkcvDw8MDDw6O8hyEiIiIi5UCZiCIiIiIVXFxcHL1798bDw4OrrrqKJUuW5F4WFRXFPffcQ/Xq1fHx8aFDhw5s3rw59/Irr7wSgCuuuAKbzcbEiRMBSE5OZsSIEQQFBeHn58cdd9yRm604ceJEPv/8c2bPno3NZsNmswH5lzMPHDiQBx98kGeffZaAgACqVavGp59+SmxsLPfeey/e3t40bdo0z3gAvvzySxo1aoSHhweNGzfm22+/LY2HTURERERKkIKIIiIiIhXcqFGj2LFjBytWrGD27NlMmDAh97KUlBQ6dOjA0qVL2bhxI40aNeLOO+8kNTUVgLVr1wLw559/EhkZyZgxYwB45JFH2Lt3Lz///DPr168nODiYHj16kJmZyZgxY+jduzf33XcfkZGRREZGFjq2xYsXA7Bu3TqeeOIJhg8fzgMPPEDPnj3ZtGkT9evXZ8iQIbnbr1ixgscff5xJkyaxY8cOnnvuOR566CHWrVtX4o+biIiIiJQcmzHGlPcgRERERKRg8fHxBAYGsnjxYm6//XYAfvnlF7p27crKlSvp1KlTnu0zMzOpUqXK/7d3P6HwdXEcxz8yw9D4M8TYCKEZf6bZTamJkmJlMVJCmRQrFhY2Exs7f4o0dhYjSfaSsbTyp0aSjTSjxkIhJc0sLnoWv9wez/P8ptT8nmbxfq3uPad7vufc5adz79HBwYE6Ozt1e3ur5uZmJRIJ1dfXS5Lu7u7kcrn08PAgh8MhSTIMQ+Xl5YpGo/L7/RodHZXFYlEkEjHHjkQimpub0/39vaRfOxHPz891fX39rXYwGFQ4HJb0K1zs6OjQ6+urSkpK1N3drUAgoKmpKXPcyclJfX5+anNz80+8QgAAAGQBOxEBAAByWDwe1/v7u3w+n9n292vDMBQKhdTS0qLy8nKVlZUplUopmUz+dszr62sZhqHa2lrZ7XbZ7XY5HA6l02nF4/Efza+9vd28zs/PV2Vlpdra2sw2p9MpSXp8fJQkXV1daXZ21qxrt9sViUR+XBcAAAD/Lw5WAQAAyGFfH418/ZfwnxYXF7W1taX19XW5XC7ZbDb5fD4ZhvHbMd/e3lRUVPSvfxVKUnV19Y/mZ7Vav93n5eV9a/ua9+fnp1l7ZWVFvb29357jwBYAAIDcRogIAACQwxobG2WxWHR2dmYGb+fn52b/ycmJBgcHNTAwIElKJpN6eXkx+78CvY+PD7PN6/UqlUopnU7L4/H8Z12r1ar39/esr8fr9Soej6upqSnrYwMAAODP4XNmAACAHFZaWqrh4WHNzMzo9PRUJycnmp+fN/sbGxt1eHioWCymWCymsbEx2Ww2s7+mpkYFBQU6OjrS4+OjUqmU3G63AoGAhoaGFI1GlUgkdHx8rOnpaT0/P0uS6urqdHFxobu7Oz09PWVtPaFQSBsbG1pdXdXNzY0uLy8VDoe1t7eXtRoAAADIPkJEAACAHLe2tiaXy6Wuri6NjIx8CxHn5ubU0NAgv9+vgYEBTU5OqrKy0uwvLCzU8vKyFhYW5HQ6tbS0JEna2dlRX1+fxsfH5Xa7FQwGZRiGiouLJUkTExOqqKhQa2urqqqqsraW/v5+7e7uant7Wx6PRz09Pdrf31ddXV3WagAAACD7OJ0ZAAAAAAAAQEbsRAQAAAAAAACQESEiAAAAAAAAgIwIEQEAAAAAAABkRIgIAAAAAAAAICNCRAAAAAAAAAAZESICAAAAAAAAyOgvYkrb/I1Pgt8AAAAASUVORK5CYII=\" class=\"pd_save\"></center>\n",
       "                        \n",
       "                    \n",
       "                \n",
       "        </div>"
      ],
      "text/plain": [
       "<IPython.core.display.HTML object>"
      ]
     },
     "metadata": {},
     "output_type": "display_data"
    }
   ],
   "source": [
    "from pixiedust.display import *\n",
    "display(result_df)"
   ]
  },
  {
   "cell_type": "markdown",
   "metadata": {},
   "source": [
    "Ok, that's too many data points. Let's resample the data. I chose 2 data points a day, but you can easily adjust the <a href=\"https://pandas.pydata.org/pandas-docs/stable/user_guide/timeseries.html#offset-aliases\" target=\"_blank\">freq parameter</a>."
   ]
  },
  {
   "cell_type": "code",
   "execution_count": 30,
   "metadata": {
    "pixiedust": {
     "displayParams": {
      "chartsize": "72",
      "charttype": "stacked",
      "clusterby": "node",
      "filter": "{}",
      "handlerId": "lineChart",
      "keyFields": "datetime",
      "lineChartType": "grouped",
      "logy": "false",
      "no_margin": "true",
      "rendererId": "matplotlib",
      "title": "Daily traffic by worker node",
      "valueFields": "status_count"
     }
    }
   },
   "outputs": [
    {
     "data": {
      "text/html": [
       "<style type=\"text/css\">.pd_warning{display:none;}</style><div class=\"pd_warning\"><em>Hey, there's something awesome here! To see it, open this notebook outside GitHub, in a viewer like Jupyter</em></div>\n",
       "        <div class=\"pd_save is-viewer-good\" style=\"padding-right:10px;text-align: center;line-height:initial !important;font-size: xx-large;font-weight: 500;color: coral;\">\n",
       "            Daily traffic by worker node\n",
       "        </div>\n",
       "    <div id=\"chartFigure3e63148f\" class=\"pd_save is-viewer-good\" style=\"overflow-x:auto\">\n",
       "            \n",
       "                    \n",
       "                            <center><img style=\"max-width:initial !important\" src=\"data:image/png;base64,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\" class=\"pd_save\"></center>\n",
       "                        \n",
       "                    \n",
       "                \n",
       "        </div>"
      ],
      "text/plain": [
       "<IPython.core.display.HTML object>"
      ]
     },
     "metadata": {},
     "output_type": "display_data"
    }
   ],
   "source": [
    "summary = result_df.groupby([pd.Grouper(key='datetime', freq='12H'), 'node', 'status']) \\\n",
    "    .agg({'status_count':'sum', 'request_time': 'mean'}) \n",
    "summary.reset_index(inplace=True)\n",
    "display(summary)"
   ]
  },
  {
   "cell_type": "markdown",
   "metadata": {},
   "source": [
    "Now, let's look at the HTTP status codes. Here we are probably most interested in failed requests."
   ]
  },
  {
   "cell_type": "code",
   "execution_count": 31,
   "metadata": {
    "pixiedust": {
     "displayParams": {
      "charttype": "stacked",
      "clusterby": "status",
      "handlerId": "barChart",
      "keyFields": "datetime",
      "rendererId": "bokeh",
      "valueFields": "status_count"
     }
    },
    "scrolled": true
   },
   "outputs": [],
   "source": [
    "daily_summary = result_df.groupby([pd.Grouper(key='datetime', freq='D'), 'node', 'status']) \\\n",
    "    .agg({'status_count':'sum', 'request_time': 'mean'}) \n",
    "daily_summary.reset_index(inplace=True)"
   ]
  },
  {
   "cell_type": "code",
   "execution_count": null,
   "metadata": {
    "pixiedust": {
     "displayParams": {
      "chartsize": "73",
      "charttype": "stacked",
      "clusterby": "status",
      "filter": "{\"field\": \"status\", \"constraint\": \"None\", \"value\": \"^4|^5\", \"case_matter\": \"false\", \"regex\": \"false\"}",
      "handlerId": "barChart",
      "keyFields": "datetime",
      "no_margin": "true",
      "rendererId": "bokeh",
      "title": "Number of Client or Server Errors per day",
      "valueFields": "status_count"
     }
    },
    "scrolled": false
   },
   "outputs": [
    {
     "data": {
      "text/html": [
       "<style type=\"text/css\">.pd_warning{display:none;}</style><div class=\"pd_warning\"><em>Hey, there's something awesome here! To see it, open this notebook outside GitHub, in a viewer like Jupyter</em></div>"
      ],
      "text/plain": [
       "<IPython.core.display.HTML object>"
      ]
     },
     "metadata": {
      "pixieapp_metadata": null
     },
     "output_type": "display_data"
    }
   ],
   "source": [
    "display(daily_summary)"
   ]
  },
  {
   "cell_type": "markdown",
   "metadata": {},
   "source": [
    "On 2019-08-17 we see a lot of server errors (500). To find out more about the failing requests, we retrieve the request URI info. For that we need to make some adjustments to the request URIs to not get flooded with groups, e.g. not found requests can have all sorts of request URIs, so map all of them to INVALID. In our data we use unique jobIds, CRNs or instance IDs as part of our request URIs to request information on these specific artifacts. However, for now we are only interested in the general request type, so we map these as well to a common URI. See the query below."
   ]
  },
  {
   "cell_type": "code",
   "execution_count": 33,
   "metadata": {},
   "outputs": [
    {
     "name": "stdout",
     "output_type": "stream",
     "text": [
      "\u001b[38;5;24;01mSELECT\u001b[39;00m \u001b[38;5;0m_source\u001b[39m\u001b[38;5;0;01m.\u001b[39;00m\u001b[38;5;0m_status\u001b[39m \u001b[38;5;24;01mAS\u001b[39;00m \u001b[38;5;0mstatus\u001b[39m\u001b[38;5;0;01m,\u001b[39;00m\n",
      "\t\u001b[38;5;24;01mCOUNT\u001b[39;00m\u001b[38;5;0;01m(\u001b[39;00m\u001b[38;5;0m_source\u001b[39m\u001b[38;5;0;01m.\u001b[39;00m\u001b[38;5;0m_status\u001b[39m\u001b[38;5;0;01m)\u001b[39;00m \u001b[38;5;24;01mAS\u001b[39;00m \u001b[38;5;0mstatus_count\u001b[39m\u001b[38;5;0;01m,\u001b[39;00m\n",
      "\t\u001b[38;5;0m_source\u001b[39m\u001b[38;5;0;01m.\u001b[39;00m\u001b[38;5;0mnode\u001b[39m \u001b[38;5;24;01mAS\u001b[39;00m \u001b[38;5;0mnode\u001b[39m\u001b[38;5;0;01m,\u001b[39;00m\n",
      "\t\u001b[38;5;24;01mCASE\u001b[39;00m\n",
      "\t\t\t\t\t\u001b[38;5;24;01mWHEN\u001b[39;00m \u001b[38;5;0m_source\u001b[39m\u001b[38;5;0;01m.\u001b[39;00m\u001b[38;5;0mrequest_uri\u001b[39m \u001b[38;5;0mRLIKE\u001b[39m \u001b[38;5;64m'/v2/sql_jobs/[^\\S]+'\u001b[39m \u001b[38;5;24;01mTHEN\u001b[39;00m \u001b[38;5;64m'/v2/sql_jobs/jobid'\u001b[39m\n",
      "\t\t\t\t\t\u001b[38;5;24;01mWHEN\u001b[39;00m \u001b[38;5;0m_source\u001b[39m\u001b[38;5;0;01m.\u001b[39;00m\u001b[38;5;0mrequest_uri\u001b[39m \u001b[38;5;0mRLIKE\u001b[39m \u001b[38;5;64m'/active_instance/[^\\S]+'\u001b[39m \u001b[38;5;24;01mTHEN\u001b[39;00m \u001b[38;5;64m'/active_instance/instanceid'\u001b[39m\n",
      "\t\t\t\t\t\u001b[38;5;24;01mWHEN\u001b[39;00m \u001b[38;5;0m_source\u001b[39m\u001b[38;5;0;01m.\u001b[39;00m\u001b[38;5;0mrequest_uri\u001b[39m \u001b[38;5;0mRLIKE\u001b[39m \u001b[38;5;64m'/v2/service_instances/[^\\S]+'\u001b[39m \u001b[38;5;24;01mTHEN\u001b[39;00m \u001b[38;5;64m'/v2/service_instances/crn'\u001b[39m\n",
      "\t\t\t\t\t\u001b[38;5;24;01mWHEN\u001b[39;00m \u001b[38;5;0m_source\u001b[39m\u001b[38;5;0;01m.\u001b[39;00m\u001b[38;5;0mrequest_uri\u001b[39m \u001b[38;5;0mRLIKE\u001b[39m \u001b[38;5;64m'/dashboard/[^\\S]+'\u001b[39m \u001b[38;5;24;01mTHEN\u001b[39;00m \u001b[38;5;64m'/dashboard/id'\u001b[39m\n",
      "\t\t\t\t\t\u001b[38;5;24;01mWHEN\u001b[39;00m \u001b[38;5;0m_source\u001b[39m\u001b[38;5;0;01m.\u001b[39;00m\u001b[38;5;24;01mhost\u001b[39;00m \u001b[38;5;166;01m=\u001b[39;00m \u001b[38;5;64m'pact.ys1-dev-sql-query.us-south.containers.appdomain.cloud'\u001b[39m \u001b[38;5;24;01mTHEN\u001b[39;00m \u001b[38;5;64m'PACT'\u001b[39m\n",
      "\t\t\t\t\t\u001b[38;5;24;01mWHEN\u001b[39;00m \u001b[38;5;0m_source\u001b[39m\u001b[38;5;0;01m.\u001b[39;00m\u001b[38;5;0m_status\u001b[39m \u001b[38;5;166;01m=\u001b[39;00m \u001b[38;5;20;01m404\u001b[39;00m \u001b[38;5;24;01mTHEN\u001b[39;00m \u001b[38;5;64m'INVALID'\u001b[39m\n",
      "\t\t\t\t\t\u001b[38;5;24;01mELSE\u001b[39;00m \u001b[38;5;0m_source\u001b[39m\u001b[38;5;0;01m.\u001b[39;00m\u001b[38;5;0mrequest_uri\u001b[39m\n",
      "\t\u001b[38;5;24;01mEND\u001b[39;00m \u001b[38;5;24;01mAS\u001b[39;00m \u001b[38;5;0mrequest_uri\u001b[39m\u001b[38;5;0;01m,\u001b[39;00m\n",
      "\t\u001b[38;5;24;01mAVG\u001b[39;00m\u001b[38;5;0;01m(\u001b[39;00m\u001b[38;5;0m_source\u001b[39m\u001b[38;5;0;01m.\u001b[39;00m\u001b[38;5;0mrequest_time\u001b[39m\u001b[38;5;0;01m)\u001b[39;00m \u001b[38;5;24;01mAS\u001b[39;00m \u001b[38;5;0mrequest_time\u001b[39m\u001b[38;5;0;01m,\u001b[39;00m\n",
      "\t\u001b[38;5;0mconcat\u001b[39m\u001b[38;5;0;01m(\u001b[39;00m\u001b[38;5;0mdate_format\u001b[39m\u001b[38;5;0;01m(\u001b[39;00m\u001b[38;5;0mfrom_unixtime\u001b[39m\u001b[38;5;0;01m(\u001b[39;00m\u001b[38;5;0m_source\u001b[39m\u001b[38;5;0;01m.\u001b[39;00m\u001b[38;5;0m_ts\u001b[39m \u001b[38;5;166;01m/\u001b[39;00m \u001b[38;5;20;01m1000\u001b[39;00m\u001b[38;5;0;01m,\u001b[39;00m \u001b[38;5;64m'yyyy-MM-dd HH:mm:ss'\u001b[39m\u001b[38;5;0;01m)\u001b[39;00m\u001b[38;5;0;01m,\u001b[39;00m \u001b[38;5;64m'yyyy-MM-dd'\u001b[39m\u001b[38;5;0;01m)\u001b[39;00m\u001b[38;5;0;01m,\u001b[39;00m \u001b[38;5;64m' '\u001b[39m\u001b[38;5;0;01m,\u001b[39;00m \u001b[38;5;0m_hour\u001b[39m\u001b[38;5;0;01m,\u001b[39;00m \u001b[38;5;64m':00:00'\u001b[39m\u001b[38;5;0;01m)\u001b[39;00m \u001b[38;5;24;01mAS\u001b[39;00m \u001b[38;5;0m_datetime\u001b[39m\n",
      "\u001b[38;5;24;01mFROM\u001b[39;00m \u001b[38;5;0mcos\u001b[39m\u001b[38;5;0;01m:\u001b[39;00m\u001b[38;5;166;01m/\u001b[39;00m\u001b[38;5;166;01m/\u001b[39;00m\u001b[38;5;0mus\u001b[39m\u001b[38;5;166;01m-\u001b[39;00m\u001b[38;5;0mgeo\u001b[39m\u001b[38;5;166;01m/\u001b[39;00m\u001b[38;5;24;01msql\u001b[39;00m\u001b[38;5;166;01m/\u001b[39;00m\u001b[38;5;0mLogDNA\u001b[39m \u001b[38;5;0mSTORED\u001b[39m \u001b[38;5;24;01mAS\u001b[39;00m \u001b[38;5;0mJSON\u001b[39m \u001b[38;5;24;01mWHERE\u001b[39;00m \u001b[38;5;0m_source\u001b[39m\u001b[38;5;0;01m.\u001b[39;00m\u001b[38;5;0m_app\u001b[39m \u001b[38;5;166;01m=\u001b[39;00m \u001b[38;5;64m'nginx-ingress'\u001b[39m \u001b[38;5;24;01mAND\u001b[39;00m \u001b[38;5;0m_source\u001b[39m\u001b[38;5;0;01m.\u001b[39;00m\u001b[38;5;0m_status\u001b[39m \u001b[38;5;24;01mIS\u001b[39;00m \u001b[38;5;24;01mNOT\u001b[39;00m \u001b[38;5;24;01mNULL\u001b[39;00m \u001b[38;5;24;01mAND\u001b[39;00m \u001b[38;5;0m_dayofyear\u001b[39m \u001b[38;5;166;01m=\u001b[39;00m \u001b[38;5;20;01m229\u001b[39;00m \u001b[38;5;24;01mGROUP\u001b[39;00m \u001b[38;5;24;01mBY\u001b[39;00m \u001b[38;5;0m_year\u001b[39m\u001b[38;5;0;01m,\u001b[39;00m \u001b[38;5;0m_dayofyear\u001b[39m\u001b[38;5;0;01m,\u001b[39;00m \u001b[38;5;0m_hour\u001b[39m\u001b[38;5;0;01m,\u001b[39;00m \u001b[38;5;0m_datetime\u001b[39m\u001b[38;5;0;01m,\u001b[39;00m \u001b[38;5;0m_source\u001b[39m\u001b[38;5;0;01m.\u001b[39;00m\u001b[38;5;0mnode\u001b[39m\u001b[38;5;0;01m,\u001b[39;00m \u001b[38;5;0m_source\u001b[39m\u001b[38;5;0;01m.\u001b[39;00m\u001b[38;5;0m_status\u001b[39m\u001b[38;5;0;01m,\u001b[39;00m \u001b[38;5;0mrequest_uri\u001b[39m \u001b[38;5;24;01mINTO\u001b[39;00m \u001b[38;5;0mcos\u001b[39m\u001b[38;5;0;01m:\u001b[39;00m\u001b[38;5;166;01m/\u001b[39;00m\u001b[38;5;166;01m/\u001b[39;00m\u001b[38;5;0mus\u001b[39m\u001b[38;5;166;01m-\u001b[39;00m\u001b[38;5;0msouth\u001b[39m\u001b[38;5;166;01m/\u001b[39;00m\u001b[38;5;0mexpire\u001b[39m\u001b[38;5;166;01m/\u001b[39;00m\u001b[38;5;24;01mresult\u001b[39;00m \u001b[38;5;0mSTORED\u001b[39m \u001b[38;5;24;01mAS\u001b[39;00m \u001b[38;5;0mCSV\u001b[39m\n",
      "\n",
      "jobId: 02436aa3-0342-485b-9c33-30bba1ebfa91\n"
     ]
    }
   ],
   "source": [
    "sqlClient.logon()\n",
    "# logData =\n",
    "# targetUrl = \n",
    "sql = \"SELECT _source._status AS status, \" + \\\n",
    "    \"COUNT(_source._status) AS status_count, \" + \\\n",
    "    \"_source.node AS node, \" + \\\n",
    "    \"CASE \" + \\\n",
    "    \"WHEN _source.request_uri RLIKE '/v2/sql_jobs/[^\\S]+' THEN '/v2/sql_jobs/jobid' \" + \\\n",
    "    \"WHEN _source.request_uri RLIKE '/active_instance/[^\\S]+' THEN '/active_instance/instanceid' \" + \\\n",
    "    \"WHEN _source.request_uri RLIKE '/v2/service_instances/[^\\S]+' THEN '/v2/service_instances/crn' \" + \\\n",
    "    \"WHEN _source.request_uri RLIKE '/dashboard/[^\\S]+' THEN '/dashboard/id' \" + \\\n",
    "    \"WHEN _source.host = 'pact.ys1-dev-sql-query.us-south.containers.appdomain.cloud' THEN 'PACT' \" + \\\n",
    "    \"WHEN _source._status = 404 THEN 'INVALID' \" + \\\n",
    "    \"ELSE _source.request_uri \" + \\\n",
    "    \"END AS request_uri, \" + \\\n",
    "    \"AVG(_source.request_time) AS request_time, \" + \\\n",
    "    \"concat(date_format(from_unixtime(_source._ts / 1000, 'yyyy-MM-dd HH:mm:ss'), 'yyyy-MM-dd'), ' ', _hour, ':00:00') AS _datetime \" + \\\n",
    "    \"FROM {} STORED AS JSON \" + \\\n",
    "    \"WHERE _source._app = 'nginx-ingress' AND _source._status IS NOT NULL AND _dayofyear = 229 \" + \\\n",
    "    \"GROUP BY _year, _dayofyear, _hour, _datetime, _source.node, _source._status, request_uri \" + \\\n",
    "    \"INTO {} STORED AS CSV\"\n",
    "\n",
    "sql = sql.format(logData, targetUrl)\n",
    "print(format_sql(sql))\n",
    "jobid = sqlClient.submit_sql(sql)\n",
    "print(\"jobId: \" + jobid)"
   ]
  },
  {
   "cell_type": "code",
   "execution_count": 34,
   "metadata": {},
   "outputs": [],
   "source": [
    "sqlClient.logon()\n",
    "job_status = sqlClient.wait_for_job(jobid)\n",
    "if job_status == 'failed':\n",
    "    details = sqlClient.get_job(jobid)\n",
    "    print(\"Error: {}\\nError Message: {}\".format(details['error'], details['error_message']))\n",
    "resultRange = sqlClient.get_result(jobid)\n",
    "\n",
    "# Adjust datatypes for Pixiedust\n",
    "resultRange['datetime'] = pd.to_datetime(resultRange['_datetime'])\n",
    "resultRange['status'] = resultRange['status'].apply(str)\n",
    "#print(resultRange.head())\n",
    "#print(resultRange.info())"
   ]
  },
  {
   "cell_type": "code",
   "execution_count": null,
   "metadata": {
    "pixiedust": {
     "displayParams": {
      "aggregation": "SUM",
      "charttype": "stacked",
      "clusterby": "status",
      "dynamicfilter": "status",
      "handlerId": "barChart",
      "keyFields": "datetime",
      "legend": "true",
      "rendererId": "bokeh",
      "timeseries": "false",
      "title": "Number of HTTP status codes per hour that we see on 2019-08-17 ",
      "valueFields": "status_count"
     }
    },
    "scrolled": false
   },
   "outputs": [
    {
     "data": {
      "text/html": [
       "<style type=\"text/css\">.pd_warning{display:none;}</style><div class=\"pd_warning\"><em>Hey, there's something awesome here! To see it, open this notebook outside GitHub, in a viewer like Jupyter</em></div>\n",
       "        <div class=\"pd_save is-viewer-good\" style=\"padding-right:10px;text-align: center;line-height:initial !important;font-size: xx-large;font-weight: 500;color: coral;\">\n",
       "            Number of HTTP status codes per hour that we see on 2019-08-17 \n",
       "        </div>\n",
       "    <div id=\"chartFigure66da8fcb\" class=\"pd_save is-viewer-good\" style=\"overflow-x:auto\">\n",
       "            \n",
       "                    <script class=\"pd_save\">\n",
       "                    function setChartScript() {\n",
       "                        if (!window.Bokeh) {\n",
       "                            setTimeout(setChartScript, 250)\n",
       "                        } else {\n",
       "                            var d = document.getElementById(\"pd-bkchartdiv-66da8fcb\")\n",
       "                            if (d){\n",
       "                                var el = document.createElement('div')\n",
       "                                el.innerHTML = `\n",
       "<script type=\"text/javascript\">\n",
       "  (function() {\n",
       "    var fn = function() {\n",
       "      Bokeh.safely(function() {\n",
       "        (function(root) {\n",
       "          function embed_document(root) {\n",
       "            \n",
       "          var docs_json = '{\"84553c86-1b18-4f7e-9691-eb6b6d34e626\":{\"roots\":{\"references\":[{\"attributes\":{},\"id\":\"2064\",\"type\":\"CategoricalTicker\"},{\"attributes\":{\"source\":{\"id\":\"2052\",\"type\":\"ColumnDataSource\"}},\"id\":\"2120\",\"type\":\"CDSView\"},{\"attributes\":{\"toolbar\":{\"id\":\"2227\",\"type\":\"ProxyToolbar\"},\"toolbar_location\":\"above\"},\"id\":\"2228\",\"type\":\"ToolbarBox\"},{\"attributes\":{\"fields\":[\"200\",\"201\"]},\"id\":\"2090\",\"type\":\"Stack\"},{\"attributes\":{},\"id\":\"2068\",\"type\":\"BasicTicker\"},{\"attributes\":{\"tools\":[{\"id\":\"2072\",\"type\":\"PanTool\"},{\"id\":\"2073\",\"type\":\"WheelZoomTool\"},{\"id\":\"2074\",\"type\":\"BoxZoomTool\"},{\"id\":\"2075\",\"type\":\"SaveTool\"},{\"id\":\"2076\",\"type\":\"ResetTool\"},{\"id\":\"2077\",\"type\":\"HelpTool\"},{\"id\":\"2214\",\"type\":\"HoverTool\"}]},\"id\":\"2227\",\"type\":\"ProxyToolbar\"},{\"attributes\":{\"label\":{\"value\":\"200\"},\"renderers\":[{\"id\":\"2106\",\"type\":\"GlyphRenderer\"}]},\"id\":\"2115\",\"type\":\"LegendItem\"},{\"attributes\":{\"label\":{\"value\":\"404\"},\"renderers\":[{\"id\":\"2161\",\"type\":\"GlyphRenderer\"}]},\"id\":\"2171\",\"type\":\"LegendItem\"},{\"attributes\":{\"bottom\":{\"expr\":{\"id\":\"2089\",\"type\":\"Stack\"}},\"fill_alpha\":{\"value\":0.1},\"fill_color\":{\"value\":\"#1f77b4\"},\"line_alpha\":{\"value\":0.1},\"line_color\":{\"value\":\"#1f77b4\"},\"top\":{\"expr\":{\"id\":\"2090\",\"type\":\"Stack\"}},\"width\":{\"value\":0.9},\"x\":{\"field\":\"pd_stacked_col\"}},\"id\":\"2118\",\"type\":\"VBar\"},{\"attributes\":{\"overlay\":{\"id\":\"2080\",\"type\":\"BoxAnnotation\"}},\"id\":\"2074\",\"type\":\"BoxZoomTool\"},{\"attributes\":{\"data_source\":{\"id\":\"2052\",\"type\":\"ColumnDataSource\"},\"glyph\":{\"id\":\"2159\",\"type\":\"VBar\"},\"hover_glyph\":null,\"muted_glyph\":null,\"name\":\"404\",\"nonselection_glyph\":{\"id\":\"2160\",\"type\":\"VBar\"},\"selection_glyph\":null,\"view\":{\"id\":\"2162\",\"type\":\"CDSView\"}},\"id\":\"2161\",\"type\":\"GlyphRenderer\"},{\"attributes\":{\"fields\":[\"200\",\"201\"]},\"id\":\"2091\",\"type\":\"Stack\"},{\"attributes\":{\"fields\":[\"200\",\"201\",\"202\"]},\"id\":\"2092\",\"type\":\"Stack\"},{\"attributes\":{},\"id\":\"2075\",\"type\":\"SaveTool\"},{\"attributes\":{\"children\":[{\"id\":\"2225\",\"type\":\"Row\"}]},\"id\":\"2226\",\"type\":\"Column\"},{\"attributes\":{\"source\":{\"id\":\"2052\",\"type\":\"ColumnDataSource\"}},\"id\":\"2162\",\"type\":\"CDSView\"},{\"attributes\":{\"fields\":[\"200\"]},\"id\":\"2088\",\"type\":\"Stack\"},{\"attributes\":{\"label\":{\"value\":\"202\"},\"renderers\":[{\"id\":\"2133\",\"type\":\"GlyphRenderer\"}]},\"id\":\"2143\",\"type\":\"LegendItem\"},{\"attributes\":{\"dimension\":1,\"plot\":{\"id\":\"2053\",\"subtype\":\"Figure\",\"type\":\"Plot\"},\"ticker\":{\"id\":\"2068\",\"type\":\"BasicTicker\"}},\"id\":\"2071\",\"type\":\"Grid\"},{\"attributes\":{\"bottom_units\":\"screen\",\"fill_alpha\":{\"value\":0.5},\"fill_color\":{\"value\":\"lightgrey\"},\"left_units\":\"screen\",\"level\":\"overlay\",\"line_alpha\":{\"value\":1.0},\"line_color\":{\"value\":\"black\"},\"line_dash\":[4,4],\"line_width\":{\"value\":2},\"plot\":null,\"render_mode\":\"css\",\"right_units\":\"screen\",\"top_units\":\"screen\"},\"id\":\"2080\",\"type\":\"BoxAnnotation\"},{\"attributes\":{\"bottom\":{\"expr\":{\"id\":\"2101\",\"type\":\"Stack\"}},\"fill_alpha\":{\"value\":0.1},\"fill_color\":{\"value\":\"#1f77b4\"},\"line_alpha\":{\"value\":0.1},\"line_color\":{\"value\":\"#1f77b4\"},\"top\":{\"expr\":{\"id\":\"2102\",\"type\":\"Stack\"}},\"width\":{\"value\":0.9},\"x\":{\"field\":\"pd_stacked_col\"}},\"id\":\"2202\",\"type\":\"VBar\"},{\"attributes\":{\"bottom\":{\"expr\":{\"id\":\"2095\",\"type\":\"Stack\"}},\"fill_alpha\":{\"value\":0.1},\"fill_color\":{\"value\":\"#1f77b4\"},\"line_alpha\":{\"value\":0.1},\"line_color\":{\"value\":\"#1f77b4\"},\"top\":{\"expr\":{\"id\":\"2096\",\"type\":\"Stack\"}},\"width\":{\"value\":0.9},\"x\":{\"field\":\"pd_stacked_col\"}},\"id\":\"2160\",\"type\":\"VBar\"},{\"attributes\":{\"fields\":[]},\"id\":\"2087\",\"type\":\"Stack\"},{\"attributes\":{\"children\":[{\"id\":\"2228\",\"type\":\"ToolbarBox\"},{\"id\":\"2226\",\"type\":\"Column\"}]},\"id\":\"2229\",\"type\":\"Column\"},{\"attributes\":{},\"id\":\"2126\",\"type\":\"UnionRenderers\"},{\"attributes\":{},\"id\":\"2077\",\"type\":\"HelpTool\"},{\"attributes\":{\"items\":[{\"id\":\"2115\",\"type\":\"LegendItem\"},{\"id\":\"2129\",\"type\":\"LegendItem\"},{\"id\":\"2143\",\"type\":\"LegendItem\"},{\"id\":\"2157\",\"type\":\"LegendItem\"},{\"id\":\"2171\",\"type\":\"LegendItem\"},{\"id\":\"2185\",\"type\":\"LegendItem\"},{\"id\":\"2199\",\"type\":\"LegendItem\"},{\"id\":\"2213\",\"type\":\"LegendItem\"}],\"location\":\"top_left\",\"plot\":{\"id\":\"2053\",\"subtype\":\"Figure\",\"type\":\"Plot\"}},\"id\":\"2114\",\"type\":\"Legend\"},{\"attributes\":{\"active_drag\":\"auto\",\"active_inspect\":\"auto\",\"active_multi\":null,\"active_scroll\":\"auto\",\"active_tap\":\"auto\",\"tools\":[{\"id\":\"2072\",\"type\":\"PanTool\"},{\"id\":\"2073\",\"type\":\"WheelZoomTool\"},{\"id\":\"2074\",\"type\":\"BoxZoomTool\"},{\"id\":\"2075\",\"type\":\"SaveTool\"},{\"id\":\"2076\",\"type\":\"ResetTool\"},{\"id\":\"2077\",\"type\":\"HelpTool\"},{\"id\":\"2214\",\"type\":\"HoverTool\"}]},\"id\":\"2078\",\"type\":\"Toolbar\"},{\"attributes\":{\"label\":{\"value\":\"410\"},\"renderers\":[{\"id\":\"2189\",\"type\":\"GlyphRenderer\"}]},\"id\":\"2199\",\"type\":\"LegendItem\"},{\"attributes\":{\"bottom\":{\"expr\":{\"id\":\"2097\",\"type\":\"Stack\"}},\"fill_color\":{\"value\":\"#8c564b\"},\"line_color\":{\"value\":\"#8c564b\"},\"top\":{\"expr\":{\"id\":\"2098\",\"type\":\"Stack\"}},\"width\":{\"value\":0.9},\"x\":{\"field\":\"pd_stacked_col\"}},\"id\":\"2173\",\"type\":\"VBar\"},{\"attributes\":{\"axis_label\":\"status_count\",\"formatter\":{\"id\":\"2109\",\"type\":\"BasicTickFormatter\"},\"minor_tick_line_color\":{\"value\":null},\"plot\":{\"id\":\"2053\",\"subtype\":\"Figure\",\"type\":\"Plot\"},\"ticker\":{\"id\":\"2068\",\"type\":\"BasicTicker\"}},\"id\":\"2067\",\"type\":\"LinearAxis\"},{\"attributes\":{},\"id\":\"2127\",\"type\":\"Selection\"},{\"attributes\":{},\"id\":\"2072\",\"type\":\"PanTool\"},{\"attributes\":{\"children\":[{\"id\":\"2053\",\"subtype\":\"Figure\",\"type\":\"Plot\"}]},\"id\":\"2225\",\"type\":\"Row\"},{\"attributes\":{\"source\":{\"id\":\"2052\",\"type\":\"ColumnDataSource\"}},\"id\":\"2134\",\"type\":\"CDSView\"},{\"attributes\":{\"source\":{\"id\":\"2052\",\"type\":\"ColumnDataSource\"}},\"id\":\"2190\",\"type\":\"CDSView\"},{\"attributes\":{\"bottom\":{\"expr\":{\"id\":\"2093\",\"type\":\"Stack\"}},\"fill_color\":{\"value\":\"#d62728\"},\"line_color\":{\"value\":\"#d62728\"},\"top\":{\"expr\":{\"id\":\"2094\",\"type\":\"Stack\"}},\"width\":{\"value\":0.9},\"x\":{\"field\":\"pd_stacked_col\"}},\"id\":\"2145\",\"type\":\"VBar\"},{\"attributes\":{\"fields\":[\"200\"]},\"id\":\"2089\",\"type\":\"Stack\"},{\"attributes\":{\"callback\":null,\"tooltips\":[[\"datetime\",\"@pd_stacked_col{0.00}\"],[\"200\",\"@200{0.00}\"],[\"201\",\"@201{0.00}\"],[\"202\",\"@202{0.00}\"],[\"403\",\"@403{0.00}\"],[\"404\",\"@404{0.00}\"],[\"405\",\"@405{0.00}\"],[\"410\",\"@410{0.00}\"],[\"500\",\"@500{0.00}\"]]},\"id\":\"2214\",\"type\":\"HoverTool\"},{\"attributes\":{},\"id\":\"2076\",\"type\":\"ResetTool\"},{\"attributes\":{\"data_source\":{\"id\":\"2052\",\"type\":\"ColumnDataSource\"},\"glyph\":{\"id\":\"2187\",\"type\":\"VBar\"},\"hover_glyph\":null,\"muted_glyph\":null,\"name\":\"410\",\"nonselection_glyph\":{\"id\":\"2188\",\"type\":\"VBar\"},\"selection_glyph\":null,\"view\":{\"id\":\"2190\",\"type\":\"CDSView\"}},\"id\":\"2189\",\"type\":\"GlyphRenderer\"},{\"attributes\":{\"callback\":null,\"factors\":[\"2019-08-17 00:00:00\",\"2019-08-17 01:00:00\",\"2019-08-17 02:00:00\",\"2019-08-17 03:00:00\",\"2019-08-17 04:00:00\",\"2019-08-17 05:00:00\",\"2019-08-17 06:00:00\",\"2019-08-17 07:00:00\",\"2019-08-17 08:00:00\",\"2019-08-17 09:00:00\",\"2019-08-17 10:00:00\",\"2019-08-17 11:00:00\",\"2019-08-17 12:00:00\",\"2019-08-17 13:00:00\",\"2019-08-17 14:00:00\",\"2019-08-17 15:00:00\",\"2019-08-17 16:00:00\",\"2019-08-17 17:00:00\",\"2019-08-17 18:00:00\",\"2019-08-17 19:00:00\",\"2019-08-17 20:00:00\",\"2019-08-17 21:00:00\",\"2019-08-17 22:00:00\",\"2019-08-17 23:00:00\"],\"range_padding\":0.1},\"id\":\"2055\",\"type\":\"FactorRange\"},{\"attributes\":{\"source\":{\"id\":\"2052\",\"type\":\"ColumnDataSource\"}},\"id\":\"2204\",\"type\":\"CDSView\"},{\"attributes\":{\"fields\":[\"200\",\"201\",\"202\"]},\"id\":\"2093\",\"type\":\"Stack\"},{\"attributes\":{\"bottom\":{\"expr\":{\"id\":\"2089\",\"type\":\"Stack\"}},\"fill_color\":{\"value\":\"#ff7f0e\"},\"line_color\":{\"value\":\"#ff7f0e\"},\"top\":{\"expr\":{\"id\":\"2090\",\"type\":\"Stack\"}},\"width\":{\"value\":0.9},\"x\":{\"field\":\"pd_stacked_col\"}},\"id\":\"2117\",\"type\":\"VBar\"},{\"attributes\":{\"bottom\":{\"expr\":{\"id\":\"2093\",\"type\":\"Stack\"}},\"fill_alpha\":{\"value\":0.1},\"fill_color\":{\"value\":\"#1f77b4\"},\"line_alpha\":{\"value\":0.1},\"line_color\":{\"value\":\"#1f77b4\"},\"top\":{\"expr\":{\"id\":\"2094\",\"type\":\"Stack\"}},\"width\":{\"value\":0.9},\"x\":{\"field\":\"pd_stacked_col\"}},\"id\":\"2146\",\"type\":\"VBar\"},{\"attributes\":{\"axis_label\":\"datetime\",\"formatter\":{\"id\":\"2111\",\"type\":\"CategoricalTickFormatter\"},\"major_label_orientation\":1,\"minor_tick_line_color\":{\"value\":null},\"plot\":{\"id\":\"2053\",\"subtype\":\"Figure\",\"type\":\"Plot\"},\"ticker\":{\"id\":\"2064\",\"type\":\"CategoricalTicker\"}},\"id\":\"2063\",\"type\":\"CategoricalAxis\"},{\"attributes\":{\"callback\":null,\"start\":0},\"id\":\"2057\",\"type\":\"DataRange1d\"},{\"attributes\":{\"grid_line_color\":{\"value\":null},\"plot\":{\"id\":\"2053\",\"subtype\":\"Figure\",\"type\":\"Plot\"},\"ticker\":{\"id\":\"2064\",\"type\":\"CategoricalTicker\"}},\"id\":\"2066\",\"type\":\"Grid\"},{\"attributes\":{},\"id\":\"2109\",\"type\":\"BasicTickFormatter\"},{\"attributes\":{\"bottom\":{\"expr\":{\"id\":\"2099\",\"type\":\"Stack\"}},\"fill_alpha\":{\"value\":0.1},\"fill_color\":{\"value\":\"#1f77b4\"},\"line_alpha\":{\"value\":0.1},\"line_color\":{\"value\":\"#1f77b4\"},\"top\":{\"expr\":{\"id\":\"2100\",\"type\":\"Stack\"}},\"width\":{\"value\":0.9},\"x\":{\"field\":\"pd_stacked_col\"}},\"id\":\"2188\",\"type\":\"VBar\"},{\"attributes\":{\"callback\":null,\"data\":{\"200\":[0.0,452.0,465.0,452.0,451.0,446.0,455.0,468.0,414.0,349.0,0.0,344.0,357.0,326.0,549.0,363.0,313.0,306.0,0.0,324.0,341.0,373.0,980.0,457.0],\"201\":[68.0,71.0,70.0,71.0,0.0,68.0,70.0,0.0,65.0,0.0,57.0,50.0,58.0,0.0,59.0,51.0,49.0,0.0,48.0,47.0,51.0,55.0,0.0,71.0],\"202\":[1.0,1.0,1.0,1.0,1.0,1.0,1.0,1.0,1.0,1.0,1.0,1.0,1.0,1.0,2.0,0.0,1.0,1.0,1.0,1.0,1.0,1.0,0.0,1.0],\"403\":[0.0,0.0,0.0,0.0,0.0,0.0,0.0,0.0,0.0,0.0,0.0,0.0,0.0,0.0,0.0,0.0,0.0,0.0,0.0,0.0,0.0,0.0,116.0,0.0],\"404\":[6.0,0.0,1.0,0.0,0.0,0.0,9.0,4.0,7.0,0.0,0.0,90.0,0.0,0.0,0.0,1.0,0.0,0.0,4.0,0.0,2.0,2.0,383.0,6.0],\"405\":[0.0,0.0,0.0,0.0,0.0,0.0,0.0,0.0,0.0,0.0,0.0,0.0,0.0,0.0,0.0,0.0,0.0,0.0,0.0,0.0,0.0,0.0,5.0,0.0],\"410\":[0.0,0.0,0.0,0.0,0.0,0.0,0.0,0.0,4.0,5.0,2.0,3.0,0.0,4.0,0.0,6.0,5.0,3.0,7.0,3.0,8.0,5.0,0.0,0.0],\"500\":[0.0,0.0,0.0,0.0,0.0,0.0,0.0,6.0,93.0,0.0,221.0,200.0,218.0,0.0,316.0,322.0,295.0,312.0,299.0,296.0,329.0,0.0,118.0,0.0],\"pd_stacked_col\":[\"2019-08-17 00:00:00\",\"2019-08-17 01:00:00\",\"2019-08-17 02:00:00\",\"2019-08-17 03:00:00\",\"2019-08-17 04:00:00\",\"2019-08-17 05:00:00\",\"2019-08-17 06:00:00\",\"2019-08-17 07:00:00\",\"2019-08-17 08:00:00\",\"2019-08-17 09:00:00\",\"2019-08-17 10:00:00\",\"2019-08-17 11:00:00\",\"2019-08-17 12:00:00\",\"2019-08-17 13:00:00\",\"2019-08-17 14:00:00\",\"2019-08-17 15:00:00\",\"2019-08-17 16:00:00\",\"2019-08-17 17:00:00\",\"2019-08-17 18:00:00\",\"2019-08-17 19:00:00\",\"2019-08-17 20:00:00\",\"2019-08-17 21:00:00\",\"2019-08-17 22:00:00\",\"2019-08-17 23:00:00\"]},\"selected\":{\"id\":\"2127\",\"type\":\"Selection\"},\"selection_policy\":{\"id\":\"2126\",\"type\":\"UnionRenderers\"}},\"id\":\"2052\",\"type\":\"ColumnDataSource\"},{\"attributes\":{\"label\":{\"value\":\"201\"},\"renderers\":[{\"id\":\"2119\",\"type\":\"GlyphRenderer\"}]},\"id\":\"2129\",\"type\":\"LegendItem\"},{\"attributes\":{},\"id\":\"2111\",\"type\":\"CategoricalTickFormatter\"},{\"attributes\":{\"bottom\":{\"expr\":{\"id\":\"2099\",\"type\":\"Stack\"}},\"fill_color\":{\"value\":\"#e377c2\"},\"line_color\":{\"value\":\"#e377c2\"},\"top\":{\"expr\":{\"id\":\"2100\",\"type\":\"Stack\"}},\"width\":{\"value\":0.9},\"x\":{\"field\":\"pd_stacked_col\"}},\"id\":\"2187\",\"type\":\"VBar\"},{\"attributes\":{\"data_source\":{\"id\":\"2052\",\"type\":\"ColumnDataSource\"},\"glyph\":{\"id\":\"2201\",\"type\":\"VBar\"},\"hover_glyph\":null,\"muted_glyph\":null,\"name\":\"500\",\"nonselection_glyph\":{\"id\":\"2202\",\"type\":\"VBar\"},\"selection_glyph\":null,\"view\":{\"id\":\"2204\",\"type\":\"CDSView\"}},\"id\":\"2203\",\"type\":\"GlyphRenderer\"},{\"attributes\":{\"bottom\":{\"expr\":{\"id\":\"2087\",\"type\":\"Stack\"}},\"fill_color\":{\"value\":\"#1f77b4\"},\"line_color\":{\"value\":\"#1f77b4\"},\"top\":{\"expr\":{\"id\":\"2088\",\"type\":\"Stack\"}},\"width\":{\"value\":0.9},\"x\":{\"field\":\"pd_stacked_col\"}},\"id\":\"2104\",\"type\":\"VBar\"},{\"attributes\":{\"data_source\":{\"id\":\"2052\",\"type\":\"ColumnDataSource\"},\"glyph\":{\"id\":\"2104\",\"type\":\"VBar\"},\"hover_glyph\":null,\"muted_glyph\":null,\"name\":\"200\",\"nonselection_glyph\":{\"id\":\"2105\",\"type\":\"VBar\"},\"selection_glyph\":null,\"view\":{\"id\":\"2107\",\"type\":\"CDSView\"}},\"id\":\"2106\",\"type\":\"GlyphRenderer\"},{\"attributes\":{},\"id\":\"2059\",\"type\":\"CategoricalScale\"},{\"attributes\":{\"source\":{\"id\":\"2052\",\"type\":\"ColumnDataSource\"}},\"id\":\"2148\",\"type\":\"CDSView\"},{\"attributes\":{\"fields\":[\"200\",\"201\",\"202\",\"403\",\"404\",\"405\",\"410\",\"500\"]},\"id\":\"2102\",\"type\":\"Stack\"},{\"attributes\":{},\"id\":\"2061\",\"type\":\"LinearScale\"},{\"attributes\":{\"source\":{\"id\":\"2052\",\"type\":\"ColumnDataSource\"}},\"id\":\"2107\",\"type\":\"CDSView\"},{\"attributes\":{\"label\":{\"value\":\"403\"},\"renderers\":[{\"id\":\"2147\",\"type\":\"GlyphRenderer\"}]},\"id\":\"2157\",\"type\":\"LegendItem\"},{\"attributes\":{\"source\":{\"id\":\"2052\",\"type\":\"ColumnDataSource\"}},\"id\":\"2176\",\"type\":\"CDSView\"},{\"attributes\":{\"bottom\":{\"expr\":{\"id\":\"2101\",\"type\":\"Stack\"}},\"fill_color\":{\"value\":\"#7f7f7f\"},\"line_color\":{\"value\":\"#7f7f7f\"},\"top\":{\"expr\":{\"id\":\"2102\",\"type\":\"Stack\"}},\"width\":{\"value\":0.9},\"x\":{\"field\":\"pd_stacked_col\"}},\"id\":\"2201\",\"type\":\"VBar\"},{\"attributes\":{\"data_source\":{\"id\":\"2052\",\"type\":\"ColumnDataSource\"},\"glyph\":{\"id\":\"2131\",\"type\":\"VBar\"},\"hover_glyph\":null,\"muted_glyph\":null,\"name\":\"202\",\"nonselection_glyph\":{\"id\":\"2132\",\"type\":\"VBar\"},\"selection_glyph\":null,\"view\":{\"id\":\"2134\",\"type\":\"CDSView\"}},\"id\":\"2133\",\"type\":\"GlyphRenderer\"},{\"attributes\":{\"bottom\":{\"expr\":{\"id\":\"2087\",\"type\":\"Stack\"}},\"fill_alpha\":{\"value\":0.1},\"fill_color\":{\"value\":\"#1f77b4\"},\"line_alpha\":{\"value\":0.1},\"line_color\":{\"value\":\"#1f77b4\"},\"top\":{\"expr\":{\"id\":\"2088\",\"type\":\"Stack\"}},\"width\":{\"value\":0.9},\"x\":{\"field\":\"pd_stacked_col\"}},\"id\":\"2105\",\"type\":\"VBar\"},{\"attributes\":{\"fields\":[\"200\",\"201\",\"202\",\"403\",\"404\",\"405\",\"410\"]},\"id\":\"2101\",\"type\":\"Stack\"},{\"attributes\":{\"fields\":[\"200\",\"201\",\"202\",\"403\",\"404\",\"405\"]},\"id\":\"2098\",\"type\":\"Stack\"},{\"attributes\":{\"data_source\":{\"id\":\"2052\",\"type\":\"ColumnDataSource\"},\"glyph\":{\"id\":\"2145\",\"type\":\"VBar\"},\"hover_glyph\":null,\"muted_glyph\":null,\"name\":\"403\",\"nonselection_glyph\":{\"id\":\"2146\",\"type\":\"VBar\"},\"selection_glyph\":null,\"view\":{\"id\":\"2148\",\"type\":\"CDSView\"}},\"id\":\"2147\",\"type\":\"GlyphRenderer\"},{\"attributes\":{\"bottom\":{\"expr\":{\"id\":\"2091\",\"type\":\"Stack\"}},\"fill_color\":{\"value\":\"#2ca02c\"},\"line_color\":{\"value\":\"#2ca02c\"},\"top\":{\"expr\":{\"id\":\"2092\",\"type\":\"Stack\"}},\"width\":{\"value\":0.9},\"x\":{\"field\":\"pd_stacked_col\"}},\"id\":\"2131\",\"type\":\"VBar\"},{\"attributes\":{\"fields\":[\"200\",\"201\",\"202\",\"403\",\"404\"]},\"id\":\"2097\",\"type\":\"Stack\"},{\"attributes\":{\"data_source\":{\"id\":\"2052\",\"type\":\"ColumnDataSource\"},\"glyph\":{\"id\":\"2117\",\"type\":\"VBar\"},\"hover_glyph\":null,\"muted_glyph\":null,\"name\":\"201\",\"nonselection_glyph\":{\"id\":\"2118\",\"type\":\"VBar\"},\"selection_glyph\":null,\"view\":{\"id\":\"2120\",\"type\":\"CDSView\"}},\"id\":\"2119\",\"type\":\"GlyphRenderer\"},{\"attributes\":{\"fields\":[\"200\",\"201\",\"202\",\"403\",\"404\",\"405\",\"410\"]},\"id\":\"2100\",\"type\":\"Stack\"},{\"attributes\":{\"fields\":[\"200\",\"201\",\"202\",\"403\",\"404\",\"405\"]},\"id\":\"2099\",\"type\":\"Stack\"},{\"attributes\":{\"data_source\":{\"id\":\"2052\",\"type\":\"ColumnDataSource\"},\"glyph\":{\"id\":\"2173\",\"type\":\"VBar\"},\"hover_glyph\":null,\"muted_glyph\":null,\"name\":\"405\",\"nonselection_glyph\":{\"id\":\"2174\",\"type\":\"VBar\"},\"selection_glyph\":null,\"view\":{\"id\":\"2176\",\"type\":\"CDSView\"}},\"id\":\"2175\",\"type\":\"GlyphRenderer\"},{\"attributes\":{\"fields\":[\"200\",\"201\",\"202\",\"403\",\"404\"]},\"id\":\"2096\",\"type\":\"Stack\"},{\"attributes\":{\"fields\":[\"200\",\"201\",\"202\",\"403\"]},\"id\":\"2095\",\"type\":\"Stack\"},{\"attributes\":{\"label\":{\"value\":\"405\"},\"renderers\":[{\"id\":\"2175\",\"type\":\"GlyphRenderer\"}]},\"id\":\"2185\",\"type\":\"LegendItem\"},{\"attributes\":{\"label\":{\"value\":\"500\"},\"renderers\":[{\"id\":\"2203\",\"type\":\"GlyphRenderer\"}]},\"id\":\"2213\",\"type\":\"LegendItem\"},{\"attributes\":{\"bottom\":{\"expr\":{\"id\":\"2095\",\"type\":\"Stack\"}},\"fill_color\":{\"value\":\"#9467bd\"},\"line_color\":{\"value\":\"#9467bd\"},\"top\":{\"expr\":{\"id\":\"2096\",\"type\":\"Stack\"}},\"width\":{\"value\":0.9},\"x\":{\"field\":\"pd_stacked_col\"}},\"id\":\"2159\",\"type\":\"VBar\"},{\"attributes\":{\"fields\":[\"200\",\"201\",\"202\",\"403\"]},\"id\":\"2094\",\"type\":\"Stack\"},{\"attributes\":{},\"id\":\"2073\",\"type\":\"WheelZoomTool\"},{\"attributes\":{\"bottom\":{\"expr\":{\"id\":\"2097\",\"type\":\"Stack\"}},\"fill_alpha\":{\"value\":0.1},\"fill_color\":{\"value\":\"#1f77b4\"},\"line_alpha\":{\"value\":0.1},\"line_color\":{\"value\":\"#1f77b4\"},\"top\":{\"expr\":{\"id\":\"2098\",\"type\":\"Stack\"}},\"width\":{\"value\":0.9},\"x\":{\"field\":\"pd_stacked_col\"}},\"id\":\"2174\",\"type\":\"VBar\"},{\"attributes\":{\"bottom\":{\"expr\":{\"id\":\"2091\",\"type\":\"Stack\"}},\"fill_alpha\":{\"value\":0.1},\"fill_color\":{\"value\":\"#1f77b4\"},\"line_alpha\":{\"value\":0.1},\"line_color\":{\"value\":\"#1f77b4\"},\"top\":{\"expr\":{\"id\":\"2092\",\"type\":\"Stack\"}},\"width\":{\"value\":0.9},\"x\":{\"field\":\"pd_stacked_col\"}},\"id\":\"2132\",\"type\":\"VBar\"},{\"attributes\":{\"below\":[{\"id\":\"2063\",\"type\":\"CategoricalAxis\"}],\"left\":[{\"id\":\"2067\",\"type\":\"LinearAxis\"}],\"outline_line_color\":{\"value\":null},\"plot_height\":495,\"plot_width\":1160,\"renderers\":[{\"id\":\"2063\",\"type\":\"CategoricalAxis\"},{\"id\":\"2066\",\"type\":\"Grid\"},{\"id\":\"2067\",\"type\":\"LinearAxis\"},{\"id\":\"2071\",\"type\":\"Grid\"},{\"id\":\"2080\",\"type\":\"BoxAnnotation\"},{\"id\":\"2114\",\"type\":\"Legend\"},{\"id\":\"2106\",\"type\":\"GlyphRenderer\"},{\"id\":\"2119\",\"type\":\"GlyphRenderer\"},{\"id\":\"2133\",\"type\":\"GlyphRenderer\"},{\"id\":\"2147\",\"type\":\"GlyphRenderer\"},{\"id\":\"2161\",\"type\":\"GlyphRenderer\"},{\"id\":\"2175\",\"type\":\"GlyphRenderer\"},{\"id\":\"2189\",\"type\":\"GlyphRenderer\"},{\"id\":\"2203\",\"type\":\"GlyphRenderer\"}],\"title\":null,\"toolbar\":{\"id\":\"2078\",\"type\":\"Toolbar\"},\"toolbar_location\":null,\"x_range\":{\"id\":\"2055\",\"type\":\"FactorRange\"},\"x_scale\":{\"id\":\"2059\",\"type\":\"CategoricalScale\"},\"y_range\":{\"id\":\"2057\",\"type\":\"DataRange1d\"},\"y_scale\":{\"id\":\"2061\",\"type\":\"LinearScale\"}},\"id\":\"2053\",\"subtype\":\"Figure\",\"type\":\"Plot\"}],\"root_ids\":[\"2229\"]},\"title\":\"Bokeh Application\",\"version\":\"1.0.4\"}}';\n",
       "          var render_items = [{\"docid\":\"84553c86-1b18-4f7e-9691-eb6b6d34e626\",\"roots\":{\"2229\":\"e75ee70a-a370-4527-a359-61e07a909b9c\"}}];\n",
       "          root.Bokeh.embed.embed_items(docs_json, render_items);\n",
       "        \n",
       "          }\n",
       "          if (root.Bokeh !== undefined) {\n",
       "            embed_document(root);\n",
       "          } else {\n",
       "            var attempts = 0;\n",
       "            var timer = setInterval(function(root) {\n",
       "              if (root.Bokeh !== undefined) {\n",
       "                embed_document(root);\n",
       "                clearInterval(timer);\n",
       "              }\n",
       "              attempts++;\n",
       "              if (attempts > 100) {\n",
       "                console.log(\"Bokeh: ERROR: Unable to run BokehJS code because BokehJS library is missing\");\n",
       "                clearInterval(timer);\n",
       "              }\n",
       "            }, 10, root)\n",
       "          }\n",
       "        })(window);\n",
       "      });\n",
       "    };\n",
       "    if (document.readyState != \"loading\") fn();\n",
       "    else document.addEventListener(\"DOMContentLoaded\", fn);\n",
       "  })();\n",
       "<\\/script>`\n",
       "                                var chartscript = el.childNodes[1]\n",
       "                                var s = document.createElement(\"script\")\n",
       "                                s.innerHTML = chartscript.innerHTML\n",
       "                                d.parentNode.insertBefore(s, d)\n",
       "                            }\n",
       "                        }\n",
       "                    }\n",
       "                    if (!window.Bokeh && !window.autoload){\n",
       "                        window.autoload=true;\n",
       "                        \n",
       "(function(root) {\n",
       "  function now() {\n",
       "    return new Date();\n",
       "  }\n",
       "\n",
       "  var force = 1;\n",
       "\n",
       "  if (typeof (root._bokeh_onload_callbacks) === \"undefined\" || force === true) {\n",
       "    root._bokeh_onload_callbacks = [];\n",
       "    root._bokeh_is_loading = undefined;\n",
       "  }\n",
       "\n",
       "  \n",
       "\n",
       "  \n",
       "  if (typeof (root._bokeh_timeout) === \"undefined\" || force === true) {\n",
       "    root._bokeh_timeout = Date.now() + 5000;\n",
       "    root._bokeh_failed_load = false;\n",
       "  }\n",
       "\n",
       "  var NB_LOAD_WARNING = {'data': {'text/html':\n",
       "     \"<div style='background-color: #fdd'>\\n\"+\n",
       "     \"<p>\\n\"+\n",
       "     \"BokehJS does not appear to have successfully loaded. If loading BokehJS from CDN, this \\n\"+\n",
       "     \"may be due to a slow or bad network connection. Possible fixes:\\n\"+\n",
       "     \"</p>\\n\"+\n",
       "     \"<ul>\\n\"+\n",
       "     \"<li>re-rerun `output_notebook()` to attempt to load from CDN again, or</li>\\n\"+\n",
       "     \"<li>use INLINE resources instead, as so:</li>\\n\"+\n",
       "     \"</ul>\\n\"+\n",
       "     \"<code>\\n\"+\n",
       "     \"from bokeh.resources import INLINE\\n\"+\n",
       "     \"output_notebook(resources=INLINE)\\n\"+\n",
       "     \"</code>\\n\"+\n",
       "     \"</div>\"}};\n",
       "\n",
       "  function display_loaded() {\n",
       "    var el = document.getElementById(\"\");\n",
       "    if (el != null) {\n",
       "      el.textContent = \"BokehJS is loading...\";\n",
       "    }\n",
       "    if (root.Bokeh !== undefined) {\n",
       "      if (el != null) {\n",
       "        el.textContent = \"BokehJS \" + root.Bokeh.version + \" successfully loaded.\";\n",
       "      }\n",
       "    } else if (Date.now() < root._bokeh_timeout) {\n",
       "      setTimeout(display_loaded, 100)\n",
       "    }\n",
       "  }\n",
       "\n",
       "\n",
       "  function run_callbacks() {\n",
       "    try {\n",
       "      root._bokeh_onload_callbacks.forEach(function(callback) { callback() });\n",
       "    }\n",
       "    finally {\n",
       "      delete root._bokeh_onload_callbacks\n",
       "    }\n",
       "    console.info(\"Bokeh: all callbacks have finished\");\n",
       "  }\n",
       "\n",
       "  function load_libs(js_urls, callback) {\n",
       "    root._bokeh_onload_callbacks.push(callback);\n",
       "    if (root._bokeh_is_loading > 0) {\n",
       "      console.log(\"Bokeh: BokehJS is being loaded, scheduling callback at\", now());\n",
       "      return null;\n",
       "    }\n",
       "    if (js_urls == null || js_urls.length === 0) {\n",
       "      run_callbacks();\n",
       "      return null;\n",
       "    }\n",
       "    console.log(\"Bokeh: BokehJS not loaded, scheduling load and callback at\", now());\n",
       "    root._bokeh_is_loading = js_urls.length;\n",
       "    for (var i = 0; i < js_urls.length; i++) {\n",
       "      var url = js_urls[i];\n",
       "      var s = document.createElement('script');\n",
       "      s.src = url;\n",
       "      s.async = false;\n",
       "      s.onreadystatechange = s.onload = function() {\n",
       "        root._bokeh_is_loading--;\n",
       "        if (root._bokeh_is_loading === 0) {\n",
       "          console.log(\"Bokeh: all BokehJS libraries loaded\");\n",
       "          run_callbacks()\n",
       "        }\n",
       "      };\n",
       "      s.onerror = function() {\n",
       "        console.warn(\"failed to load library \" + url);\n",
       "      };\n",
       "      console.log(\"Bokeh: injecting script tag for BokehJS library: \", url);\n",
       "      document.getElementsByTagName(\"head\")[0].appendChild(s);\n",
       "    }\n",
       "  };\n",
       "\n",
       "  var js_urls = [\"https://cdn.pydata.org/bokeh/release/bokeh-1.0.4.min.js\", \"https://cdn.pydata.org/bokeh/release/bokeh-widgets-1.0.4.min.js\", \"https://cdn.pydata.org/bokeh/release/bokeh-tables-1.0.4.min.js\", \"https://cdn.pydata.org/bokeh/release/bokeh-gl-1.0.4.min.js\"];\n",
       "\n",
       "  var inline_js = [\n",
       "    function(Bokeh) {\n",
       "      Bokeh.set_log_level(\"info\");\n",
       "    },\n",
       "    function(Bokeh) {\n",
       "      console.log(\"Bokeh: injecting CSS: https://cdn.pydata.org/bokeh/release/bokeh-1.0.4.min.css\");\n",
       "      Bokeh.embed.inject_css(\"https://cdn.pydata.org/bokeh/release/bokeh-1.0.4.min.css\");\n",
       "      console.log(\"Bokeh: injecting CSS: https://cdn.pydata.org/bokeh/release/bokeh-widgets-1.0.4.min.css\");\n",
       "      Bokeh.embed.inject_css(\"https://cdn.pydata.org/bokeh/release/bokeh-widgets-1.0.4.min.css\");\n",
       "      console.log(\"Bokeh: injecting CSS: https://cdn.pydata.org/bokeh/release/bokeh-tables-1.0.4.min.css\");\n",
       "      Bokeh.embed.inject_css(\"https://cdn.pydata.org/bokeh/release/bokeh-tables-1.0.4.min.css\");\n",
       "    }\n",
       "  ];\n",
       "\n",
       "  function run_inline_js() {\n",
       "    \n",
       "    if ((root.Bokeh !== undefined) || (force === true)) {\n",
       "      for (var i = 0; i < inline_js.length; i++) {\n",
       "        inline_js[i].call(root, root.Bokeh);\n",
       "      }} else if (Date.now() < root._bokeh_timeout) {\n",
       "      setTimeout(run_inline_js, 100);\n",
       "    } else if (!root._bokeh_failed_load) {\n",
       "      console.log(\"Bokeh: BokehJS failed to load within specified timeout.\");\n",
       "      root._bokeh_failed_load = true;\n",
       "    } else if (force !== true) {\n",
       "      var cell = $(document.getElementById(\"\")).parents('.cell').data().cell;\n",
       "      cell.output_area.append_execute_result(NB_LOAD_WARNING)\n",
       "    }\n",
       "\n",
       "  }\n",
       "\n",
       "  if (root._bokeh_is_loading === 0) {\n",
       "    console.log(\"Bokeh: BokehJS loaded, going straight to plotting\");\n",
       "    run_inline_js();\n",
       "  } else {\n",
       "    load_libs(js_urls, function() {\n",
       "      console.log(\"Bokeh: BokehJS plotting callback run at\", now());\n",
       "      run_inline_js();\n",
       "    });\n",
       "  }\n",
       "}(window));\n",
       "                    }\n",
       "                    setChartScript()\n",
       "                    </script>\n",
       "                    <script>\n",
       "  (function() {\n",
       "    var fn = function() {\n",
       "      Bokeh.safely(function() {\n",
       "        (function(root) {\n",
       "          function embed_document(root) {\n",
       "            \n",
       "          var docs_json = '{\"84553c86-1b18-4f7e-9691-eb6b6d34e626\":{\"roots\":{\"references\":[{\"attributes\":{},\"id\":\"2064\",\"type\":\"CategoricalTicker\"},{\"attributes\":{\"source\":{\"id\":\"2052\",\"type\":\"ColumnDataSource\"}},\"id\":\"2120\",\"type\":\"CDSView\"},{\"attributes\":{\"toolbar\":{\"id\":\"2227\",\"type\":\"ProxyToolbar\"},\"toolbar_location\":\"above\"},\"id\":\"2228\",\"type\":\"ToolbarBox\"},{\"attributes\":{\"fields\":[\"200\",\"201\"]},\"id\":\"2090\",\"type\":\"Stack\"},{\"attributes\":{},\"id\":\"2068\",\"type\":\"BasicTicker\"},{\"attributes\":{\"tools\":[{\"id\":\"2072\",\"type\":\"PanTool\"},{\"id\":\"2073\",\"type\":\"WheelZoomTool\"},{\"id\":\"2074\",\"type\":\"BoxZoomTool\"},{\"id\":\"2075\",\"type\":\"SaveTool\"},{\"id\":\"2076\",\"type\":\"ResetTool\"},{\"id\":\"2077\",\"type\":\"HelpTool\"},{\"id\":\"2214\",\"type\":\"HoverTool\"}]},\"id\":\"2227\",\"type\":\"ProxyToolbar\"},{\"attributes\":{\"label\":{\"value\":\"200\"},\"renderers\":[{\"id\":\"2106\",\"type\":\"GlyphRenderer\"}]},\"id\":\"2115\",\"type\":\"LegendItem\"},{\"attributes\":{\"label\":{\"value\":\"404\"},\"renderers\":[{\"id\":\"2161\",\"type\":\"GlyphRenderer\"}]},\"id\":\"2171\",\"type\":\"LegendItem\"},{\"attributes\":{\"bottom\":{\"expr\":{\"id\":\"2089\",\"type\":\"Stack\"}},\"fill_alpha\":{\"value\":0.1},\"fill_color\":{\"value\":\"#1f77b4\"},\"line_alpha\":{\"value\":0.1},\"line_color\":{\"value\":\"#1f77b4\"},\"top\":{\"expr\":{\"id\":\"2090\",\"type\":\"Stack\"}},\"width\":{\"value\":0.9},\"x\":{\"field\":\"pd_stacked_col\"}},\"id\":\"2118\",\"type\":\"VBar\"},{\"attributes\":{\"overlay\":{\"id\":\"2080\",\"type\":\"BoxAnnotation\"}},\"id\":\"2074\",\"type\":\"BoxZoomTool\"},{\"attributes\":{\"data_source\":{\"id\":\"2052\",\"type\":\"ColumnDataSource\"},\"glyph\":{\"id\":\"2159\",\"type\":\"VBar\"},\"hover_glyph\":null,\"muted_glyph\":null,\"name\":\"404\",\"nonselection_glyph\":{\"id\":\"2160\",\"type\":\"VBar\"},\"selection_glyph\":null,\"view\":{\"id\":\"2162\",\"type\":\"CDSView\"}},\"id\":\"2161\",\"type\":\"GlyphRenderer\"},{\"attributes\":{\"fields\":[\"200\",\"201\"]},\"id\":\"2091\",\"type\":\"Stack\"},{\"attributes\":{\"fields\":[\"200\",\"201\",\"202\"]},\"id\":\"2092\",\"type\":\"Stack\"},{\"attributes\":{},\"id\":\"2075\",\"type\":\"SaveTool\"},{\"attributes\":{\"children\":[{\"id\":\"2225\",\"type\":\"Row\"}]},\"id\":\"2226\",\"type\":\"Column\"},{\"attributes\":{\"source\":{\"id\":\"2052\",\"type\":\"ColumnDataSource\"}},\"id\":\"2162\",\"type\":\"CDSView\"},{\"attributes\":{\"fields\":[\"200\"]},\"id\":\"2088\",\"type\":\"Stack\"},{\"attributes\":{\"label\":{\"value\":\"202\"},\"renderers\":[{\"id\":\"2133\",\"type\":\"GlyphRenderer\"}]},\"id\":\"2143\",\"type\":\"LegendItem\"},{\"attributes\":{\"dimension\":1,\"plot\":{\"id\":\"2053\",\"subtype\":\"Figure\",\"type\":\"Plot\"},\"ticker\":{\"id\":\"2068\",\"type\":\"BasicTicker\"}},\"id\":\"2071\",\"type\":\"Grid\"},{\"attributes\":{\"bottom_units\":\"screen\",\"fill_alpha\":{\"value\":0.5},\"fill_color\":{\"value\":\"lightgrey\"},\"left_units\":\"screen\",\"level\":\"overlay\",\"line_alpha\":{\"value\":1.0},\"line_color\":{\"value\":\"black\"},\"line_dash\":[4,4],\"line_width\":{\"value\":2},\"plot\":null,\"render_mode\":\"css\",\"right_units\":\"screen\",\"top_units\":\"screen\"},\"id\":\"2080\",\"type\":\"BoxAnnotation\"},{\"attributes\":{\"bottom\":{\"expr\":{\"id\":\"2101\",\"type\":\"Stack\"}},\"fill_alpha\":{\"value\":0.1},\"fill_color\":{\"value\":\"#1f77b4\"},\"line_alpha\":{\"value\":0.1},\"line_color\":{\"value\":\"#1f77b4\"},\"top\":{\"expr\":{\"id\":\"2102\",\"type\":\"Stack\"}},\"width\":{\"value\":0.9},\"x\":{\"field\":\"pd_stacked_col\"}},\"id\":\"2202\",\"type\":\"VBar\"},{\"attributes\":{\"bottom\":{\"expr\":{\"id\":\"2095\",\"type\":\"Stack\"}},\"fill_alpha\":{\"value\":0.1},\"fill_color\":{\"value\":\"#1f77b4\"},\"line_alpha\":{\"value\":0.1},\"line_color\":{\"value\":\"#1f77b4\"},\"top\":{\"expr\":{\"id\":\"2096\",\"type\":\"Stack\"}},\"width\":{\"value\":0.9},\"x\":{\"field\":\"pd_stacked_col\"}},\"id\":\"2160\",\"type\":\"VBar\"},{\"attributes\":{\"fields\":[]},\"id\":\"2087\",\"type\":\"Stack\"},{\"attributes\":{\"children\":[{\"id\":\"2228\",\"type\":\"ToolbarBox\"},{\"id\":\"2226\",\"type\":\"Column\"}]},\"id\":\"2229\",\"type\":\"Column\"},{\"attributes\":{},\"id\":\"2126\",\"type\":\"UnionRenderers\"},{\"attributes\":{},\"id\":\"2077\",\"type\":\"HelpTool\"},{\"attributes\":{\"items\":[{\"id\":\"2115\",\"type\":\"LegendItem\"},{\"id\":\"2129\",\"type\":\"LegendItem\"},{\"id\":\"2143\",\"type\":\"LegendItem\"},{\"id\":\"2157\",\"type\":\"LegendItem\"},{\"id\":\"2171\",\"type\":\"LegendItem\"},{\"id\":\"2185\",\"type\":\"LegendItem\"},{\"id\":\"2199\",\"type\":\"LegendItem\"},{\"id\":\"2213\",\"type\":\"LegendItem\"}],\"location\":\"top_left\",\"plot\":{\"id\":\"2053\",\"subtype\":\"Figure\",\"type\":\"Plot\"}},\"id\":\"2114\",\"type\":\"Legend\"},{\"attributes\":{\"active_drag\":\"auto\",\"active_inspect\":\"auto\",\"active_multi\":null,\"active_scroll\":\"auto\",\"active_tap\":\"auto\",\"tools\":[{\"id\":\"2072\",\"type\":\"PanTool\"},{\"id\":\"2073\",\"type\":\"WheelZoomTool\"},{\"id\":\"2074\",\"type\":\"BoxZoomTool\"},{\"id\":\"2075\",\"type\":\"SaveTool\"},{\"id\":\"2076\",\"type\":\"ResetTool\"},{\"id\":\"2077\",\"type\":\"HelpTool\"},{\"id\":\"2214\",\"type\":\"HoverTool\"}]},\"id\":\"2078\",\"type\":\"Toolbar\"},{\"attributes\":{\"label\":{\"value\":\"410\"},\"renderers\":[{\"id\":\"2189\",\"type\":\"GlyphRenderer\"}]},\"id\":\"2199\",\"type\":\"LegendItem\"},{\"attributes\":{\"bottom\":{\"expr\":{\"id\":\"2097\",\"type\":\"Stack\"}},\"fill_color\":{\"value\":\"#8c564b\"},\"line_color\":{\"value\":\"#8c564b\"},\"top\":{\"expr\":{\"id\":\"2098\",\"type\":\"Stack\"}},\"width\":{\"value\":0.9},\"x\":{\"field\":\"pd_stacked_col\"}},\"id\":\"2173\",\"type\":\"VBar\"},{\"attributes\":{\"axis_label\":\"status_count\",\"formatter\":{\"id\":\"2109\",\"type\":\"BasicTickFormatter\"},\"minor_tick_line_color\":{\"value\":null},\"plot\":{\"id\":\"2053\",\"subtype\":\"Figure\",\"type\":\"Plot\"},\"ticker\":{\"id\":\"2068\",\"type\":\"BasicTicker\"}},\"id\":\"2067\",\"type\":\"LinearAxis\"},{\"attributes\":{},\"id\":\"2127\",\"type\":\"Selection\"},{\"attributes\":{},\"id\":\"2072\",\"type\":\"PanTool\"},{\"attributes\":{\"children\":[{\"id\":\"2053\",\"subtype\":\"Figure\",\"type\":\"Plot\"}]},\"id\":\"2225\",\"type\":\"Row\"},{\"attributes\":{\"source\":{\"id\":\"2052\",\"type\":\"ColumnDataSource\"}},\"id\":\"2134\",\"type\":\"CDSView\"},{\"attributes\":{\"source\":{\"id\":\"2052\",\"type\":\"ColumnDataSource\"}},\"id\":\"2190\",\"type\":\"CDSView\"},{\"attributes\":{\"bottom\":{\"expr\":{\"id\":\"2093\",\"type\":\"Stack\"}},\"fill_color\":{\"value\":\"#d62728\"},\"line_color\":{\"value\":\"#d62728\"},\"top\":{\"expr\":{\"id\":\"2094\",\"type\":\"Stack\"}},\"width\":{\"value\":0.9},\"x\":{\"field\":\"pd_stacked_col\"}},\"id\":\"2145\",\"type\":\"VBar\"},{\"attributes\":{\"fields\":[\"200\"]},\"id\":\"2089\",\"type\":\"Stack\"},{\"attributes\":{\"callback\":null,\"tooltips\":[[\"datetime\",\"@pd_stacked_col{0.00}\"],[\"200\",\"@200{0.00}\"],[\"201\",\"@201{0.00}\"],[\"202\",\"@202{0.00}\"],[\"403\",\"@403{0.00}\"],[\"404\",\"@404{0.00}\"],[\"405\",\"@405{0.00}\"],[\"410\",\"@410{0.00}\"],[\"500\",\"@500{0.00}\"]]},\"id\":\"2214\",\"type\":\"HoverTool\"},{\"attributes\":{},\"id\":\"2076\",\"type\":\"ResetTool\"},{\"attributes\":{\"data_source\":{\"id\":\"2052\",\"type\":\"ColumnDataSource\"},\"glyph\":{\"id\":\"2187\",\"type\":\"VBar\"},\"hover_glyph\":null,\"muted_glyph\":null,\"name\":\"410\",\"nonselection_glyph\":{\"id\":\"2188\",\"type\":\"VBar\"},\"selection_glyph\":null,\"view\":{\"id\":\"2190\",\"type\":\"CDSView\"}},\"id\":\"2189\",\"type\":\"GlyphRenderer\"},{\"attributes\":{\"callback\":null,\"factors\":[\"2019-08-17 00:00:00\",\"2019-08-17 01:00:00\",\"2019-08-17 02:00:00\",\"2019-08-17 03:00:00\",\"2019-08-17 04:00:00\",\"2019-08-17 05:00:00\",\"2019-08-17 06:00:00\",\"2019-08-17 07:00:00\",\"2019-08-17 08:00:00\",\"2019-08-17 09:00:00\",\"2019-08-17 10:00:00\",\"2019-08-17 11:00:00\",\"2019-08-17 12:00:00\",\"2019-08-17 13:00:00\",\"2019-08-17 14:00:00\",\"2019-08-17 15:00:00\",\"2019-08-17 16:00:00\",\"2019-08-17 17:00:00\",\"2019-08-17 18:00:00\",\"2019-08-17 19:00:00\",\"2019-08-17 20:00:00\",\"2019-08-17 21:00:00\",\"2019-08-17 22:00:00\",\"2019-08-17 23:00:00\"],\"range_padding\":0.1},\"id\":\"2055\",\"type\":\"FactorRange\"},{\"attributes\":{\"source\":{\"id\":\"2052\",\"type\":\"ColumnDataSource\"}},\"id\":\"2204\",\"type\":\"CDSView\"},{\"attributes\":{\"fields\":[\"200\",\"201\",\"202\"]},\"id\":\"2093\",\"type\":\"Stack\"},{\"attributes\":{\"bottom\":{\"expr\":{\"id\":\"2089\",\"type\":\"Stack\"}},\"fill_color\":{\"value\":\"#ff7f0e\"},\"line_color\":{\"value\":\"#ff7f0e\"},\"top\":{\"expr\":{\"id\":\"2090\",\"type\":\"Stack\"}},\"width\":{\"value\":0.9},\"x\":{\"field\":\"pd_stacked_col\"}},\"id\":\"2117\",\"type\":\"VBar\"},{\"attributes\":{\"bottom\":{\"expr\":{\"id\":\"2093\",\"type\":\"Stack\"}},\"fill_alpha\":{\"value\":0.1},\"fill_color\":{\"value\":\"#1f77b4\"},\"line_alpha\":{\"value\":0.1},\"line_color\":{\"value\":\"#1f77b4\"},\"top\":{\"expr\":{\"id\":\"2094\",\"type\":\"Stack\"}},\"width\":{\"value\":0.9},\"x\":{\"field\":\"pd_stacked_col\"}},\"id\":\"2146\",\"type\":\"VBar\"},{\"attributes\":{\"axis_label\":\"datetime\",\"formatter\":{\"id\":\"2111\",\"type\":\"CategoricalTickFormatter\"},\"major_label_orientation\":1,\"minor_tick_line_color\":{\"value\":null},\"plot\":{\"id\":\"2053\",\"subtype\":\"Figure\",\"type\":\"Plot\"},\"ticker\":{\"id\":\"2064\",\"type\":\"CategoricalTicker\"}},\"id\":\"2063\",\"type\":\"CategoricalAxis\"},{\"attributes\":{\"callback\":null,\"start\":0},\"id\":\"2057\",\"type\":\"DataRange1d\"},{\"attributes\":{\"grid_line_color\":{\"value\":null},\"plot\":{\"id\":\"2053\",\"subtype\":\"Figure\",\"type\":\"Plot\"},\"ticker\":{\"id\":\"2064\",\"type\":\"CategoricalTicker\"}},\"id\":\"2066\",\"type\":\"Grid\"},{\"attributes\":{},\"id\":\"2109\",\"type\":\"BasicTickFormatter\"},{\"attributes\":{\"bottom\":{\"expr\":{\"id\":\"2099\",\"type\":\"Stack\"}},\"fill_alpha\":{\"value\":0.1},\"fill_color\":{\"value\":\"#1f77b4\"},\"line_alpha\":{\"value\":0.1},\"line_color\":{\"value\":\"#1f77b4\"},\"top\":{\"expr\":{\"id\":\"2100\",\"type\":\"Stack\"}},\"width\":{\"value\":0.9},\"x\":{\"field\":\"pd_stacked_col\"}},\"id\":\"2188\",\"type\":\"VBar\"},{\"attributes\":{\"callback\":null,\"data\":{\"200\":[0.0,452.0,465.0,452.0,451.0,446.0,455.0,468.0,414.0,349.0,0.0,344.0,357.0,326.0,549.0,363.0,313.0,306.0,0.0,324.0,341.0,373.0,980.0,457.0],\"201\":[68.0,71.0,70.0,71.0,0.0,68.0,70.0,0.0,65.0,0.0,57.0,50.0,58.0,0.0,59.0,51.0,49.0,0.0,48.0,47.0,51.0,55.0,0.0,71.0],\"202\":[1.0,1.0,1.0,1.0,1.0,1.0,1.0,1.0,1.0,1.0,1.0,1.0,1.0,1.0,2.0,0.0,1.0,1.0,1.0,1.0,1.0,1.0,0.0,1.0],\"403\":[0.0,0.0,0.0,0.0,0.0,0.0,0.0,0.0,0.0,0.0,0.0,0.0,0.0,0.0,0.0,0.0,0.0,0.0,0.0,0.0,0.0,0.0,116.0,0.0],\"404\":[6.0,0.0,1.0,0.0,0.0,0.0,9.0,4.0,7.0,0.0,0.0,90.0,0.0,0.0,0.0,1.0,0.0,0.0,4.0,0.0,2.0,2.0,383.0,6.0],\"405\":[0.0,0.0,0.0,0.0,0.0,0.0,0.0,0.0,0.0,0.0,0.0,0.0,0.0,0.0,0.0,0.0,0.0,0.0,0.0,0.0,0.0,0.0,5.0,0.0],\"410\":[0.0,0.0,0.0,0.0,0.0,0.0,0.0,0.0,4.0,5.0,2.0,3.0,0.0,4.0,0.0,6.0,5.0,3.0,7.0,3.0,8.0,5.0,0.0,0.0],\"500\":[0.0,0.0,0.0,0.0,0.0,0.0,0.0,6.0,93.0,0.0,221.0,200.0,218.0,0.0,316.0,322.0,295.0,312.0,299.0,296.0,329.0,0.0,118.0,0.0],\"pd_stacked_col\":[\"2019-08-17 00:00:00\",\"2019-08-17 01:00:00\",\"2019-08-17 02:00:00\",\"2019-08-17 03:00:00\",\"2019-08-17 04:00:00\",\"2019-08-17 05:00:00\",\"2019-08-17 06:00:00\",\"2019-08-17 07:00:00\",\"2019-08-17 08:00:00\",\"2019-08-17 09:00:00\",\"2019-08-17 10:00:00\",\"2019-08-17 11:00:00\",\"2019-08-17 12:00:00\",\"2019-08-17 13:00:00\",\"2019-08-17 14:00:00\",\"2019-08-17 15:00:00\",\"2019-08-17 16:00:00\",\"2019-08-17 17:00:00\",\"2019-08-17 18:00:00\",\"2019-08-17 19:00:00\",\"2019-08-17 20:00:00\",\"2019-08-17 21:00:00\",\"2019-08-17 22:00:00\",\"2019-08-17 23:00:00\"]},\"selected\":{\"id\":\"2127\",\"type\":\"Selection\"},\"selection_policy\":{\"id\":\"2126\",\"type\":\"UnionRenderers\"}},\"id\":\"2052\",\"type\":\"ColumnDataSource\"},{\"attributes\":{\"label\":{\"value\":\"201\"},\"renderers\":[{\"id\":\"2119\",\"type\":\"GlyphRenderer\"}]},\"id\":\"2129\",\"type\":\"LegendItem\"},{\"attributes\":{},\"id\":\"2111\",\"type\":\"CategoricalTickFormatter\"},{\"attributes\":{\"bottom\":{\"expr\":{\"id\":\"2099\",\"type\":\"Stack\"}},\"fill_color\":{\"value\":\"#e377c2\"},\"line_color\":{\"value\":\"#e377c2\"},\"top\":{\"expr\":{\"id\":\"2100\",\"type\":\"Stack\"}},\"width\":{\"value\":0.9},\"x\":{\"field\":\"pd_stacked_col\"}},\"id\":\"2187\",\"type\":\"VBar\"},{\"attributes\":{\"data_source\":{\"id\":\"2052\",\"type\":\"ColumnDataSource\"},\"glyph\":{\"id\":\"2201\",\"type\":\"VBar\"},\"hover_glyph\":null,\"muted_glyph\":null,\"name\":\"500\",\"nonselection_glyph\":{\"id\":\"2202\",\"type\":\"VBar\"},\"selection_glyph\":null,\"view\":{\"id\":\"2204\",\"type\":\"CDSView\"}},\"id\":\"2203\",\"type\":\"GlyphRenderer\"},{\"attributes\":{\"bottom\":{\"expr\":{\"id\":\"2087\",\"type\":\"Stack\"}},\"fill_color\":{\"value\":\"#1f77b4\"},\"line_color\":{\"value\":\"#1f77b4\"},\"top\":{\"expr\":{\"id\":\"2088\",\"type\":\"Stack\"}},\"width\":{\"value\":0.9},\"x\":{\"field\":\"pd_stacked_col\"}},\"id\":\"2104\",\"type\":\"VBar\"},{\"attributes\":{\"data_source\":{\"id\":\"2052\",\"type\":\"ColumnDataSource\"},\"glyph\":{\"id\":\"2104\",\"type\":\"VBar\"},\"hover_glyph\":null,\"muted_glyph\":null,\"name\":\"200\",\"nonselection_glyph\":{\"id\":\"2105\",\"type\":\"VBar\"},\"selection_glyph\":null,\"view\":{\"id\":\"2107\",\"type\":\"CDSView\"}},\"id\":\"2106\",\"type\":\"GlyphRenderer\"},{\"attributes\":{},\"id\":\"2059\",\"type\":\"CategoricalScale\"},{\"attributes\":{\"source\":{\"id\":\"2052\",\"type\":\"ColumnDataSource\"}},\"id\":\"2148\",\"type\":\"CDSView\"},{\"attributes\":{\"fields\":[\"200\",\"201\",\"202\",\"403\",\"404\",\"405\",\"410\",\"500\"]},\"id\":\"2102\",\"type\":\"Stack\"},{\"attributes\":{},\"id\":\"2061\",\"type\":\"LinearScale\"},{\"attributes\":{\"source\":{\"id\":\"2052\",\"type\":\"ColumnDataSource\"}},\"id\":\"2107\",\"type\":\"CDSView\"},{\"attributes\":{\"label\":{\"value\":\"403\"},\"renderers\":[{\"id\":\"2147\",\"type\":\"GlyphRenderer\"}]},\"id\":\"2157\",\"type\":\"LegendItem\"},{\"attributes\":{\"source\":{\"id\":\"2052\",\"type\":\"ColumnDataSource\"}},\"id\":\"2176\",\"type\":\"CDSView\"},{\"attributes\":{\"bottom\":{\"expr\":{\"id\":\"2101\",\"type\":\"Stack\"}},\"fill_color\":{\"value\":\"#7f7f7f\"},\"line_color\":{\"value\":\"#7f7f7f\"},\"top\":{\"expr\":{\"id\":\"2102\",\"type\":\"Stack\"}},\"width\":{\"value\":0.9},\"x\":{\"field\":\"pd_stacked_col\"}},\"id\":\"2201\",\"type\":\"VBar\"},{\"attributes\":{\"data_source\":{\"id\":\"2052\",\"type\":\"ColumnDataSource\"},\"glyph\":{\"id\":\"2131\",\"type\":\"VBar\"},\"hover_glyph\":null,\"muted_glyph\":null,\"name\":\"202\",\"nonselection_glyph\":{\"id\":\"2132\",\"type\":\"VBar\"},\"selection_glyph\":null,\"view\":{\"id\":\"2134\",\"type\":\"CDSView\"}},\"id\":\"2133\",\"type\":\"GlyphRenderer\"},{\"attributes\":{\"bottom\":{\"expr\":{\"id\":\"2087\",\"type\":\"Stack\"}},\"fill_alpha\":{\"value\":0.1},\"fill_color\":{\"value\":\"#1f77b4\"},\"line_alpha\":{\"value\":0.1},\"line_color\":{\"value\":\"#1f77b4\"},\"top\":{\"expr\":{\"id\":\"2088\",\"type\":\"Stack\"}},\"width\":{\"value\":0.9},\"x\":{\"field\":\"pd_stacked_col\"}},\"id\":\"2105\",\"type\":\"VBar\"},{\"attributes\":{\"fields\":[\"200\",\"201\",\"202\",\"403\",\"404\",\"405\",\"410\"]},\"id\":\"2101\",\"type\":\"Stack\"},{\"attributes\":{\"fields\":[\"200\",\"201\",\"202\",\"403\",\"404\",\"405\"]},\"id\":\"2098\",\"type\":\"Stack\"},{\"attributes\":{\"data_source\":{\"id\":\"2052\",\"type\":\"ColumnDataSource\"},\"glyph\":{\"id\":\"2145\",\"type\":\"VBar\"},\"hover_glyph\":null,\"muted_glyph\":null,\"name\":\"403\",\"nonselection_glyph\":{\"id\":\"2146\",\"type\":\"VBar\"},\"selection_glyph\":null,\"view\":{\"id\":\"2148\",\"type\":\"CDSView\"}},\"id\":\"2147\",\"type\":\"GlyphRenderer\"},{\"attributes\":{\"bottom\":{\"expr\":{\"id\":\"2091\",\"type\":\"Stack\"}},\"fill_color\":{\"value\":\"#2ca02c\"},\"line_color\":{\"value\":\"#2ca02c\"},\"top\":{\"expr\":{\"id\":\"2092\",\"type\":\"Stack\"}},\"width\":{\"value\":0.9},\"x\":{\"field\":\"pd_stacked_col\"}},\"id\":\"2131\",\"type\":\"VBar\"},{\"attributes\":{\"fields\":[\"200\",\"201\",\"202\",\"403\",\"404\"]},\"id\":\"2097\",\"type\":\"Stack\"},{\"attributes\":{\"data_source\":{\"id\":\"2052\",\"type\":\"ColumnDataSource\"},\"glyph\":{\"id\":\"2117\",\"type\":\"VBar\"},\"hover_glyph\":null,\"muted_glyph\":null,\"name\":\"201\",\"nonselection_glyph\":{\"id\":\"2118\",\"type\":\"VBar\"},\"selection_glyph\":null,\"view\":{\"id\":\"2120\",\"type\":\"CDSView\"}},\"id\":\"2119\",\"type\":\"GlyphRenderer\"},{\"attributes\":{\"fields\":[\"200\",\"201\",\"202\",\"403\",\"404\",\"405\",\"410\"]},\"id\":\"2100\",\"type\":\"Stack\"},{\"attributes\":{\"fields\":[\"200\",\"201\",\"202\",\"403\",\"404\",\"405\"]},\"id\":\"2099\",\"type\":\"Stack\"},{\"attributes\":{\"data_source\":{\"id\":\"2052\",\"type\":\"ColumnDataSource\"},\"glyph\":{\"id\":\"2173\",\"type\":\"VBar\"},\"hover_glyph\":null,\"muted_glyph\":null,\"name\":\"405\",\"nonselection_glyph\":{\"id\":\"2174\",\"type\":\"VBar\"},\"selection_glyph\":null,\"view\":{\"id\":\"2176\",\"type\":\"CDSView\"}},\"id\":\"2175\",\"type\":\"GlyphRenderer\"},{\"attributes\":{\"fields\":[\"200\",\"201\",\"202\",\"403\",\"404\"]},\"id\":\"2096\",\"type\":\"Stack\"},{\"attributes\":{\"fields\":[\"200\",\"201\",\"202\",\"403\"]},\"id\":\"2095\",\"type\":\"Stack\"},{\"attributes\":{\"label\":{\"value\":\"405\"},\"renderers\":[{\"id\":\"2175\",\"type\":\"GlyphRenderer\"}]},\"id\":\"2185\",\"type\":\"LegendItem\"},{\"attributes\":{\"label\":{\"value\":\"500\"},\"renderers\":[{\"id\":\"2203\",\"type\":\"GlyphRenderer\"}]},\"id\":\"2213\",\"type\":\"LegendItem\"},{\"attributes\":{\"bottom\":{\"expr\":{\"id\":\"2095\",\"type\":\"Stack\"}},\"fill_color\":{\"value\":\"#9467bd\"},\"line_color\":{\"value\":\"#9467bd\"},\"top\":{\"expr\":{\"id\":\"2096\",\"type\":\"Stack\"}},\"width\":{\"value\":0.9},\"x\":{\"field\":\"pd_stacked_col\"}},\"id\":\"2159\",\"type\":\"VBar\"},{\"attributes\":{\"fields\":[\"200\",\"201\",\"202\",\"403\"]},\"id\":\"2094\",\"type\":\"Stack\"},{\"attributes\":{},\"id\":\"2073\",\"type\":\"WheelZoomTool\"},{\"attributes\":{\"bottom\":{\"expr\":{\"id\":\"2097\",\"type\":\"Stack\"}},\"fill_alpha\":{\"value\":0.1},\"fill_color\":{\"value\":\"#1f77b4\"},\"line_alpha\":{\"value\":0.1},\"line_color\":{\"value\":\"#1f77b4\"},\"top\":{\"expr\":{\"id\":\"2098\",\"type\":\"Stack\"}},\"width\":{\"value\":0.9},\"x\":{\"field\":\"pd_stacked_col\"}},\"id\":\"2174\",\"type\":\"VBar\"},{\"attributes\":{\"bottom\":{\"expr\":{\"id\":\"2091\",\"type\":\"Stack\"}},\"fill_alpha\":{\"value\":0.1},\"fill_color\":{\"value\":\"#1f77b4\"},\"line_alpha\":{\"value\":0.1},\"line_color\":{\"value\":\"#1f77b4\"},\"top\":{\"expr\":{\"id\":\"2092\",\"type\":\"Stack\"}},\"width\":{\"value\":0.9},\"x\":{\"field\":\"pd_stacked_col\"}},\"id\":\"2132\",\"type\":\"VBar\"},{\"attributes\":{\"below\":[{\"id\":\"2063\",\"type\":\"CategoricalAxis\"}],\"left\":[{\"id\":\"2067\",\"type\":\"LinearAxis\"}],\"outline_line_color\":{\"value\":null},\"plot_height\":495,\"plot_width\":1160,\"renderers\":[{\"id\":\"2063\",\"type\":\"CategoricalAxis\"},{\"id\":\"2066\",\"type\":\"Grid\"},{\"id\":\"2067\",\"type\":\"LinearAxis\"},{\"id\":\"2071\",\"type\":\"Grid\"},{\"id\":\"2080\",\"type\":\"BoxAnnotation\"},{\"id\":\"2114\",\"type\":\"Legend\"},{\"id\":\"2106\",\"type\":\"GlyphRenderer\"},{\"id\":\"2119\",\"type\":\"GlyphRenderer\"},{\"id\":\"2133\",\"type\":\"GlyphRenderer\"},{\"id\":\"2147\",\"type\":\"GlyphRenderer\"},{\"id\":\"2161\",\"type\":\"GlyphRenderer\"},{\"id\":\"2175\",\"type\":\"GlyphRenderer\"},{\"id\":\"2189\",\"type\":\"GlyphRenderer\"},{\"id\":\"2203\",\"type\":\"GlyphRenderer\"}],\"title\":null,\"toolbar\":{\"id\":\"2078\",\"type\":\"Toolbar\"},\"toolbar_location\":null,\"x_range\":{\"id\":\"2055\",\"type\":\"FactorRange\"},\"x_scale\":{\"id\":\"2059\",\"type\":\"CategoricalScale\"},\"y_range\":{\"id\":\"2057\",\"type\":\"DataRange1d\"},\"y_scale\":{\"id\":\"2061\",\"type\":\"LinearScale\"}},\"id\":\"2053\",\"subtype\":\"Figure\",\"type\":\"Plot\"}],\"root_ids\":[\"2229\"]},\"title\":\"Bokeh Application\",\"version\":\"1.0.4\"}}';\n",
       "          var render_items = [{\"docid\":\"84553c86-1b18-4f7e-9691-eb6b6d34e626\",\"roots\":{\"2229\":\"e75ee70a-a370-4527-a359-61e07a909b9c\"}}];\n",
       "          root.Bokeh.embed.embed_items(docs_json, render_items);\n",
       "        \n",
       "          }\n",
       "          if (root.Bokeh !== undefined) {\n",
       "            embed_document(root);\n",
       "          } else {\n",
       "            var attempts = 0;\n",
       "            var timer = setInterval(function(root) {\n",
       "              if (root.Bokeh !== undefined) {\n",
       "                embed_document(root);\n",
       "                clearInterval(timer);\n",
       "              }\n",
       "              attempts++;\n",
       "              if (attempts > 100) {\n",
       "                console.log(\"Bokeh: ERROR: Unable to run BokehJS code because BokehJS library is missing\");\n",
       "                clearInterval(timer);\n",
       "              }\n",
       "            }, 10, root)\n",
       "          }\n",
       "        })(window);\n",
       "      });\n",
       "    };\n",
       "    if (document.readyState != \"loading\") fn();\n",
       "    else document.addEventListener(\"DOMContentLoaded\", fn);\n",
       "  })();\n",
       "</script><div style=\"padding:5px\" id=\"pd-bkchartdiv-66da8fcb\">\n",
       "<div class=\"bk-root\" id=\"e75ee70a-a370-4527-a359-61e07a909b9c\" data-root-id=\"2229\"></div></div>\n",
       "                    \n",
       "                \n",
       "        </div>"
      ],
      "text/plain": [
       "<IPython.core.display.HTML object>"
      ]
     },
     "metadata": {},
     "output_type": "display_data"
    }
   ],
   "source": [
    "display(resultRange)"
   ]
  },
  {
   "cell_type": "markdown",
   "metadata": {},
   "source": [
    "So we started to see many 500s at 10am and kept getting them until 9pm. Now we also want to know which request types encountered these 500 errors. "
   ]
  },
  {
   "cell_type": "code",
   "execution_count": null,
   "metadata": {
    "pixiedust": {
     "displayParams": {
      "aggregation": "SUM",
      "chartsize": "68",
      "charttype": "grouped",
      "clusterby": "request_uri",
      "filter": "{\"field\": \"status\", \"constraint\": \"None\", \"value\": \"500\", \"case_matter\": \"false\", \"regex\": \"false\"}",
      "handlerId": "barChart",
      "keyFields": "status",
      "legend": "true",
      "mpld3": "false",
      "no_margin": "true",
      "rendererId": "bokeh",
      "title": "Number of server errors by request URI",
      "valueFields": "status_count"
     }
    },
    "scrolled": true
   },
   "outputs": [
    {
     "data": {
      "text/html": [
       "<style type=\"text/css\">.pd_warning{display:none;}</style><div class=\"pd_warning\"><em>Hey, there's something awesome here! To see it, open this notebook outside GitHub, in a viewer like Jupyter</em></div>"
      ],
      "text/plain": [
       "<IPython.core.display.HTML object>"
      ]
     },
     "metadata": {
      "pixieapp_metadata": null
     },
     "output_type": "display_data"
    }
   ],
   "source": [
    "display(resultRange)"
   ]
  },
  {
   "cell_type": "markdown",
   "metadata": {},
   "source": [
    " So much for that. Now we have a look at the request times."
   ]
  },
  {
   "cell_type": "code",
   "execution_count": null,
   "metadata": {
    "pixiedust": {
     "displayParams": {
      "aggregation": "AVG",
      "chartsize": "61",
      "charttype": "grouped",
      "clusterby": "node",
      "handlerId": "barChart",
      "keyFields": "datetime",
      "title": "Average request times by worker node",
      "valueFields": "request_time"
     }
    }
   },
   "outputs": [
    {
     "data": {
      "text/html": [
       "<style type=\"text/css\">.pd_warning{display:none;}</style><div class=\"pd_warning\"><em>Hey, there's something awesome here! To see it, open this notebook outside GitHub, in a viewer like Jupyter</em></div>\n",
       "        <div class=\"pd_save is-viewer-good\" style=\"padding-right:10px;text-align: center;line-height:initial !important;font-size: xx-large;font-weight: 500;color: coral;\">\n",
       "            Average request times by worker node\n",
       "        </div>\n",
       "    <div id=\"chartFigurecda92166\" class=\"pd_save is-viewer-good\" style=\"overflow-x:auto\">\n",
       "            \n",
       "                    <script class=\"pd_save\">\n",
       "                    function setChartScript() {\n",
       "                        if (!window.Bokeh) {\n",
       "                            setTimeout(setChartScript, 250)\n",
       "                        } else {\n",
       "                            var d = document.getElementById(\"pd-bkchartdiv-cda92166\")\n",
       "                            if (d){\n",
       "                                var el = document.createElement('div')\n",
       "                                el.innerHTML = `\n",
       "<script type=\"text/javascript\">\n",
       "  (function() {\n",
       "    var fn = function() {\n",
       "      Bokeh.safely(function() {\n",
       "        (function(root) {\n",
       "          function embed_document(root) {\n",
       "            \n",
       "          var docs_json = '{\"7ecf8f63-090f-4d9a-aead-ab38b9409a48\":{\"roots\":{\"references\":[{\"attributes\":{\"overlay\":{\"id\":\"2405\",\"type\":\"BoxAnnotation\"}},\"id\":\"2399\",\"type\":\"BoxZoomTool\"},{\"attributes\":{\"callback\":null,\"start\":0},\"id\":\"2382\",\"type\":\"DataRange1d\"},{\"attributes\":{\"grid_line_color\":{\"value\":null},\"plot\":{\"id\":\"2379\",\"subtype\":\"Figure\",\"type\":\"Plot\"},\"ticker\":{\"id\":\"2389\",\"type\":\"CategoricalTicker\"}},\"id\":\"2391\",\"type\":\"Grid\"},{\"attributes\":{},\"id\":\"2401\",\"type\":\"ResetTool\"},{\"attributes\":{\"source\":{\"id\":\"2377\",\"type\":\"ColumnDataSource\"}},\"id\":\"2417\",\"type\":\"CDSView\"},{\"attributes\":{},\"id\":\"2433\",\"type\":\"UnionRenderers\"},{\"attributes\":{\"data_source\":{\"id\":\"2377\",\"type\":\"ColumnDataSource\"},\"glyph\":{\"id\":\"2414\",\"type\":\"VBar\"},\"hover_glyph\":null,\"muted_glyph\":null,\"nonselection_glyph\":{\"id\":\"2415\",\"type\":\"VBar\"},\"selection_glyph\":null,\"view\":{\"id\":\"2417\",\"type\":\"CDSView\"}},\"id\":\"2416\",\"type\":\"GlyphRenderer\"},{\"attributes\":{},\"id\":\"2419\",\"type\":\"BasicTickFormatter\"},{\"attributes\":{\"end\":2,\"factors\":[\"kube-dal13-cr5ff87ab416044e60b8f8b19c1da44ccc-w1\",\"kube-dal13-cr5ff87ab416044e60b8f8b19c1da44ccc-w2\",\"kube-dal13-cr5ff87ab416044e60b8f8b19c1da44ccc-w3\",\"kube-dal13-cr5ff87ab416044e60b8f8b19c1da44ccc-w4\"],\"palette\":[\"#1f77b4\",\"#ff7f0e\",\"#2ca02c\",\"#d62728\"],\"start\":1},\"id\":\"2412\",\"type\":\"CategoricalColorMapper\"},{\"attributes\":{\"axis_label\":\"request_time\",\"formatter\":{\"id\":\"2419\",\"type\":\"BasicTickFormatter\"},\"minor_tick_line_color\":{\"value\":null},\"plot\":{\"id\":\"2379\",\"subtype\":\"Figure\",\"type\":\"Plot\"},\"ticker\":{\"id\":\"2393\",\"type\":\"BasicTicker\"}},\"id\":\"2392\",\"type\":\"LinearAxis\"},{\"attributes\":{\"children\":[{\"id\":\"2379\",\"subtype\":\"Figure\",\"type\":\"Plot\"}]},\"id\":\"2437\",\"type\":\"Row\"},{\"attributes\":{},\"id\":\"2421\",\"type\":\"CategoricalTickFormatter\"},{\"attributes\":{\"items\":[{\"id\":\"2425\",\"type\":\"LegendItem\"}],\"location\":\"top_left\",\"plot\":{\"id\":\"2379\",\"subtype\":\"Figure\",\"type\":\"Plot\"}},\"id\":\"2424\",\"type\":\"Legend\"},{\"attributes\":{\"dimension\":1,\"plot\":{\"id\":\"2379\",\"subtype\":\"Figure\",\"type\":\"Plot\"},\"ticker\":{\"id\":\"2393\",\"type\":\"BasicTicker\"}},\"id\":\"2396\",\"type\":\"Grid\"},{\"attributes\":{\"tools\":[{\"id\":\"2397\",\"type\":\"PanTool\"},{\"id\":\"2398\",\"type\":\"WheelZoomTool\"},{\"id\":\"2399\",\"type\":\"BoxZoomTool\"},{\"id\":\"2400\",\"type\":\"SaveTool\"},{\"id\":\"2401\",\"type\":\"ResetTool\"},{\"id\":\"2402\",\"type\":\"HelpTool\"},{\"id\":\"2426\",\"type\":\"HoverTool\"}]},\"id\":\"2439\",\"type\":\"ProxyToolbar\"},{\"attributes\":{\"bottom_units\":\"screen\",\"fill_alpha\":{\"value\":0.5},\"fill_color\":{\"value\":\"lightgrey\"},\"left_units\":\"screen\",\"level\":\"overlay\",\"line_alpha\":{\"value\":1.0},\"line_color\":{\"value\":\"black\"},\"line_dash\":[4,4],\"line_width\":{\"value\":2},\"plot\":null,\"render_mode\":\"css\",\"right_units\":\"screen\",\"top_units\":\"screen\"},\"id\":\"2405\",\"type\":\"BoxAnnotation\"},{\"attributes\":{},\"id\":\"2398\",\"type\":\"WheelZoomTool\"},{\"attributes\":{\"callback\":null,\"data\":{\"counts\":[0.0,0.0,52.80607525693123,593.9156444589084,12.34782727176165,8.834577881952981,153.71147058890534,271.8299284609535,162.70053219524243,168.7089249429293,0.0,0.0,146.12653692878166,89.82754548674993,0.0,0.0,490.4969537729284,760.6269229065808,0.0,0.0,69.22983097638038,9.429920542032143,0.0,0.0,0.08397569627343768,0.0854396648110703,0.0,0.0,0.07735157297664595,0.0772876806071939,0.0,0.0],\"l\":[\"kube-dal13-cr5ff87ab416044e60b8f8b19c1da44ccc-w1\",\"kube-dal13-cr5ff87ab416044e60b8f8b19c1da44ccc-w2\",\"kube-dal13-cr5ff87ab416044e60b8f8b19c1da44ccc-w3\",\"kube-dal13-cr5ff87ab416044e60b8f8b19c1da44ccc-w4\",\"kube-dal13-cr5ff87ab416044e60b8f8b19c1da44ccc-w1\",\"kube-dal13-cr5ff87ab416044e60b8f8b19c1da44ccc-w2\",\"kube-dal13-cr5ff87ab416044e60b8f8b19c1da44ccc-w3\",\"kube-dal13-cr5ff87ab416044e60b8f8b19c1da44ccc-w4\",\"kube-dal13-cr5ff87ab416044e60b8f8b19c1da44ccc-w1\",\"kube-dal13-cr5ff87ab416044e60b8f8b19c1da44ccc-w2\",\"kube-dal13-cr5ff87ab416044e60b8f8b19c1da44ccc-w3\",\"kube-dal13-cr5ff87ab416044e60b8f8b19c1da44ccc-w4\",\"kube-dal13-cr5ff87ab416044e60b8f8b19c1da44ccc-w1\",\"kube-dal13-cr5ff87ab416044e60b8f8b19c1da44ccc-w2\",\"kube-dal13-cr5ff87ab416044e60b8f8b19c1da44ccc-w3\",\"kube-dal13-cr5ff87ab416044e60b8f8b19c1da44ccc-w4\",\"kube-dal13-cr5ff87ab416044e60b8f8b19c1da44ccc-w1\",\"kube-dal13-cr5ff87ab416044e60b8f8b19c1da44ccc-w2\",\"kube-dal13-cr5ff87ab416044e60b8f8b19c1da44ccc-w3\",\"kube-dal13-cr5ff87ab416044e60b8f8b19c1da44ccc-w4\",\"kube-dal13-cr5ff87ab416044e60b8f8b19c1da44ccc-w1\",\"kube-dal13-cr5ff87ab416044e60b8f8b19c1da44ccc-w2\",\"kube-dal13-cr5ff87ab416044e60b8f8b19c1da44ccc-w3\",\"kube-dal13-cr5ff87ab416044e60b8f8b19c1da44ccc-w4\",\"kube-dal13-cr5ff87ab416044e60b8f8b19c1da44ccc-w1\",\"kube-dal13-cr5ff87ab416044e60b8f8b19c1da44ccc-w2\",\"kube-dal13-cr5ff87ab416044e60b8f8b19c1da44ccc-w3\",\"kube-dal13-cr5ff87ab416044e60b8f8b19c1da44ccc-w4\",\"kube-dal13-cr5ff87ab416044e60b8f8b19c1da44ccc-w1\",\"kube-dal13-cr5ff87ab416044e60b8f8b19c1da44ccc-w2\",\"kube-dal13-cr5ff87ab416044e60b8f8b19c1da44ccc-w3\",\"kube-dal13-cr5ff87ab416044e60b8f8b19c1da44ccc-w4\"],\"x\":[[\"2019-08-11\",\"kube-dal13-cr5ff87ab416044e60b8f8b19c1da44ccc-w1\"],[\"2019-08-11\",\"kube-dal13-cr5ff87ab416044e60b8f8b19c1da44ccc-w2\"],[\"2019-08-11\",\"kube-dal13-cr5ff87ab416044e60b8f8b19c1da44ccc-w3\"],[\"2019-08-11\",\"kube-dal13-cr5ff87ab416044e60b8f8b19c1da44ccc-w4\"],[\"2019-08-12\",\"kube-dal13-cr5ff87ab416044e60b8f8b19c1da44ccc-w1\"],[\"2019-08-12\",\"kube-dal13-cr5ff87ab416044e60b8f8b19c1da44ccc-w2\"],[\"2019-08-12\",\"kube-dal13-cr5ff87ab416044e60b8f8b19c1da44ccc-w3\"],[\"2019-08-12\",\"kube-dal13-cr5ff87ab416044e60b8f8b19c1da44ccc-w4\"],[\"2019-08-13\",\"kube-dal13-cr5ff87ab416044e60b8f8b19c1da44ccc-w1\"],[\"2019-08-13\",\"kube-dal13-cr5ff87ab416044e60b8f8b19c1da44ccc-w2\"],[\"2019-08-13\",\"kube-dal13-cr5ff87ab416044e60b8f8b19c1da44ccc-w3\"],[\"2019-08-13\",\"kube-dal13-cr5ff87ab416044e60b8f8b19c1da44ccc-w4\"],[\"2019-08-14\",\"kube-dal13-cr5ff87ab416044e60b8f8b19c1da44ccc-w1\"],[\"2019-08-14\",\"kube-dal13-cr5ff87ab416044e60b8f8b19c1da44ccc-w2\"],[\"2019-08-14\",\"kube-dal13-cr5ff87ab416044e60b8f8b19c1da44ccc-w3\"],[\"2019-08-14\",\"kube-dal13-cr5ff87ab416044e60b8f8b19c1da44ccc-w4\"],[\"2019-08-15\",\"kube-dal13-cr5ff87ab416044e60b8f8b19c1da44ccc-w1\"],[\"2019-08-15\",\"kube-dal13-cr5ff87ab416044e60b8f8b19c1da44ccc-w2\"],[\"2019-08-15\",\"kube-dal13-cr5ff87ab416044e60b8f8b19c1da44ccc-w3\"],[\"2019-08-15\",\"kube-dal13-cr5ff87ab416044e60b8f8b19c1da44ccc-w4\"],[\"2019-08-16\",\"kube-dal13-cr5ff87ab416044e60b8f8b19c1da44ccc-w1\"],[\"2019-08-16\",\"kube-dal13-cr5ff87ab416044e60b8f8b19c1da44ccc-w2\"],[\"2019-08-16\",\"kube-dal13-cr5ff87ab416044e60b8f8b19c1da44ccc-w3\"],[\"2019-08-16\",\"kube-dal13-cr5ff87ab416044e60b8f8b19c1da44ccc-w4\"],[\"2019-08-17\",\"kube-dal13-cr5ff87ab416044e60b8f8b19c1da44ccc-w1\"],[\"2019-08-17\",\"kube-dal13-cr5ff87ab416044e60b8f8b19c1da44ccc-w2\"],[\"2019-08-17\",\"kube-dal13-cr5ff87ab416044e60b8f8b19c1da44ccc-w3\"],[\"2019-08-17\",\"kube-dal13-cr5ff87ab416044e60b8f8b19c1da44ccc-w4\"],[\"2019-08-18\",\"kube-dal13-cr5ff87ab416044e60b8f8b19c1da44ccc-w1\"],[\"2019-08-18\",\"kube-dal13-cr5ff87ab416044e60b8f8b19c1da44ccc-w2\"],[\"2019-08-18\",\"kube-dal13-cr5ff87ab416044e60b8f8b19c1da44ccc-w3\"],[\"2019-08-18\",\"kube-dal13-cr5ff87ab416044e60b8f8b19c1da44ccc-w4\"]]},\"selected\":{\"id\":\"2434\",\"type\":\"Selection\"},\"selection_policy\":{\"id\":\"2433\",\"type\":\"UnionRenderers\"}},\"id\":\"2377\",\"type\":\"ColumnDataSource\"},{\"attributes\":{\"callback\":null,\"factors\":[[\"2019-08-11\",\"kube-dal13-cr5ff87ab416044e60b8f8b19c1da44ccc-w1\"],[\"2019-08-11\",\"kube-dal13-cr5ff87ab416044e60b8f8b19c1da44ccc-w2\"],[\"2019-08-11\",\"kube-dal13-cr5ff87ab416044e60b8f8b19c1da44ccc-w3\"],[\"2019-08-11\",\"kube-dal13-cr5ff87ab416044e60b8f8b19c1da44ccc-w4\"],[\"2019-08-12\",\"kube-dal13-cr5ff87ab416044e60b8f8b19c1da44ccc-w1\"],[\"2019-08-12\",\"kube-dal13-cr5ff87ab416044e60b8f8b19c1da44ccc-w2\"],[\"2019-08-12\",\"kube-dal13-cr5ff87ab416044e60b8f8b19c1da44ccc-w3\"],[\"2019-08-12\",\"kube-dal13-cr5ff87ab416044e60b8f8b19c1da44ccc-w4\"],[\"2019-08-13\",\"kube-dal13-cr5ff87ab416044e60b8f8b19c1da44ccc-w1\"],[\"2019-08-13\",\"kube-dal13-cr5ff87ab416044e60b8f8b19c1da44ccc-w2\"],[\"2019-08-13\",\"kube-dal13-cr5ff87ab416044e60b8f8b19c1da44ccc-w3\"],[\"2019-08-13\",\"kube-dal13-cr5ff87ab416044e60b8f8b19c1da44ccc-w4\"],[\"2019-08-14\",\"kube-dal13-cr5ff87ab416044e60b8f8b19c1da44ccc-w1\"],[\"2019-08-14\",\"kube-dal13-cr5ff87ab416044e60b8f8b19c1da44ccc-w2\"],[\"2019-08-14\",\"kube-dal13-cr5ff87ab416044e60b8f8b19c1da44ccc-w3\"],[\"2019-08-14\",\"kube-dal13-cr5ff87ab416044e60b8f8b19c1da44ccc-w4\"],[\"2019-08-15\",\"kube-dal13-cr5ff87ab416044e60b8f8b19c1da44ccc-w1\"],[\"2019-08-15\",\"kube-dal13-cr5ff87ab416044e60b8f8b19c1da44ccc-w2\"],[\"2019-08-15\",\"kube-dal13-cr5ff87ab416044e60b8f8b19c1da44ccc-w3\"],[\"2019-08-15\",\"kube-dal13-cr5ff87ab416044e60b8f8b19c1da44ccc-w4\"],[\"2019-08-16\",\"kube-dal13-cr5ff87ab416044e60b8f8b19c1da44ccc-w1\"],[\"2019-08-16\",\"kube-dal13-cr5ff87ab416044e60b8f8b19c1da44ccc-w2\"],[\"2019-08-16\",\"kube-dal13-cr5ff87ab416044e60b8f8b19c1da44ccc-w3\"],[\"2019-08-16\",\"kube-dal13-cr5ff87ab416044e60b8f8b19c1da44ccc-w4\"],[\"2019-08-17\",\"kube-dal13-cr5ff87ab416044e60b8f8b19c1da44ccc-w1\"],[\"2019-08-17\",\"kube-dal13-cr5ff87ab416044e60b8f8b19c1da44ccc-w2\"],[\"2019-08-17\",\"kube-dal13-cr5ff87ab416044e60b8f8b19c1da44ccc-w3\"],[\"2019-08-17\",\"kube-dal13-cr5ff87ab416044e60b8f8b19c1da44ccc-w4\"],[\"2019-08-18\",\"kube-dal13-cr5ff87ab416044e60b8f8b19c1da44ccc-w1\"],[\"2019-08-18\",\"kube-dal13-cr5ff87ab416044e60b8f8b19c1da44ccc-w2\"],[\"2019-08-18\",\"kube-dal13-cr5ff87ab416044e60b8f8b19c1da44ccc-w3\"],[\"2019-08-18\",\"kube-dal13-cr5ff87ab416044e60b8f8b19c1da44ccc-w4\"]],\"range_padding\":0.1},\"id\":\"2378\",\"type\":\"FactorRange\"},{\"attributes\":{\"active_drag\":\"auto\",\"active_inspect\":\"auto\",\"active_multi\":null,\"active_scroll\":\"auto\",\"active_tap\":\"auto\",\"tools\":[{\"id\":\"2397\",\"type\":\"PanTool\"},{\"id\":\"2398\",\"type\":\"WheelZoomTool\"},{\"id\":\"2399\",\"type\":\"BoxZoomTool\"},{\"id\":\"2400\",\"type\":\"SaveTool\"},{\"id\":\"2401\",\"type\":\"ResetTool\"},{\"id\":\"2402\",\"type\":\"HelpTool\"},{\"id\":\"2426\",\"type\":\"HoverTool\"}]},\"id\":\"2403\",\"type\":\"Toolbar\"},{\"attributes\":{\"fill_color\":{\"field\":\"x\",\"transform\":{\"id\":\"2412\",\"type\":\"CategoricalColorMapper\"}},\"line_color\":{\"field\":\"x\",\"transform\":{\"id\":\"2412\",\"type\":\"CategoricalColorMapper\"}},\"top\":{\"field\":\"counts\"},\"width\":{\"value\":0.925},\"x\":{\"field\":\"x\"}},\"id\":\"2414\",\"type\":\"VBar\"},{\"attributes\":{\"children\":[{\"id\":\"2437\",\"type\":\"Row\"}]},\"id\":\"2438\",\"type\":\"Column\"},{\"attributes\":{\"toolbar\":{\"id\":\"2439\",\"type\":\"ProxyToolbar\"},\"toolbar_location\":\"above\"},\"id\":\"2440\",\"type\":\"ToolbarBox\"},{\"attributes\":{\"axis_label\":\"datetime\",\"formatter\":{\"id\":\"2421\",\"type\":\"CategoricalTickFormatter\"},\"major_label_orientation\":1,\"major_label_text_color\":{\"value\":null},\"major_label_text_font_size\":{\"value\":\"0px\"},\"major_tick_line_color\":{\"value\":null},\"minor_tick_line_color\":{\"value\":null},\"plot\":{\"id\":\"2379\",\"subtype\":\"Figure\",\"type\":\"Plot\"},\"ticker\":{\"id\":\"2389\",\"type\":\"CategoricalTicker\"}},\"id\":\"2388\",\"type\":\"CategoricalAxis\"},{\"attributes\":{},\"id\":\"2389\",\"type\":\"CategoricalTicker\"},{\"attributes\":{\"below\":[{\"id\":\"2388\",\"type\":\"CategoricalAxis\"}],\"left\":[{\"id\":\"2392\",\"type\":\"LinearAxis\"}],\"outline_line_color\":{\"value\":null},\"plot_height\":495,\"plot_width\":705,\"renderers\":[{\"id\":\"2388\",\"type\":\"CategoricalAxis\"},{\"id\":\"2391\",\"type\":\"Grid\"},{\"id\":\"2392\",\"type\":\"LinearAxis\"},{\"id\":\"2396\",\"type\":\"Grid\"},{\"id\":\"2405\",\"type\":\"BoxAnnotation\"},{\"id\":\"2424\",\"type\":\"Legend\"},{\"id\":\"2416\",\"type\":\"GlyphRenderer\"}],\"title\":null,\"toolbar\":{\"id\":\"2403\",\"type\":\"Toolbar\"},\"toolbar_location\":null,\"x_range\":{\"id\":\"2378\",\"type\":\"FactorRange\"},\"x_scale\":{\"id\":\"2384\",\"type\":\"CategoricalScale\"},\"y_range\":{\"id\":\"2382\",\"type\":\"DataRange1d\"},\"y_scale\":{\"id\":\"2386\",\"type\":\"LinearScale\"}},\"id\":\"2379\",\"subtype\":\"Figure\",\"type\":\"Plot\"},{\"attributes\":{},\"id\":\"2386\",\"type\":\"LinearScale\"},{\"attributes\":{},\"id\":\"2434\",\"type\":\"Selection\"},{\"attributes\":{\"label\":{\"field\":\"l\"},\"renderers\":[{\"id\":\"2416\",\"type\":\"GlyphRenderer\"}]},\"id\":\"2425\",\"type\":\"LegendItem\"},{\"attributes\":{},\"id\":\"2384\",\"type\":\"CategoricalScale\"},{\"attributes\":{\"children\":[{\"id\":\"2440\",\"type\":\"ToolbarBox\"},{\"id\":\"2438\",\"type\":\"Column\"}]},\"id\":\"2441\",\"type\":\"Column\"},{\"attributes\":{},\"id\":\"2400\",\"type\":\"SaveTool\"},{\"attributes\":{},\"id\":\"2393\",\"type\":\"BasicTicker\"},{\"attributes\":{\"callback\":null,\"tooltips\":[[\"datetime\",\"@x\"],[\"request_time\",\"@counts{0.00}\"]]},\"id\":\"2426\",\"type\":\"HoverTool\"},{\"attributes\":{},\"id\":\"2402\",\"type\":\"HelpTool\"},{\"attributes\":{},\"id\":\"2397\",\"type\":\"PanTool\"},{\"attributes\":{\"fill_alpha\":{\"value\":0.1},\"fill_color\":{\"value\":\"#1f77b4\"},\"line_alpha\":{\"value\":0.1},\"line_color\":{\"value\":\"#1f77b4\"},\"top\":{\"field\":\"counts\"},\"width\":{\"value\":0.925},\"x\":{\"field\":\"x\"}},\"id\":\"2415\",\"type\":\"VBar\"}],\"root_ids\":[\"2441\"]},\"title\":\"Bokeh Application\",\"version\":\"1.0.4\"}}';\n",
       "          var render_items = [{\"docid\":\"7ecf8f63-090f-4d9a-aead-ab38b9409a48\",\"roots\":{\"2441\":\"4b47e835-19bd-4cff-98ed-9c300d4342ba\"}}];\n",
       "          root.Bokeh.embed.embed_items(docs_json, render_items);\n",
       "        \n",
       "          }\n",
       "          if (root.Bokeh !== undefined) {\n",
       "            embed_document(root);\n",
       "          } else {\n",
       "            var attempts = 0;\n",
       "            var timer = setInterval(function(root) {\n",
       "              if (root.Bokeh !== undefined) {\n",
       "                embed_document(root);\n",
       "                clearInterval(timer);\n",
       "              }\n",
       "              attempts++;\n",
       "              if (attempts > 100) {\n",
       "                console.log(\"Bokeh: ERROR: Unable to run BokehJS code because BokehJS library is missing\");\n",
       "                clearInterval(timer);\n",
       "              }\n",
       "            }, 10, root)\n",
       "          }\n",
       "        })(window);\n",
       "      });\n",
       "    };\n",
       "    if (document.readyState != \"loading\") fn();\n",
       "    else document.addEventListener(\"DOMContentLoaded\", fn);\n",
       "  })();\n",
       "<\\/script>`\n",
       "                                var chartscript = el.childNodes[1]\n",
       "                                var s = document.createElement(\"script\")\n",
       "                                s.innerHTML = chartscript.innerHTML\n",
       "                                d.parentNode.insertBefore(s, d)\n",
       "                            }\n",
       "                        }\n",
       "                    }\n",
       "                    if (!window.Bokeh && !window.autoload){\n",
       "                        window.autoload=true;\n",
       "                        \n",
       "(function(root) {\n",
       "  function now() {\n",
       "    return new Date();\n",
       "  }\n",
       "\n",
       "  var force = 1;\n",
       "\n",
       "  if (typeof (root._bokeh_onload_callbacks) === \"undefined\" || force === true) {\n",
       "    root._bokeh_onload_callbacks = [];\n",
       "    root._bokeh_is_loading = undefined;\n",
       "  }\n",
       "\n",
       "  \n",
       "\n",
       "  \n",
       "  if (typeof (root._bokeh_timeout) === \"undefined\" || force === true) {\n",
       "    root._bokeh_timeout = Date.now() + 5000;\n",
       "    root._bokeh_failed_load = false;\n",
       "  }\n",
       "\n",
       "  var NB_LOAD_WARNING = {'data': {'text/html':\n",
       "     \"<div style='background-color: #fdd'>\\n\"+\n",
       "     \"<p>\\n\"+\n",
       "     \"BokehJS does not appear to have successfully loaded. If loading BokehJS from CDN, this \\n\"+\n",
       "     \"may be due to a slow or bad network connection. Possible fixes:\\n\"+\n",
       "     \"</p>\\n\"+\n",
       "     \"<ul>\\n\"+\n",
       "     \"<li>re-rerun `output_notebook()` to attempt to load from CDN again, or</li>\\n\"+\n",
       "     \"<li>use INLINE resources instead, as so:</li>\\n\"+\n",
       "     \"</ul>\\n\"+\n",
       "     \"<code>\\n\"+\n",
       "     \"from bokeh.resources import INLINE\\n\"+\n",
       "     \"output_notebook(resources=INLINE)\\n\"+\n",
       "     \"</code>\\n\"+\n",
       "     \"</div>\"}};\n",
       "\n",
       "  function display_loaded() {\n",
       "    var el = document.getElementById(\"\");\n",
       "    if (el != null) {\n",
       "      el.textContent = \"BokehJS is loading...\";\n",
       "    }\n",
       "    if (root.Bokeh !== undefined) {\n",
       "      if (el != null) {\n",
       "        el.textContent = \"BokehJS \" + root.Bokeh.version + \" successfully loaded.\";\n",
       "      }\n",
       "    } else if (Date.now() < root._bokeh_timeout) {\n",
       "      setTimeout(display_loaded, 100)\n",
       "    }\n",
       "  }\n",
       "\n",
       "\n",
       "  function run_callbacks() {\n",
       "    try {\n",
       "      root._bokeh_onload_callbacks.forEach(function(callback) { callback() });\n",
       "    }\n",
       "    finally {\n",
       "      delete root._bokeh_onload_callbacks\n",
       "    }\n",
       "    console.info(\"Bokeh: all callbacks have finished\");\n",
       "  }\n",
       "\n",
       "  function load_libs(js_urls, callback) {\n",
       "    root._bokeh_onload_callbacks.push(callback);\n",
       "    if (root._bokeh_is_loading > 0) {\n",
       "      console.log(\"Bokeh: BokehJS is being loaded, scheduling callback at\", now());\n",
       "      return null;\n",
       "    }\n",
       "    if (js_urls == null || js_urls.length === 0) {\n",
       "      run_callbacks();\n",
       "      return null;\n",
       "    }\n",
       "    console.log(\"Bokeh: BokehJS not loaded, scheduling load and callback at\", now());\n",
       "    root._bokeh_is_loading = js_urls.length;\n",
       "    for (var i = 0; i < js_urls.length; i++) {\n",
       "      var url = js_urls[i];\n",
       "      var s = document.createElement('script');\n",
       "      s.src = url;\n",
       "      s.async = false;\n",
       "      s.onreadystatechange = s.onload = function() {\n",
       "        root._bokeh_is_loading--;\n",
       "        if (root._bokeh_is_loading === 0) {\n",
       "          console.log(\"Bokeh: all BokehJS libraries loaded\");\n",
       "          run_callbacks()\n",
       "        }\n",
       "      };\n",
       "      s.onerror = function() {\n",
       "        console.warn(\"failed to load library \" + url);\n",
       "      };\n",
       "      console.log(\"Bokeh: injecting script tag for BokehJS library: \", url);\n",
       "      document.getElementsByTagName(\"head\")[0].appendChild(s);\n",
       "    }\n",
       "  };\n",
       "\n",
       "  var js_urls = [\"https://cdn.pydata.org/bokeh/release/bokeh-1.0.4.min.js\", \"https://cdn.pydata.org/bokeh/release/bokeh-widgets-1.0.4.min.js\", \"https://cdn.pydata.org/bokeh/release/bokeh-tables-1.0.4.min.js\", \"https://cdn.pydata.org/bokeh/release/bokeh-gl-1.0.4.min.js\"];\n",
       "\n",
       "  var inline_js = [\n",
       "    function(Bokeh) {\n",
       "      Bokeh.set_log_level(\"info\");\n",
       "    },\n",
       "    function(Bokeh) {\n",
       "      console.log(\"Bokeh: injecting CSS: https://cdn.pydata.org/bokeh/release/bokeh-1.0.4.min.css\");\n",
       "      Bokeh.embed.inject_css(\"https://cdn.pydata.org/bokeh/release/bokeh-1.0.4.min.css\");\n",
       "      console.log(\"Bokeh: injecting CSS: https://cdn.pydata.org/bokeh/release/bokeh-widgets-1.0.4.min.css\");\n",
       "      Bokeh.embed.inject_css(\"https://cdn.pydata.org/bokeh/release/bokeh-widgets-1.0.4.min.css\");\n",
       "      console.log(\"Bokeh: injecting CSS: https://cdn.pydata.org/bokeh/release/bokeh-tables-1.0.4.min.css\");\n",
       "      Bokeh.embed.inject_css(\"https://cdn.pydata.org/bokeh/release/bokeh-tables-1.0.4.min.css\");\n",
       "    }\n",
       "  ];\n",
       "\n",
       "  function run_inline_js() {\n",
       "    \n",
       "    if ((root.Bokeh !== undefined) || (force === true)) {\n",
       "      for (var i = 0; i < inline_js.length; i++) {\n",
       "        inline_js[i].call(root, root.Bokeh);\n",
       "      }} else if (Date.now() < root._bokeh_timeout) {\n",
       "      setTimeout(run_inline_js, 100);\n",
       "    } else if (!root._bokeh_failed_load) {\n",
       "      console.log(\"Bokeh: BokehJS failed to load within specified timeout.\");\n",
       "      root._bokeh_failed_load = true;\n",
       "    } else if (force !== true) {\n",
       "      var cell = $(document.getElementById(\"\")).parents('.cell').data().cell;\n",
       "      cell.output_area.append_execute_result(NB_LOAD_WARNING)\n",
       "    }\n",
       "\n",
       "  }\n",
       "\n",
       "  if (root._bokeh_is_loading === 0) {\n",
       "    console.log(\"Bokeh: BokehJS loaded, going straight to plotting\");\n",
       "    run_inline_js();\n",
       "  } else {\n",
       "    load_libs(js_urls, function() {\n",
       "      console.log(\"Bokeh: BokehJS plotting callback run at\", now());\n",
       "      run_inline_js();\n",
       "    });\n",
       "  }\n",
       "}(window));\n",
       "                    }\n",
       "                    setChartScript()\n",
       "                    </script>\n",
       "                    <script>\n",
       "  (function() {\n",
       "    var fn = function() {\n",
       "      Bokeh.safely(function() {\n",
       "        (function(root) {\n",
       "          function embed_document(root) {\n",
       "            \n",
       "          var docs_json = '{\"7ecf8f63-090f-4d9a-aead-ab38b9409a48\":{\"roots\":{\"references\":[{\"attributes\":{\"overlay\":{\"id\":\"2405\",\"type\":\"BoxAnnotation\"}},\"id\":\"2399\",\"type\":\"BoxZoomTool\"},{\"attributes\":{\"callback\":null,\"start\":0},\"id\":\"2382\",\"type\":\"DataRange1d\"},{\"attributes\":{\"grid_line_color\":{\"value\":null},\"plot\":{\"id\":\"2379\",\"subtype\":\"Figure\",\"type\":\"Plot\"},\"ticker\":{\"id\":\"2389\",\"type\":\"CategoricalTicker\"}},\"id\":\"2391\",\"type\":\"Grid\"},{\"attributes\":{},\"id\":\"2401\",\"type\":\"ResetTool\"},{\"attributes\":{\"source\":{\"id\":\"2377\",\"type\":\"ColumnDataSource\"}},\"id\":\"2417\",\"type\":\"CDSView\"},{\"attributes\":{},\"id\":\"2433\",\"type\":\"UnionRenderers\"},{\"attributes\":{\"data_source\":{\"id\":\"2377\",\"type\":\"ColumnDataSource\"},\"glyph\":{\"id\":\"2414\",\"type\":\"VBar\"},\"hover_glyph\":null,\"muted_glyph\":null,\"nonselection_glyph\":{\"id\":\"2415\",\"type\":\"VBar\"},\"selection_glyph\":null,\"view\":{\"id\":\"2417\",\"type\":\"CDSView\"}},\"id\":\"2416\",\"type\":\"GlyphRenderer\"},{\"attributes\":{},\"id\":\"2419\",\"type\":\"BasicTickFormatter\"},{\"attributes\":{\"end\":2,\"factors\":[\"kube-dal13-cr5ff87ab416044e60b8f8b19c1da44ccc-w1\",\"kube-dal13-cr5ff87ab416044e60b8f8b19c1da44ccc-w2\",\"kube-dal13-cr5ff87ab416044e60b8f8b19c1da44ccc-w3\",\"kube-dal13-cr5ff87ab416044e60b8f8b19c1da44ccc-w4\"],\"palette\":[\"#1f77b4\",\"#ff7f0e\",\"#2ca02c\",\"#d62728\"],\"start\":1},\"id\":\"2412\",\"type\":\"CategoricalColorMapper\"},{\"attributes\":{\"axis_label\":\"request_time\",\"formatter\":{\"id\":\"2419\",\"type\":\"BasicTickFormatter\"},\"minor_tick_line_color\":{\"value\":null},\"plot\":{\"id\":\"2379\",\"subtype\":\"Figure\",\"type\":\"Plot\"},\"ticker\":{\"id\":\"2393\",\"type\":\"BasicTicker\"}},\"id\":\"2392\",\"type\":\"LinearAxis\"},{\"attributes\":{\"children\":[{\"id\":\"2379\",\"subtype\":\"Figure\",\"type\":\"Plot\"}]},\"id\":\"2437\",\"type\":\"Row\"},{\"attributes\":{},\"id\":\"2421\",\"type\":\"CategoricalTickFormatter\"},{\"attributes\":{\"items\":[{\"id\":\"2425\",\"type\":\"LegendItem\"}],\"location\":\"top_left\",\"plot\":{\"id\":\"2379\",\"subtype\":\"Figure\",\"type\":\"Plot\"}},\"id\":\"2424\",\"type\":\"Legend\"},{\"attributes\":{\"dimension\":1,\"plot\":{\"id\":\"2379\",\"subtype\":\"Figure\",\"type\":\"Plot\"},\"ticker\":{\"id\":\"2393\",\"type\":\"BasicTicker\"}},\"id\":\"2396\",\"type\":\"Grid\"},{\"attributes\":{\"tools\":[{\"id\":\"2397\",\"type\":\"PanTool\"},{\"id\":\"2398\",\"type\":\"WheelZoomTool\"},{\"id\":\"2399\",\"type\":\"BoxZoomTool\"},{\"id\":\"2400\",\"type\":\"SaveTool\"},{\"id\":\"2401\",\"type\":\"ResetTool\"},{\"id\":\"2402\",\"type\":\"HelpTool\"},{\"id\":\"2426\",\"type\":\"HoverTool\"}]},\"id\":\"2439\",\"type\":\"ProxyToolbar\"},{\"attributes\":{\"bottom_units\":\"screen\",\"fill_alpha\":{\"value\":0.5},\"fill_color\":{\"value\":\"lightgrey\"},\"left_units\":\"screen\",\"level\":\"overlay\",\"line_alpha\":{\"value\":1.0},\"line_color\":{\"value\":\"black\"},\"line_dash\":[4,4],\"line_width\":{\"value\":2},\"plot\":null,\"render_mode\":\"css\",\"right_units\":\"screen\",\"top_units\":\"screen\"},\"id\":\"2405\",\"type\":\"BoxAnnotation\"},{\"attributes\":{},\"id\":\"2398\",\"type\":\"WheelZoomTool\"},{\"attributes\":{\"callback\":null,\"data\":{\"counts\":[0.0,0.0,52.80607525693123,593.9156444589084,12.34782727176165,8.834577881952981,153.71147058890534,271.8299284609535,162.70053219524243,168.7089249429293,0.0,0.0,146.12653692878166,89.82754548674993,0.0,0.0,490.4969537729284,760.6269229065808,0.0,0.0,69.22983097638038,9.429920542032143,0.0,0.0,0.08397569627343768,0.0854396648110703,0.0,0.0,0.07735157297664595,0.0772876806071939,0.0,0.0],\"l\":[\"kube-dal13-cr5ff87ab416044e60b8f8b19c1da44ccc-w1\",\"kube-dal13-cr5ff87ab416044e60b8f8b19c1da44ccc-w2\",\"kube-dal13-cr5ff87ab416044e60b8f8b19c1da44ccc-w3\",\"kube-dal13-cr5ff87ab416044e60b8f8b19c1da44ccc-w4\",\"kube-dal13-cr5ff87ab416044e60b8f8b19c1da44ccc-w1\",\"kube-dal13-cr5ff87ab416044e60b8f8b19c1da44ccc-w2\",\"kube-dal13-cr5ff87ab416044e60b8f8b19c1da44ccc-w3\",\"kube-dal13-cr5ff87ab416044e60b8f8b19c1da44ccc-w4\",\"kube-dal13-cr5ff87ab416044e60b8f8b19c1da44ccc-w1\",\"kube-dal13-cr5ff87ab416044e60b8f8b19c1da44ccc-w2\",\"kube-dal13-cr5ff87ab416044e60b8f8b19c1da44ccc-w3\",\"kube-dal13-cr5ff87ab416044e60b8f8b19c1da44ccc-w4\",\"kube-dal13-cr5ff87ab416044e60b8f8b19c1da44ccc-w1\",\"kube-dal13-cr5ff87ab416044e60b8f8b19c1da44ccc-w2\",\"kube-dal13-cr5ff87ab416044e60b8f8b19c1da44ccc-w3\",\"kube-dal13-cr5ff87ab416044e60b8f8b19c1da44ccc-w4\",\"kube-dal13-cr5ff87ab416044e60b8f8b19c1da44ccc-w1\",\"kube-dal13-cr5ff87ab416044e60b8f8b19c1da44ccc-w2\",\"kube-dal13-cr5ff87ab416044e60b8f8b19c1da44ccc-w3\",\"kube-dal13-cr5ff87ab416044e60b8f8b19c1da44ccc-w4\",\"kube-dal13-cr5ff87ab416044e60b8f8b19c1da44ccc-w1\",\"kube-dal13-cr5ff87ab416044e60b8f8b19c1da44ccc-w2\",\"kube-dal13-cr5ff87ab416044e60b8f8b19c1da44ccc-w3\",\"kube-dal13-cr5ff87ab416044e60b8f8b19c1da44ccc-w4\",\"kube-dal13-cr5ff87ab416044e60b8f8b19c1da44ccc-w1\",\"kube-dal13-cr5ff87ab416044e60b8f8b19c1da44ccc-w2\",\"kube-dal13-cr5ff87ab416044e60b8f8b19c1da44ccc-w3\",\"kube-dal13-cr5ff87ab416044e60b8f8b19c1da44ccc-w4\",\"kube-dal13-cr5ff87ab416044e60b8f8b19c1da44ccc-w1\",\"kube-dal13-cr5ff87ab416044e60b8f8b19c1da44ccc-w2\",\"kube-dal13-cr5ff87ab416044e60b8f8b19c1da44ccc-w3\",\"kube-dal13-cr5ff87ab416044e60b8f8b19c1da44ccc-w4\"],\"x\":[[\"2019-08-11\",\"kube-dal13-cr5ff87ab416044e60b8f8b19c1da44ccc-w1\"],[\"2019-08-11\",\"kube-dal13-cr5ff87ab416044e60b8f8b19c1da44ccc-w2\"],[\"2019-08-11\",\"kube-dal13-cr5ff87ab416044e60b8f8b19c1da44ccc-w3\"],[\"2019-08-11\",\"kube-dal13-cr5ff87ab416044e60b8f8b19c1da44ccc-w4\"],[\"2019-08-12\",\"kube-dal13-cr5ff87ab416044e60b8f8b19c1da44ccc-w1\"],[\"2019-08-12\",\"kube-dal13-cr5ff87ab416044e60b8f8b19c1da44ccc-w2\"],[\"2019-08-12\",\"kube-dal13-cr5ff87ab416044e60b8f8b19c1da44ccc-w3\"],[\"2019-08-12\",\"kube-dal13-cr5ff87ab416044e60b8f8b19c1da44ccc-w4\"],[\"2019-08-13\",\"kube-dal13-cr5ff87ab416044e60b8f8b19c1da44ccc-w1\"],[\"2019-08-13\",\"kube-dal13-cr5ff87ab416044e60b8f8b19c1da44ccc-w2\"],[\"2019-08-13\",\"kube-dal13-cr5ff87ab416044e60b8f8b19c1da44ccc-w3\"],[\"2019-08-13\",\"kube-dal13-cr5ff87ab416044e60b8f8b19c1da44ccc-w4\"],[\"2019-08-14\",\"kube-dal13-cr5ff87ab416044e60b8f8b19c1da44ccc-w1\"],[\"2019-08-14\",\"kube-dal13-cr5ff87ab416044e60b8f8b19c1da44ccc-w2\"],[\"2019-08-14\",\"kube-dal13-cr5ff87ab416044e60b8f8b19c1da44ccc-w3\"],[\"2019-08-14\",\"kube-dal13-cr5ff87ab416044e60b8f8b19c1da44ccc-w4\"],[\"2019-08-15\",\"kube-dal13-cr5ff87ab416044e60b8f8b19c1da44ccc-w1\"],[\"2019-08-15\",\"kube-dal13-cr5ff87ab416044e60b8f8b19c1da44ccc-w2\"],[\"2019-08-15\",\"kube-dal13-cr5ff87ab416044e60b8f8b19c1da44ccc-w3\"],[\"2019-08-15\",\"kube-dal13-cr5ff87ab416044e60b8f8b19c1da44ccc-w4\"],[\"2019-08-16\",\"kube-dal13-cr5ff87ab416044e60b8f8b19c1da44ccc-w1\"],[\"2019-08-16\",\"kube-dal13-cr5ff87ab416044e60b8f8b19c1da44ccc-w2\"],[\"2019-08-16\",\"kube-dal13-cr5ff87ab416044e60b8f8b19c1da44ccc-w3\"],[\"2019-08-16\",\"kube-dal13-cr5ff87ab416044e60b8f8b19c1da44ccc-w4\"],[\"2019-08-17\",\"kube-dal13-cr5ff87ab416044e60b8f8b19c1da44ccc-w1\"],[\"2019-08-17\",\"kube-dal13-cr5ff87ab416044e60b8f8b19c1da44ccc-w2\"],[\"2019-08-17\",\"kube-dal13-cr5ff87ab416044e60b8f8b19c1da44ccc-w3\"],[\"2019-08-17\",\"kube-dal13-cr5ff87ab416044e60b8f8b19c1da44ccc-w4\"],[\"2019-08-18\",\"kube-dal13-cr5ff87ab416044e60b8f8b19c1da44ccc-w1\"],[\"2019-08-18\",\"kube-dal13-cr5ff87ab416044e60b8f8b19c1da44ccc-w2\"],[\"2019-08-18\",\"kube-dal13-cr5ff87ab416044e60b8f8b19c1da44ccc-w3\"],[\"2019-08-18\",\"kube-dal13-cr5ff87ab416044e60b8f8b19c1da44ccc-w4\"]]},\"selected\":{\"id\":\"2434\",\"type\":\"Selection\"},\"selection_policy\":{\"id\":\"2433\",\"type\":\"UnionRenderers\"}},\"id\":\"2377\",\"type\":\"ColumnDataSource\"},{\"attributes\":{\"callback\":null,\"factors\":[[\"2019-08-11\",\"kube-dal13-cr5ff87ab416044e60b8f8b19c1da44ccc-w1\"],[\"2019-08-11\",\"kube-dal13-cr5ff87ab416044e60b8f8b19c1da44ccc-w2\"],[\"2019-08-11\",\"kube-dal13-cr5ff87ab416044e60b8f8b19c1da44ccc-w3\"],[\"2019-08-11\",\"kube-dal13-cr5ff87ab416044e60b8f8b19c1da44ccc-w4\"],[\"2019-08-12\",\"kube-dal13-cr5ff87ab416044e60b8f8b19c1da44ccc-w1\"],[\"2019-08-12\",\"kube-dal13-cr5ff87ab416044e60b8f8b19c1da44ccc-w2\"],[\"2019-08-12\",\"kube-dal13-cr5ff87ab416044e60b8f8b19c1da44ccc-w3\"],[\"2019-08-12\",\"kube-dal13-cr5ff87ab416044e60b8f8b19c1da44ccc-w4\"],[\"2019-08-13\",\"kube-dal13-cr5ff87ab416044e60b8f8b19c1da44ccc-w1\"],[\"2019-08-13\",\"kube-dal13-cr5ff87ab416044e60b8f8b19c1da44ccc-w2\"],[\"2019-08-13\",\"kube-dal13-cr5ff87ab416044e60b8f8b19c1da44ccc-w3\"],[\"2019-08-13\",\"kube-dal13-cr5ff87ab416044e60b8f8b19c1da44ccc-w4\"],[\"2019-08-14\",\"kube-dal13-cr5ff87ab416044e60b8f8b19c1da44ccc-w1\"],[\"2019-08-14\",\"kube-dal13-cr5ff87ab416044e60b8f8b19c1da44ccc-w2\"],[\"2019-08-14\",\"kube-dal13-cr5ff87ab416044e60b8f8b19c1da44ccc-w3\"],[\"2019-08-14\",\"kube-dal13-cr5ff87ab416044e60b8f8b19c1da44ccc-w4\"],[\"2019-08-15\",\"kube-dal13-cr5ff87ab416044e60b8f8b19c1da44ccc-w1\"],[\"2019-08-15\",\"kube-dal13-cr5ff87ab416044e60b8f8b19c1da44ccc-w2\"],[\"2019-08-15\",\"kube-dal13-cr5ff87ab416044e60b8f8b19c1da44ccc-w3\"],[\"2019-08-15\",\"kube-dal13-cr5ff87ab416044e60b8f8b19c1da44ccc-w4\"],[\"2019-08-16\",\"kube-dal13-cr5ff87ab416044e60b8f8b19c1da44ccc-w1\"],[\"2019-08-16\",\"kube-dal13-cr5ff87ab416044e60b8f8b19c1da44ccc-w2\"],[\"2019-08-16\",\"kube-dal13-cr5ff87ab416044e60b8f8b19c1da44ccc-w3\"],[\"2019-08-16\",\"kube-dal13-cr5ff87ab416044e60b8f8b19c1da44ccc-w4\"],[\"2019-08-17\",\"kube-dal13-cr5ff87ab416044e60b8f8b19c1da44ccc-w1\"],[\"2019-08-17\",\"kube-dal13-cr5ff87ab416044e60b8f8b19c1da44ccc-w2\"],[\"2019-08-17\",\"kube-dal13-cr5ff87ab416044e60b8f8b19c1da44ccc-w3\"],[\"2019-08-17\",\"kube-dal13-cr5ff87ab416044e60b8f8b19c1da44ccc-w4\"],[\"2019-08-18\",\"kube-dal13-cr5ff87ab416044e60b8f8b19c1da44ccc-w1\"],[\"2019-08-18\",\"kube-dal13-cr5ff87ab416044e60b8f8b19c1da44ccc-w2\"],[\"2019-08-18\",\"kube-dal13-cr5ff87ab416044e60b8f8b19c1da44ccc-w3\"],[\"2019-08-18\",\"kube-dal13-cr5ff87ab416044e60b8f8b19c1da44ccc-w4\"]],\"range_padding\":0.1},\"id\":\"2378\",\"type\":\"FactorRange\"},{\"attributes\":{\"active_drag\":\"auto\",\"active_inspect\":\"auto\",\"active_multi\":null,\"active_scroll\":\"auto\",\"active_tap\":\"auto\",\"tools\":[{\"id\":\"2397\",\"type\":\"PanTool\"},{\"id\":\"2398\",\"type\":\"WheelZoomTool\"},{\"id\":\"2399\",\"type\":\"BoxZoomTool\"},{\"id\":\"2400\",\"type\":\"SaveTool\"},{\"id\":\"2401\",\"type\":\"ResetTool\"},{\"id\":\"2402\",\"type\":\"HelpTool\"},{\"id\":\"2426\",\"type\":\"HoverTool\"}]},\"id\":\"2403\",\"type\":\"Toolbar\"},{\"attributes\":{\"fill_color\":{\"field\":\"x\",\"transform\":{\"id\":\"2412\",\"type\":\"CategoricalColorMapper\"}},\"line_color\":{\"field\":\"x\",\"transform\":{\"id\":\"2412\",\"type\":\"CategoricalColorMapper\"}},\"top\":{\"field\":\"counts\"},\"width\":{\"value\":0.925},\"x\":{\"field\":\"x\"}},\"id\":\"2414\",\"type\":\"VBar\"},{\"attributes\":{\"children\":[{\"id\":\"2437\",\"type\":\"Row\"}]},\"id\":\"2438\",\"type\":\"Column\"},{\"attributes\":{\"toolbar\":{\"id\":\"2439\",\"type\":\"ProxyToolbar\"},\"toolbar_location\":\"above\"},\"id\":\"2440\",\"type\":\"ToolbarBox\"},{\"attributes\":{\"axis_label\":\"datetime\",\"formatter\":{\"id\":\"2421\",\"type\":\"CategoricalTickFormatter\"},\"major_label_orientation\":1,\"major_label_text_color\":{\"value\":null},\"major_label_text_font_size\":{\"value\":\"0px\"},\"major_tick_line_color\":{\"value\":null},\"minor_tick_line_color\":{\"value\":null},\"plot\":{\"id\":\"2379\",\"subtype\":\"Figure\",\"type\":\"Plot\"},\"ticker\":{\"id\":\"2389\",\"type\":\"CategoricalTicker\"}},\"id\":\"2388\",\"type\":\"CategoricalAxis\"},{\"attributes\":{},\"id\":\"2389\",\"type\":\"CategoricalTicker\"},{\"attributes\":{\"below\":[{\"id\":\"2388\",\"type\":\"CategoricalAxis\"}],\"left\":[{\"id\":\"2392\",\"type\":\"LinearAxis\"}],\"outline_line_color\":{\"value\":null},\"plot_height\":495,\"plot_width\":705,\"renderers\":[{\"id\":\"2388\",\"type\":\"CategoricalAxis\"},{\"id\":\"2391\",\"type\":\"Grid\"},{\"id\":\"2392\",\"type\":\"LinearAxis\"},{\"id\":\"2396\",\"type\":\"Grid\"},{\"id\":\"2405\",\"type\":\"BoxAnnotation\"},{\"id\":\"2424\",\"type\":\"Legend\"},{\"id\":\"2416\",\"type\":\"GlyphRenderer\"}],\"title\":null,\"toolbar\":{\"id\":\"2403\",\"type\":\"Toolbar\"},\"toolbar_location\":null,\"x_range\":{\"id\":\"2378\",\"type\":\"FactorRange\"},\"x_scale\":{\"id\":\"2384\",\"type\":\"CategoricalScale\"},\"y_range\":{\"id\":\"2382\",\"type\":\"DataRange1d\"},\"y_scale\":{\"id\":\"2386\",\"type\":\"LinearScale\"}},\"id\":\"2379\",\"subtype\":\"Figure\",\"type\":\"Plot\"},{\"attributes\":{},\"id\":\"2386\",\"type\":\"LinearScale\"},{\"attributes\":{},\"id\":\"2434\",\"type\":\"Selection\"},{\"attributes\":{\"label\":{\"field\":\"l\"},\"renderers\":[{\"id\":\"2416\",\"type\":\"GlyphRenderer\"}]},\"id\":\"2425\",\"type\":\"LegendItem\"},{\"attributes\":{},\"id\":\"2384\",\"type\":\"CategoricalScale\"},{\"attributes\":{\"children\":[{\"id\":\"2440\",\"type\":\"ToolbarBox\"},{\"id\":\"2438\",\"type\":\"Column\"}]},\"id\":\"2441\",\"type\":\"Column\"},{\"attributes\":{},\"id\":\"2400\",\"type\":\"SaveTool\"},{\"attributes\":{},\"id\":\"2393\",\"type\":\"BasicTicker\"},{\"attributes\":{\"callback\":null,\"tooltips\":[[\"datetime\",\"@x\"],[\"request_time\",\"@counts{0.00}\"]]},\"id\":\"2426\",\"type\":\"HoverTool\"},{\"attributes\":{},\"id\":\"2402\",\"type\":\"HelpTool\"},{\"attributes\":{},\"id\":\"2397\",\"type\":\"PanTool\"},{\"attributes\":{\"fill_alpha\":{\"value\":0.1},\"fill_color\":{\"value\":\"#1f77b4\"},\"line_alpha\":{\"value\":0.1},\"line_color\":{\"value\":\"#1f77b4\"},\"top\":{\"field\":\"counts\"},\"width\":{\"value\":0.925},\"x\":{\"field\":\"x\"}},\"id\":\"2415\",\"type\":\"VBar\"}],\"root_ids\":[\"2441\"]},\"title\":\"Bokeh Application\",\"version\":\"1.0.4\"}}';\n",
       "          var render_items = [{\"docid\":\"7ecf8f63-090f-4d9a-aead-ab38b9409a48\",\"roots\":{\"2441\":\"4b47e835-19bd-4cff-98ed-9c300d4342ba\"}}];\n",
       "          root.Bokeh.embed.embed_items(docs_json, render_items);\n",
       "        \n",
       "          }\n",
       "          if (root.Bokeh !== undefined) {\n",
       "            embed_document(root);\n",
       "          } else {\n",
       "            var attempts = 0;\n",
       "            var timer = setInterval(function(root) {\n",
       "              if (root.Bokeh !== undefined) {\n",
       "                embed_document(root);\n",
       "                clearInterval(timer);\n",
       "              }\n",
       "              attempts++;\n",
       "              if (attempts > 100) {\n",
       "                console.log(\"Bokeh: ERROR: Unable to run BokehJS code because BokehJS library is missing\");\n",
       "                clearInterval(timer);\n",
       "              }\n",
       "            }, 10, root)\n",
       "          }\n",
       "        })(window);\n",
       "      });\n",
       "    };\n",
       "    if (document.readyState != \"loading\") fn();\n",
       "    else document.addEventListener(\"DOMContentLoaded\", fn);\n",
       "  })();\n",
       "</script><div style=\"padding:5px\" id=\"pd-bkchartdiv-cda92166\">\n",
       "<div class=\"bk-root\" id=\"4b47e835-19bd-4cff-98ed-9c300d4342ba\" data-root-id=\"2441\"></div></div>\n",
       "                    \n",
       "                \n",
       "        </div>"
      ],
      "text/plain": [
       "<IPython.core.display.HTML object>"
      ]
     },
     "metadata": {},
     "output_type": "display_data"
    }
   ],
   "source": [
    "display(daily_summary)"
   ]
  },
  {
   "cell_type": "markdown",
   "metadata": {},
   "source": [
    "These are pretty high response times. However, we retrieved average request times and averages are affected by outliers, especially when probably most response times are sub-second and then you have some that take minutes. So let's just look at the long-running ones."
   ]
  },
  {
   "cell_type": "code",
   "execution_count": null,
   "metadata": {
    "pixiedust": {
     "displayParams": {
      "aggregation": "SUM",
      "chartsize": "74",
      "charttype": "subplots",
      "clusterby": "status",
      "filter": "{\"field\": \"request_time\", \"constraint\": \"greater_than\", \"value\": \"2.5\", \"case_matter\": \"False\", \"regex\": \"False\"}",
      "handlerId": "barChart",
      "keyFields": "datetime",
      "no_margin": "true",
      "title": "Number of requests per day and worker node (only long-running requests > 2.5s)",
      "valueFields": "status_count"
     }
    },
    "scrolled": false
   },
   "outputs": [
    {
     "data": {
      "text/html": [
       "<style type=\"text/css\">.pd_warning{display:none;}</style><div class=\"pd_warning\"><em>Hey, there's something awesome here! To see it, open this notebook outside GitHub, in a viewer like Jupyter</em></div>"
      ],
      "text/plain": [
       "<IPython.core.display.HTML object>"
      ]
     },
     "metadata": {
      "pixieapp_metadata": null
     },
     "output_type": "display_data"
    }
   ],
   "source": [
    "display(daily_summary)"
   ]
  },
  {
   "cell_type": "markdown",
   "metadata": {},
   "source": [
    "So we have about 20 to 120 long-running requests every day returning 101. So for now we take out these requests, to see the average request times for the majority of the requests on the system. And that looks much better, now we see the expected sub-second response times:"
   ]
  },
  {
   "cell_type": "code",
   "execution_count": null,
   "metadata": {
    "pixiedust": {
     "displayParams": {
      "aggregation": "AVG",
      "clusterby": "node",
      "filter": "{\"field\": \"request_time\", \"constraint\": \"less_than\", \"value\": \"2.5\", \"case_matter\": \"False\", \"regex\": \"False\"}",
      "handlerId": "barChart",
      "keyFields": "datetime",
      "no_margin": "true",
      "title": "Average request times by day and worker node (without the long-running requests)",
      "valueFields": "request_time"
     }
    }
   },
   "outputs": [
    {
     "data": {
      "text/html": [
       "<style type=\"text/css\">.pd_warning{display:none;}</style><div class=\"pd_warning\"><em>Hey, there's something awesome here! To see it, open this notebook outside GitHub, in a viewer like Jupyter</em></div>"
      ],
      "text/plain": [
       "<IPython.core.display.HTML object>"
      ]
     },
     "metadata": {
      "pixieapp_metadata": null
     },
     "output_type": "display_data"
    }
   ],
   "source": [
    "display(daily_summary)"
   ]
  },
  {
   "cell_type": "markdown",
   "metadata": {},
   "source": [
    "<hr>\n",
    "Copyright &copy; IBM Corp. 2019. This notebook and its source code are released under the terms of the MIT License."
   ]
  }
 ],
 "metadata": {
  "kernelspec": {
   "display_name": "Python 3.6",
   "language": "python",
   "name": "python3"
  },
  "language_info": {
   "codemirror_mode": {
    "name": "ipython",
    "version": 3
   },
   "file_extension": ".py",
   "mimetype": "text/x-python",
   "name": "python",
   "nbconvert_exporter": "python",
   "pygments_lexer": "ipython3",
   "version": "3.6.8"
  }
 },
 "nbformat": 4,
 "nbformat_minor": 1
}
